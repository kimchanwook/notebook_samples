{
 "cells": [
  {
   "cell_type": "code",
   "execution_count": 9,
   "metadata": {},
   "outputs": [
    {
     "name": "stderr",
     "output_type": "stream",
     "text": [
      "C:\\Users\\musta\\AppData\\Local\\Temp\\ipykernel_11392\\2210132131.py:14: DeprecationWarning: Importing display from IPython.core.display is deprecated since IPython 7.14, please import from IPython display\n",
      "  from IPython.core.display import display, HTML, Image\n"
     ]
    }
   ],
   "source": [
    "import uproot\n",
    "import sys\n",
    "import glob\n",
    "import os\n",
    "import struct\n",
    "import time\n",
    "import csv\n",
    "import pickle\n",
    "import math\n",
    "import gc\n",
    "import pandas as pd\n",
    "# import sympy\n",
    "\n",
    "from IPython.core.display import display, HTML, Image\n",
    "\n",
    "import numpy             as np\n",
    "import matplotlib.pyplot as plt\n",
    "\n",
    "import scipy\n",
    "from   scipy             import interpolate\n",
    "from   scipy.interpolate import CubicSpline, splev, splrep, interp1d, PPoly\n",
    "from   scipy.optimize    import curve_fit, least_squares, minimize\n",
    "from   scipy.signal      import find_peaks\n",
    "\n",
    "import matplotlib             as mpl\n",
    "import matplotlib.pyplot      as plt\n",
    "\n",
    "#Plotting Config\n",
    "mpl.style.use(\"default\")\n",
    "mpl.rcParams[\"axes.facecolor\"] = \"#EAEAF2\" \n",
    "mpl.rcParams['figure.dpi']     = 100 \n",
    "mpl.rcParams['savefig.dpi']    = 100 "
   ]
  },
  {
   "cell_type": "markdown",
   "metadata": {},
   "source": [
    "# Python Programming "
   ]
  },
  {
   "cell_type": "markdown",
   "metadata": {
    "heading_collapsed": true
   },
   "source": [
    "#### Functions "
   ]
  },
  {
   "cell_type": "markdown",
   "metadata": {
    "heading_collapsed": true,
    "hidden": true
   },
   "source": [
    "###### Assign function to a diff name"
   ]
  },
  {
   "cell_type": "code",
   "execution_count": 3,
   "metadata": {
    "hidden": true
   },
   "outputs": [],
   "source": [
    "def function1():\n",
    "    print(\"It's working\")"
   ]
  },
  {
   "cell_type": "code",
   "execution_count": 6,
   "metadata": {
    "hidden": true
   },
   "outputs": [],
   "source": [
    "assign_func = function1"
   ]
  },
  {
   "cell_type": "code",
   "execution_count": null,
   "metadata": {
    "hidden": true
   },
   "outputs": [],
   "source": [
    "assign_func()"
   ]
  },
  {
   "cell_type": "markdown",
   "metadata": {
    "heading_collapsed": true,
    "hidden": true
   },
   "source": [
    "###### Arguemt type hint NOTATION"
   ]
  },
  {
   "cell_type": "code",
   "execution_count": 442,
   "metadata": {
    "hidden": true
   },
   "outputs": [],
   "source": [
    "#The : int and -> str NOTATION is just for documentation purpose: Support for type hints\n",
    "#    -so that the coder can understand the code faster\n",
    "def tryyy(a: int=1, aa:int=1) -> str:\n",
    "        \n",
    "    b = \"{:d}\".format(a) + \"{:d}\".format(aa)\n",
    "    \n",
    "    return b"
   ]
  },
  {
   "cell_type": "code",
   "execution_count": 81,
   "metadata": {
    "hidden": true
   },
   "outputs": [],
   "source": [
    "#When not returning anything\n",
    "def tryyy(a: int=1, aa:int=1) -> None:\n",
    "        \n",
    "    b = \"{:d}\".format(a) + \"{:d}\".format(aa)\n",
    "    \n",
    "    print(b)"
   ]
  },
  {
   "cell_type": "code",
   "execution_count": 86,
   "metadata": {
    "hidden": true
   },
   "outputs": [],
   "source": [
    "#When returnning multiple objs\n",
    "def tryyy(a: int=1, aa:int=1) -> str and str:\n",
    "        \n",
    "    b = \"{:d}\".format(a) + \"{:d}\".format(aa)\n",
    "    c = \"{:d}\".format(a) + \"{:d}\".format(aa)\n",
    "    \n",
    "    return b, c"
   ]
  },
  {
   "cell_type": "code",
   "execution_count": null,
   "metadata": {
    "hidden": true
   },
   "outputs": [],
   "source": [
    "tryyy()"
   ]
  },
  {
   "cell_type": "code",
   "execution_count": null,
   "metadata": {
    "hidden": true
   },
   "outputs": [],
   "source": [
    "tryyy(1, 2)"
   ]
  },
  {
   "cell_type": "markdown",
   "metadata": {
    "heading_collapsed": true,
    "hidden": true
   },
   "source": [
    "###### Syntax for FUNCTION Annotations + Declaration (PEP 526)"
   ]
  },
  {
   "cell_type": "code",
   "execution_count": null,
   "metadata": {
    "hidden": true
   },
   "outputs": [],
   "source": [
    "#forward ia the name of the function\n",
    "#Callable[] is the type: any function that takes ... and returns Any\n",
    "#Initially the function forward is set to be _forward_unimplemented function which is defined somewhere\n",
    "forward: Callable[..., Any] = _forward_unimplemented"
   ]
  },
  {
   "cell_type": "code",
   "execution_count": null,
   "metadata": {
    "hidden": true
   },
   "outputs": [],
   "source": [
    "from typing import Callable, Any\n",
    "\n",
    "class A:\n",
    "    def __init__(self, x):\n",
    "        print(\"inside __init__()\")\n",
    "        self.y = x        \n",
    "        \n",
    "    def _call_impl(self, n):\n",
    "        res = 0\n",
    "        print(\"inside __call__()\")\n",
    "        print(f\"adding {n} to the value of y\")\n",
    "        res = self.y + n\n",
    "        return res\n",
    "    \n",
    "    __call__:Callable[..., Any] = _call_impl\n"
   ]
  },
  {
   "cell_type": "code",
   "execution_count": null,
   "metadata": {
    "hidden": true
   },
   "outputs": [],
   "source": [
    "a = A(3)\n",
    "\n",
    "r = a(5)\n",
    "print(r)"
   ]
  },
  {
   "cell_type": "markdown",
   "metadata": {
    "heading_collapsed": true,
    "hidden": true
   },
   "source": [
    "###### Docstring Converntion"
   ]
  },
  {
   "cell_type": "code",
   "execution_count": 98,
   "metadata": {
    "hidden": true
   },
   "outputs": [],
   "source": [
    "def docstringsample(a:int=0, b:int=0, c:int=0) -> int and int:\n",
    "    \"\"\"\n",
    "    :type a: int\n",
    "    :type b: int\n",
    "    :type c: int\n",
    "    \"\"\"\n",
    "    \n",
    "    return a and b"
   ]
  },
  {
   "cell_type": "markdown",
   "metadata": {
    "heading_collapsed": true,
    "hidden": true
   },
   "source": [
    "###### Inner function"
   ]
  },
  {
   "cell_type": "code",
   "execution_count": null,
   "metadata": {
    "hidden": true
   },
   "outputs": [],
   "source": [
    "def outer(num1):\n",
    "    def inner_increment(num1):  # Hidden from outer code\n",
    "        return num1 + 1\n",
    "    num2 = inner_increment(num1)\n",
    "    print(num1, num2)\n",
    "\n",
    "inner_increment(10)"
   ]
  },
  {
   "cell_type": "code",
   "execution_count": 32,
   "metadata": {
    "hidden": true
   },
   "outputs": [
    {
     "name": "stdout",
     "output_type": "stream",
     "text": [
      "10 11\n"
     ]
    }
   ],
   "source": [
    "#Call outer function to call inner function\n",
    "outer(10)"
   ]
  },
  {
   "cell_type": "code",
   "execution_count": null,
   "metadata": {
    "hidden": true
   },
   "outputs": [],
   "source": [
    "#Example2\n",
    "def factorial(number):\n",
    "\n",
    "    # Error handling\n",
    "    if not isinstance(number, int):\n",
    "        raise TypeError(\"Sorry. 'number' must be an integer.\")\n",
    "    if not number >= 0:\n",
    "        raise ValueError(\"Sorry. 'number' must be zero or positive.\")\n",
    "\n",
    "    def inner_factorial(number):\n",
    "        if number <= 1:\n",
    "            return 1\n",
    "        return number*inner_factorial(number-1)\n",
    "    return inner_factorial(number)\n",
    "\n",
    "# Call the outer function.\n",
    "print(factorial(4))\n"
   ]
  },
  {
   "cell_type": "markdown",
   "metadata": {
    "heading_collapsed": true,
    "hidden": true
   },
   "source": [
    "###### lambda function"
   ]
  },
  {
   "cell_type": "code",
   "execution_count": null,
   "metadata": {
    "hidden": true
   },
   "outputs": [],
   "source": [
    "g = lambda x: x*x*x \n",
    "print(g(2)) "
   ]
  },
  {
   "cell_type": "markdown",
   "metadata": {
    "heading_collapsed": true,
    "hidden": true
   },
   "source": [
    "######  Built-In  - Assertion "
   ]
  },
  {
   "cell_type": "code",
   "execution_count": null,
   "metadata": {
    "hidden": true
   },
   "outputs": [],
   "source": [
    "\"\"\"\n",
    "Assertions are simply boolean expressions that checks if the conditions return true\n",
    "or not. If it is true, the program does nothing and move to the next line of code.\n",
    "However, if it's false, the program stops and throws an error\n",
    "\"\"\"\n",
    "\n",
    "\"\"\"\n",
    "assert [condition]\n",
    "assert [condition], [error message]\n",
    "\"\"\""
   ]
  },
  {
   "cell_type": "code",
   "execution_count": null,
   "metadata": {
    "hidden": true
   },
   "outputs": [],
   "source": [
    "def avg(marks):\n",
    "    assert len(marks) != 0,\"List is empty.\"\n",
    "    return sum(marks)/len(marks)\n",
    "\n",
    "mark2 = [55,88,78,90,79]\n",
    "print(\"Average of mark2:\",avg(mark2))\n",
    "\n",
    "mark1 = []\n",
    "print(\"Average of mark1:\",avg(mark1))"
   ]
  },
  {
   "cell_type": "markdown",
   "metadata": {
    "heading_collapsed": true,
    "hidden": true
   },
   "source": [
    "###### Order of Argument when calling func "
   ]
  },
  {
   "cell_type": "code",
   "execution_count": null,
   "metadata": {
    "hidden": true
   },
   "outputs": [],
   "source": [
    "\"\"\"\n",
    "def example(a, b, c=None, r=\"w\" , d=[], *ae,  **ab):\n",
    "\n",
    "1. positional parameter or non-default parameter i.e (a,b,c)\n",
    "2. keyword parameter or default parameter i.e (a=\"b\",r=\"j\")\n",
    "3. keyword-only parameter i.e (*args)\n",
    "4. var-keyword parameter i.e (**kwargs)\n",
    "\n",
    "\"\"\""
   ]
  },
  {
   "cell_type": "code",
   "execution_count": null,
   "metadata": {
    "hidden": true
   },
   "outputs": [],
   "source": [
    "def tryThis(a=1, b=2, c=\"haha\", *argv):\n",
    "    print(a)\n",
    "    print(b)\n",
    "    print(c)\n",
    "    for i in argv:\n",
    "        print(\"argv are being called\")\n",
    "        print(i)"
   ]
  },
  {
   "cell_type": "code",
   "execution_count": null,
   "metadata": {
    "hidden": true
   },
   "outputs": [],
   "source": [
    "tryThis(1, 2, 3, 4, 5, 6)"
   ]
  },
  {
   "cell_type": "code",
   "execution_count": null,
   "metadata": {
    "hidden": true
   },
   "outputs": [],
   "source": [
    "tryThis(b=2, a=1, c=\"gaga\")"
   ]
  },
  {
   "cell_type": "code",
   "execution_count": null,
   "metadata": {
    "hidden": true
   },
   "outputs": [],
   "source": [
    "tryThis(10, b=2, c=\"gaga\")"
   ]
  },
  {
   "cell_type": "markdown",
   "metadata": {
    "hidden": true
   },
   "source": [
    "* if haha(1, 5) is called, the argument 5 is the argument for b, since b is declared second...even though default parameter value is set f"
   ]
  },
  {
   "cell_type": "code",
   "execution_count": null,
   "metadata": {
    "hidden": true
   },
   "outputs": [],
   "source": [
    "def haha(a, b=2, c=3):\n",
    "    print(\"a = \", a)\n",
    "    print(\"b = \", b)\n",
    "    print(\"c = \", c)"
   ]
  },
  {
   "cell_type": "code",
   "execution_count": null,
   "metadata": {
    "hidden": true
   },
   "outputs": [],
   "source": [
    "haha(1, b=5, c=2)"
   ]
  },
  {
   "cell_type": "markdown",
   "metadata": {
    "heading_collapsed": true,
    "hidden": true
   },
   "source": [
    "###### @property - Method as Attributes"
   ]
  },
  {
   "cell_type": "code",
   "execution_count": null,
   "metadata": {
    "hidden": true
   },
   "outputs": [],
   "source": [
    "\"\"\"\n",
    "The @property lets a method to be accessed as an attribute instead of as a method with a '()'.\n",
    "\"\"\"\n",
    "\n",
    "\"\"\"\n",
    "Why use @property?\n",
    "If you change the value of an attribute inside a class, the other attributes that are derived \n",
    "from the attribute you just changed don’t automatically update.\n",
    "\n",
    "Therefore, change the attribute that you want to be updated due to a change in another attribute\n",
    "to a function. Then, use @property to call his function and retrieve it as if an attribute\n",
    "\n",
    "tutorial:[https://www.machinelearningplus.com/python/python-property/]\n",
    "\"\"\"\n",
    "\n",
    "\"\"\"\n",
    "Syntax: property(fget, fset, fdel, doc)\n",
    "\n",
    "Parameters:\n",
    "fget() – used to get the value of attribute\n",
    "fset() – used to set the value of attribute\n",
    "fdel() – used to delete the attribute value\n",
    "doc() – string that contains the documentation (docstring) for the attribute\n",
    "\n",
    "Return: Returns a property attribute from the given getter, setter and deleter.\n",
    "\"\"\"\n",
    "\n",
    "\"\"\"\n",
    "If no arguments are given, property() method returns a base property attribute that\n",
    "doesn’t contain any getter, setter or deleter.\n",
    "If doc isn’t provided, property() method takes the docstring of the getter function.\n",
    "\"\"\"\n"
   ]
  },
  {
   "cell_type": "code",
   "execution_count": 45,
   "metadata": {
    "hidden": true
   },
   "outputs": [
    {
     "name": "stdout",
     "output_type": "stream",
     "text": [
      "#========1===========\n",
      "#========2===========\n",
      "Getting value\n",
      "Peter\n",
      "#========3===========\n",
      "Setting value to Diesel\n",
      "#========4===========\n",
      "Deleting value\n"
     ]
    }
   ],
   "source": [
    "#Using @property\n",
    "class Alphabet: \n",
    "    def __init__(self, value): \n",
    "        self._value = value \n",
    "          \n",
    "    # getting the values     \n",
    "    @property\n",
    "    def value(self): \n",
    "        print('Getting value') \n",
    "        return self._value \n",
    "          \n",
    "    # setting the values     \n",
    "    @value.setter \n",
    "    def value(self, value): \n",
    "        print('Setting value to ' + value) \n",
    "        self._value = value \n",
    "          \n",
    "    # deleting the values \n",
    "    @value.deleter \n",
    "    def value(self): \n",
    "        print('Deleting value') \n",
    "        del self._value \n",
    "\n",
    "#passing the value \n",
    "print(\"#========1===========\")\n",
    "x = Alphabet('Peter') \n",
    "\n",
    "print(\"#========2===========\")\n",
    "print(x.value) \n",
    "\n",
    "print(\"#========3===========\")\n",
    "x.value = 'Diesel'\n",
    "\n",
    "print(\"#========4===========\")\n",
    "del x.value \n"
   ]
  },
  {
   "cell_type": "markdown",
   "metadata": {
    "heading_collapsed": true,
    "hidden": true
   },
   "source": [
    "###### @overload decorator"
   ]
  },
  {
   "cell_type": "markdown",
   "metadata": {
    "hidden": true
   },
   "source": [
    "* The @overload decorator allows you to define alternate implementations of a function, specialized by argument type(s)\n",
    "* A function with the same name must already exist in the local namespace\n",
    "* The existing function is modified in-place by the decorator to add the new implementation, and the modified function is returned by the decorator"
   ]
  },
  {
   "cell_type": "code",
   "execution_count": null,
   "metadata": {
    "hidden": true
   },
   "outputs": [],
   "source": [
    "from overloading import overload\n",
    "from collections import Iterable\n",
    "\n",
    "def flatten(ob):\n",
    "    \"\"\"Flatten an object to its component iterables\"\"\"\n",
    "    yield ob\n",
    "\n",
    "@overload\n",
    "def flatten(ob: Iterable):\n",
    "    for o in ob:\n",
    "        for ob in flatten(o):\n",
    "            yield ob\n",
    "\n",
    "@overload\n",
    "def flatten(ob: basestring):\n",
    "    yield ob"
   ]
  },
  {
   "cell_type": "code",
   "execution_count": null,
   "metadata": {
    "hidden": true
   },
   "outputs": [],
   "source": [
    "#Above is same as below!!!\n",
    "def flatten(ob):\n",
    "    if isinstance(ob, basestring) or not isinstance(ob, Iterable):\n",
    "        yield ob\n",
    "    else:\n",
    "        for o in ob:\n",
    "            for ob in flatten(o):\n",
    "                yield ob\n",
    "\n"
   ]
  },
  {
   "cell_type": "markdown",
   "metadata": {
    "heading_collapsed": true,
    "hidden": true
   },
   "source": [
    "###### Func inside Func"
   ]
  },
  {
   "cell_type": "code",
   "execution_count": null,
   "metadata": {
    "hidden": true
   },
   "outputs": [],
   "source": [
    "#Assign Func to variables\n",
    "def plus_one(number):\n",
    "    return number + 1\n",
    "\n",
    "add_one = plus_one\n",
    "add_one(5)"
   ]
  },
  {
   "cell_type": "code",
   "execution_count": null,
   "metadata": {
    "hidden": true
   },
   "outputs": [],
   "source": [
    "#Define Func inside other Func\n",
    "def plus_one(number):\n",
    "    def add_one(number):\n",
    "        return number + 1\n",
    "\n",
    "\n",
    "    result = add_one(number)\n",
    "    return result\n",
    "plus_one(4)"
   ]
  },
  {
   "cell_type": "code",
   "execution_count": null,
   "metadata": {
    "hidden": true
   },
   "outputs": [],
   "source": [
    "#Passing Func as arg to other other Func\n",
    "def plus_one(number):\n",
    "    return number + 1\n",
    "\n",
    "def function_call(function):\n",
    "    number_to_add = 5\n",
    "    return function(number_to_add)\n",
    "\n",
    "function_call(plus_one)"
   ]
  },
  {
   "cell_type": "code",
   "execution_count": 31,
   "metadata": {
    "hidden": true
   },
   "outputs": [
    {
     "name": "stdout",
     "output_type": "stream",
     "text": [
      "<function hello_function.<locals>.say_hi at 0x7f155edb0598>\n",
      "Hi\n"
     ]
    }
   ],
   "source": [
    "#Func return other Func\n",
    "def hello_function():\n",
    "    def say_hi():\n",
    "        return \"Hi\"\n",
    "    return say_hi\n",
    "\n",
    "#hello is a function b/c hello_function() returns a function\n",
    "hello = hello_function()\n",
    "\n",
    "print(hello)\n",
    "print(hello())"
   ]
  },
  {
   "cell_type": "code",
   "execution_count": 44,
   "metadata": {
    "hidden": true
   },
   "outputs": [
    {
     "name": "stdout",
     "output_type": "stream",
     "text": [
      "Some random message\n"
     ]
    }
   ],
   "source": [
    "#Nested Func have access to the enclosing Func's variable scope\n",
    "def print_message(message):\n",
    "    \n",
    "    #\"Enclosong Function\"\n",
    "    def message_sender():\n",
    "        #\"Nested Function\"\n",
    "        print(message)\n",
    "\n",
    "    message_sender()\n",
    "\n",
    "print_message(\"Some random message\")"
   ]
  },
  {
   "cell_type": "markdown",
   "metadata": {
    "heading_collapsed": true,
    "hidden": true
   },
   "source": [
    "###### Decorator @ - Func inside Func "
   ]
  },
  {
   "cell_type": "markdown",
   "metadata": {
    "hidden": true
   },
   "source": [
    "* A decorator is a function that takes another function as its arguments and returns yet another function\n",
    "\n",
    "* Ueful as they allow extension of an existing function without any modification to the original function."
   ]
  },
  {
   "cell_type": "code",
   "execution_count": null,
   "metadata": {
    "hidden": true
   },
   "outputs": [],
   "source": [
    "\n",
    "\"\"\"\n",
    "Decorators with parameters\n",
    "\n",
    "@decorator(params)\n",
    "def func_name():\n",
    "    ''' Function implementation'''\n",
    "    \n",
    "Above code is equivalent to:\n",
    "\n",
    "def func_name():\n",
    "    ''' Function implementation'''\n",
    "\n",
    "func_name = (decorator(params))(func_name)\n",
    "\n",
    "\"\"\""
   ]
  },
  {
   "cell_type": "code",
   "execution_count": null,
   "metadata": {
    "hidden": true
   },
   "outputs": [],
   "source": [
    "#Example of decorator \n",
    "def calculate_time(func): \n",
    "      \n",
    "    #if function takes any arguments, it can be added like this. \n",
    "    def inner1(*args, **kwargs):\n",
    "        print(\"I am being called\")\n",
    "        begin = time.time() \n",
    "          \n",
    "        #First, it called the function that was passed as arguments\n",
    "        func(*args, **kwargs) \n",
    "        end = time.time() \n",
    "        print(\"Total time taken in : \", func.__name__, end - begin) \n",
    "\n",
    "    return inner1 \n",
    "\n",
    "#AUTOMATICALLY the first argument of decorator function is the function defined below @ sign\n",
    "#    -so the function \"factorial()\" is passed as \"func\" parameter in \"calculate_time()\".\n",
    "@calculate_time\n",
    "def factorial(num): \n",
    "    # sleep 2 seconds because it takes very less time \n",
    "    # so that you can see the actual difference \n",
    "    # time.sleep(2) \n",
    "    print(math.factorial(num)) \n",
    "\n",
    "# calling the decorator function need function as param\n",
    "factorial(10) "
   ]
  },
  {
   "cell_type": "code",
   "execution_count": null,
   "metadata": {
    "hidden": true
   },
   "outputs": [],
   "source": [
    "#Example of decorator with parameters\n",
    "def decorator(*args, **kwargs): \n",
    "    print(\"Inside decorator\") \n",
    "    def inner(func): \n",
    "        print(\"Inside inner function\") \n",
    "        print(\"I like\", kwargs['like'])  \n",
    "        return func \n",
    "    return inner \n",
    "  \n",
    "@decorator(like = \"geeksforgeeks\") \n",
    "def func(): \n",
    "    print(\"Inside actual function\") \n",
    "\n",
    "func() "
   ]
  },
  {
   "cell_type": "markdown",
   "metadata": {
    "heading_collapsed": true,
    "hidden": true
   },
   "source": [
    "###### \\*args and **kwargs "
   ]
  },
  {
   "cell_type": "code",
   "execution_count": 2,
   "metadata": {
    "hidden": true
   },
   "outputs": [
    {
     "name": "stdout",
     "output_type": "stream",
     "text": [
      "first normal arg: yasoob\n",
      "another arg through *argv : python\n",
      "another arg through *argv : eggs\n",
      "another arg through *argv : test\n"
     ]
    }
   ],
   "source": [
    "#Define fn with *args\n",
    "def test_var_args(f_arg, *argv):\n",
    "    print (\"first normal arg:\", f_arg)\n",
    "    for arg in argv:\n",
    "        print (\"another arg through *argv :\", arg)\n",
    "\n",
    "test_var_args('yasoob','python','eggs','test')"
   ]
  },
  {
   "cell_type": "code",
   "execution_count": null,
   "metadata": {
    "hidden": true
   },
   "outputs": [],
   "source": [
    "#Define fn with **kwargsb\n",
    "def greet_me(**kwargs):\n",
    "    if kwargs is not None:\n",
    "        for key, value in kwargs.items():\n",
    "            print (\"%s == %s\" %(key,value))\n",
    "            \n",
    "greet_me(name=\"yasoob\")"
   ]
  },
  {
   "cell_type": "code",
   "execution_count": null,
   "metadata": {
    "hidden": true
   },
   "outputs": [],
   "source": [
    "def test_args_kwargs(arg1, arg2, arg3):\n",
    "    print (\"arg1:\", arg1)\n",
    "    print (\"arg2:\", arg2)\n",
    "    print (\"arg3:\", arg3)"
   ]
  },
  {
   "cell_type": "code",
   "execution_count": null,
   "metadata": {
    "hidden": true
   },
   "outputs": [],
   "source": [
    "# *arg to call a function\n",
    "args = (\"two\", 3,5)\n",
    "test_args_kwargs(*args)"
   ]
  },
  {
   "cell_type": "code",
   "execution_count": null,
   "metadata": {
    "hidden": true
   },
   "outputs": [],
   "source": [
    "# **kwargs to call a function\n",
    "kwargs = {\"arg3\": 3, \"arg2\": \"two\",\"arg1\":5}\n",
    "test_args_kwargs(**kwargs)"
   ]
  },
  {
   "cell_type": "markdown",
   "metadata": {
    "heading_collapsed": true,
    "hidden": true
   },
   "source": [
    "###### Recursion - Calling a function within itself"
   ]
  },
  {
   "cell_type": "code",
   "execution_count": 33,
   "metadata": {
    "hidden": true
   },
   "outputs": [],
   "source": [
    "def factorial(x):\n",
    "    \"\"\"\n",
    "    This is a recursive function to find the factorial of an integer\n",
    "    \"\"\"\n",
    "    \n",
    "    if x==1:\n",
    "        return 1\n",
    "    \n",
    "    else:\n",
    "        return(x*factorial(x-1))"
   ]
  },
  {
   "cell_type": "code",
   "execution_count": 34,
   "metadata": {
    "hidden": true
   },
   "outputs": [
    {
     "name": "stdout",
     "output_type": "stream",
     "text": [
      "The factorial of  3 is  6\n"
     ]
    }
   ],
   "source": [
    "num=3\n",
    "print(\"The factorial of \", num, \"is \", factorial(num))"
   ]
  },
  {
   "cell_type": "markdown",
   "metadata": {
    "heading_collapsed": true,
    "hidden": true
   },
   "source": [
    "###### isinstance() function"
   ]
  },
  {
   "cell_type": "markdown",
   "metadata": {
    "hidden": true
   },
   "source": [
    "isinstance() checks whether an object is an instance of a class or of a subclass thereof."
   ]
  },
  {
   "cell_type": "code",
   "execution_count": 84,
   "metadata": {
    "hidden": true
   },
   "outputs": [],
   "source": [
    "a = 1"
   ]
  },
  {
   "cell_type": "code",
   "execution_count": 85,
   "metadata": {
    "hidden": true
   },
   "outputs": [
    {
     "data": {
      "text/plain": [
       "False"
      ]
     },
     "execution_count": 85,
     "metadata": {},
     "output_type": "execute_result"
    }
   ],
   "source": [
    "isinstance(a, float)"
   ]
  },
  {
   "cell_type": "code",
   "execution_count": 86,
   "metadata": {
    "hidden": true
   },
   "outputs": [
    {
     "data": {
      "text/plain": [
       "True"
      ]
     },
     "execution_count": 86,
     "metadata": {},
     "output_type": "execute_result"
    }
   ],
   "source": [
    "isinstance(a, int)"
   ]
  },
  {
   "cell_type": "markdown",
   "metadata": {
    "heading_collapsed": true,
    "hidden": true
   },
   "source": [
    "###### sorted() function"
   ]
  },
  {
   "cell_type": "code",
   "execution_count": null,
   "metadata": {
    "hidden": true
   },
   "outputs": [],
   "source": [
    "\"\"\"\n",
    "-sorted() works very funny. BE CAREFUL!!\n",
    "    -10 comes before 2\n",
    "    -determines by the first digit\n",
    "\"\"\""
   ]
  },
  {
   "cell_type": "code",
   "execution_count": null,
   "metadata": {
    "hidden": true
   },
   "outputs": [],
   "source": [
    "a = [0, 1, 2, 3, 4, 10, 20, 30, 40]\n",
    "b = {}"
   ]
  },
  {
   "cell_type": "code",
   "execution_count": null,
   "metadata": {
    "hidden": true
   },
   "outputs": [],
   "source": [
    "for i in a:\n",
    "    b[\"{:d}\".format(i)] = i"
   ]
  },
  {
   "cell_type": "code",
   "execution_count": null,
   "metadata": {
    "hidden": true
   },
   "outputs": [],
   "source": [
    "for key in sorted(b.keys()):\n",
    "    print(key)"
   ]
  },
  {
   "cell_type": "code",
   "execution_count": null,
   "metadata": {
    "hidden": true
   },
   "outputs": [],
   "source": [
    "for key in b.keys():\n",
    "    print(key)"
   ]
  },
  {
   "cell_type": "markdown",
   "metadata": {
    "heading_collapsed": true,
    "hidden": true
   },
   "source": [
    "###### map(func, iter) function "
   ]
  },
  {
   "cell_type": "code",
   "execution_count": 4,
   "metadata": {
    "hidden": true
   },
   "outputs": [
    {
     "name": "stdout",
     "output_type": "stream",
     "text": [
      "<map object at 0x7f6bd8c95d30>\n",
      "[2, 4, 6, 8]\n"
     ]
    }
   ],
   "source": [
    "def addition(n): \n",
    "    return n + n \n",
    "\n",
    "numbers = (1, 2, 3, 4) \n",
    "result = map(addition, numbers) \n",
    "print(result)\n",
    "print(list(result)) "
   ]
  },
  {
   "cell_type": "code",
   "execution_count": 13,
   "metadata": {
    "hidden": true
   },
   "outputs": [
    {
     "name": "stdout",
     "output_type": "stream",
     "text": [
      "<map object at 0x7f6bd8caa0b8>\n",
      "[2, 4, 6, 8]\n"
     ]
    }
   ],
   "source": [
    "#map + lambda\n",
    "result = map((lambda x: x+x), [1, 2, 3, 4])\n",
    "\n",
    "print(result)\n",
    "print(list(result))"
   ]
  },
  {
   "cell_type": "markdown",
   "metadata": {
    "heading_collapsed": true,
    "hidden": true
   },
   "source": [
    "###### all() function"
   ]
  },
  {
   "cell_type": "code",
   "execution_count": null,
   "metadata": {
    "hidden": true
   },
   "outputs": [],
   "source": [
    "all([1, 0, 0])"
   ]
  },
  {
   "cell_type": "code",
   "execution_count": null,
   "metadata": {
    "hidden": true
   },
   "outputs": [],
   "source": [
    "all([0, 0, 0])"
   ]
  },
  {
   "cell_type": "code",
   "execution_count": null,
   "metadata": {
    "hidden": true
   },
   "outputs": [],
   "source": [
    "all([1, 1, 1])"
   ]
  },
  {
   "cell_type": "code",
   "execution_count": null,
   "metadata": {
    "hidden": true
   },
   "outputs": [],
   "source": [
    "all([True, True, True])"
   ]
  },
  {
   "cell_type": "markdown",
   "metadata": {
    "heading_collapsed": true,
    "hidden": true
   },
   "source": [
    "###### ord()"
   ]
  },
  {
   "cell_type": "code",
   "execution_count": null,
   "metadata": {
    "hidden": true
   },
   "outputs": [],
   "source": [
    "# The ord() function returns an integer representing the Unicode character."
   ]
  },
  {
   "cell_type": "code",
   "execution_count": null,
   "metadata": {
    "hidden": true
   },
   "outputs": [],
   "source": [
    "character = 'P'\n",
    "\n",
    "# find unicode of P\n",
    "unicode_char = ord(character)\n",
    "\n",
    "print(unicode_char)\n",
    "\n",
    "print(ord('5'))    # 53\n",
    "print(ord('A'))    # 65\n",
    "\n",
    "print(ord('$'))    # 36"
   ]
  },
  {
   "cell_type": "markdown",
   "metadata": {
    "heading_collapsed": true
   },
   "source": [
    "#### CLASS "
   ]
  },
  {
   "cell_type": "markdown",
   "metadata": {
    "heading_collapsed": true,
    "hidden": true
   },
   "source": [
    "###### Object as an Attribute of another Object"
   ]
  },
  {
   "cell_type": "code",
   "execution_count": 2,
   "metadata": {
    "hidden": true
   },
   "outputs": [],
   "source": [
    "class Fred(object):\n",
    "    def __init(self):\n",
    "        print(\"I am Fred\")\n",
    "\n",
    "class Mary(object):\n",
    "    def __init__(self):\n",
    "        self.classref  = Fred\n",
    "        self.classinst = Fred()"
   ]
  },
  {
   "cell_type": "code",
   "execution_count": 3,
   "metadata": {
    "hidden": true
   },
   "outputs": [],
   "source": [
    "x = Mary()"
   ]
  },
  {
   "cell_type": "code",
   "execution_count": null,
   "metadata": {
    "hidden": true
   },
   "outputs": [],
   "source": [
    "dir(x)"
   ]
  },
  {
   "cell_type": "code",
   "execution_count": null,
   "metadata": {
    "hidden": true
   },
   "outputs": [],
   "source": [
    "#Object as an attribute of another object\n",
    "x.classinst"
   ]
  },
  {
   "cell_type": "code",
   "execution_count": null,
   "metadata": {
    "hidden": true
   },
   "outputs": [],
   "source": [
    "#Reference (type) information as an attribute of an object\n",
    "x.classref"
   ]
  },
  {
   "cell_type": "code",
   "execution_count": null,
   "metadata": {
    "hidden": true
   },
   "outputs": [],
   "source": [
    "x.classinst.__class__"
   ]
  },
  {
   "cell_type": "code",
   "execution_count": null,
   "metadata": {
    "hidden": true
   },
   "outputs": [],
   "source": [
    "x.classref.__class__"
   ]
  },
  {
   "cell_type": "markdown",
   "metadata": {
    "heading_collapsed": true,
    "hidden": true
   },
   "source": [
    "###### Creating Attributes "
   ]
  },
  {
   "cell_type": "code",
   "execution_count": 38,
   "metadata": {
    "hidden": true
   },
   "outputs": [],
   "source": [
    "class myclass:\n",
    "    \n",
    "    def __init__(self):\n",
    "        \n",
    "        #Create attribute inside __init__ func\n",
    "        self.firstAttribute = 0\n",
    "        pass"
   ]
  },
  {
   "cell_type": "code",
   "execution_count": 39,
   "metadata": {
    "hidden": true
   },
   "outputs": [],
   "source": [
    "mine = myclass()"
   ]
  },
  {
   "cell_type": "code",
   "execution_count": 40,
   "metadata": {
    "hidden": true
   },
   "outputs": [],
   "source": [
    "#Can also create an attribute of the objcect by simply ._____ = \"~~~~\"\n",
    "mine.secondAttribute = \"haha\""
   ]
  },
  {
   "cell_type": "code",
   "execution_count": null,
   "metadata": {
    "hidden": true
   },
   "outputs": [],
   "source": [
    "mine.firstAttribute"
   ]
  },
  {
   "cell_type": "code",
   "execution_count": null,
   "metadata": {
    "hidden": true
   },
   "outputs": [],
   "source": [
    "mine.secondAttribute"
   ]
  },
  {
   "cell_type": "markdown",
   "metadata": {
    "heading_collapsed": true,
    "hidden": true
   },
   "source": [
    "###### Docstring Converntion"
   ]
  },
  {
   "cell_type": "code",
   "execution_count": 95,
   "metadata": {
    "hidden": true
   },
   "outputs": [],
   "source": [
    "#Class for tree node\n",
    "#    -testing BST method defined inside class\n",
    "#Recursive testing\n",
    "#    -Check one node of its left and right value. Then go to next ones\n",
    "class TreeNode:\n",
    "    \n",
    "    def __init__(self, val=0, left=None, right=None):\n",
    "        \"\"\"\n",
    "        :type value: int\n",
    "        :type left: int\n",
    "        :type right: int\n",
    "        \"\"\"\n",
    "        self.val   = val\n",
    "        self.left  = None\n",
    "        self.right = None"
   ]
  },
  {
   "cell_type": "code",
   "execution_count": 96,
   "metadata": {
    "hidden": true
   },
   "outputs": [],
   "source": [
    "#CReate BST\n",
    "a = TreeNode(2, 1, 3)"
   ]
  },
  {
   "cell_type": "markdown",
   "metadata": {
    "heading_collapsed": true,
    "hidden": true
   },
   "source": [
    "###### @classmethods vs @staticmethods"
   ]
  },
  {
   "cell_type": "markdown",
   "metadata": {
    "hidden": true
   },
   "source": [
    "* A class method takes `cls` the first parameter while a static method needs no specific parameters. \n",
    "* A class method can access or modify the class state while a static method can’t access or modify it."
   ]
  },
  {
   "cell_type": "code",
   "execution_count": null,
   "metadata": {
    "hidden": true
   },
   "outputs": [],
   "source": [
    "# Python program to demonstrate\n",
    "# use of class method and static method.\n",
    "from datetime import date\n",
    "  \n",
    "class Person:\n",
    "    def __init__(self, name, age):\n",
    "        self.name = name\n",
    "        self.age = age\n",
    "    \n",
    "    # a class method to create a Person object by birth year.\n",
    "    @classmethod\n",
    "    def fromBirthYear(cls, name, year):\n",
    "        return cls(name, date.today().year - year)\n",
    "      \n",
    "    # a static method to check if a Person is adult or not.\n",
    "    @staticmethod\n",
    "    def isAdult(age):\n",
    "        return age > 18\n",
    "\n",
    "#Creating obj usual way\n",
    "person1 = Person('mayank', 21)\n",
    "\n",
    "#Creating obj using class method\n",
    "person2 = Person.fromBirthYear('mayank', 1996)\n",
    "  \n",
    "print (person1.age)\n",
    "print (person2.age)\n",
    "  \n",
    "#Static method doesn't need specific parameters (class obj)\n",
    "print (Person.isAdult(22))"
   ]
  },
  {
   "cell_type": "markdown",
   "metadata": {
    "heading_collapsed": true,
    "hidden": true
   },
   "source": [
    "###### @classmethod vs @staticmethod - example "
   ]
  },
  {
   "cell_type": "code",
   "execution_count": 13,
   "metadata": {
    "hidden": true
   },
   "outputs": [],
   "source": [
    "##############################################################################################################\n",
    "#AI class\n",
    "##############################################################################################################\n",
    "class AI:\n",
    "    aiCount = 0\n",
    "    \n",
    "    def __init__(self, name=\"unknown\", net_worth=\"unknown\"):\n",
    "        AI.aiCount  = AI.aiCount + 1\n",
    "        self.name          = name\n",
    "        self.net_worth     = net_worth\n",
    "        self.listOfTasks   = []\n",
    "        \n",
    "    @classmethod\n",
    "    #@classmethod is a built-in functin decorator\n",
    "    #    -evaluated after your function is defined\n",
    "    #    -takes 'cls' as first argument\n",
    "    def hello_class(cls):\n",
    "        return cls\n",
    "        \n",
    "    @staticmethod\n",
    "    #static method doesn't receive an implcit first argument\n",
    "    #    -bound to class, not object\n",
    "    def hello_static():\n",
    "        print(\"Hello Static World\")\n",
    "        \n",
    "    def displayCount(self):\n",
    "        print(\"Total number of articifial intelligent robots = {:d}\".format(Employee.empCount))\n",
    "    \n",
    "    def displayAI(self):\n",
    "        print(\"Name: \", self.name, \", Net Worth: \", self.net_worth)\n",
    "        \n",
    "    def orderTask(self, order=\"none\"):\n",
    "        self.listOfTasks.append(order)\n",
    "        print(\"the task, \\\"\", order, \"\\\" is added to the task list\")\n",
    "        \n",
    "    def confirmOrdersTaken(self):\n",
    "        print(\"I am comfirming that I am taking the order of \")\n",
    "        \n",
    "        \n",
    "        \n",
    "##############################################################################################################\n",
    "#AI used for Hunting\n",
    "##############################################################################################################\n",
    "class AI_Hunter(AI):\n",
    "    aiHunterCount = 0\n",
    "    \n",
    "    def __init__(self, skill=\"unknown\"):\n",
    "        #AI.__init__(self)#same as below using super()  \n",
    "        super().__init__(self)\n"
   ]
  },
  {
   "cell_type": "code",
   "execution_count": 14,
   "metadata": {
    "hidden": true
   },
   "outputs": [],
   "source": [
    "a = AI_Hunter()"
   ]
  },
  {
   "cell_type": "code",
   "execution_count": 15,
   "metadata": {
    "hidden": true
   },
   "outputs": [
    {
     "data": {
      "text/plain": [
       "'unknown'"
      ]
     },
     "execution_count": 15,
     "metadata": {},
     "output_type": "execute_result"
    }
   ],
   "source": [
    "a.skill"
   ]
  },
  {
   "cell_type": "markdown",
   "metadata": {
    "heading_collapsed": true,
    "hidden": true
   },
   "source": [
    "######  __call__() vs __init__() "
   ]
  },
  {
   "cell_type": "code",
   "execution_count": 1,
   "metadata": {
    "hidden": true
   },
   "outputs": [],
   "source": [
    "class A:\n",
    "    def __init__(self, x):\n",
    "        print(\"inside __init__()\")\n",
    "        self.y = x"
   ]
  },
  {
   "cell_type": "code",
   "execution_count": null,
   "metadata": {
    "hidden": true
   },
   "outputs": [],
   "source": [
    "# declaration of instance of class A\n",
    "a = A(3)\n",
    "  \n",
    "print(a.y)"
   ]
  },
  {
   "cell_type": "code",
   "execution_count": 3,
   "metadata": {
    "hidden": true
   },
   "outputs": [],
   "source": [
    "class A:\n",
    "    def __init__(self, x):\n",
    "        print(\"inside __init__()\")\n",
    "        self.y = x\n",
    "\n",
    "    def __call__(self, n):\n",
    "        res = 0\n",
    "        print(\"inside __call__()\")\n",
    "        print(f\"adding {n} to the value of y\")\n",
    "        res = self.y + n\n",
    "        return res"
   ]
  },
  {
   "cell_type": "code",
   "execution_count": null,
   "metadata": {
    "hidden": true
   },
   "outputs": [],
   "source": [
    "# declaration of instance of class A\n",
    "a = A(3)\n",
    "\n",
    "# calling __call__() for a \n",
    "r = a(5)\n",
    "print(r)"
   ]
  },
  {
   "cell_type": "markdown",
   "metadata": {
    "heading_collapsed": true,
    "hidden": true
   },
   "source": [
    "###### call() - Meta way"
   ]
  },
  {
   "cell_type": "code",
   "execution_count": 92,
   "metadata": {
    "hidden": true
   },
   "outputs": [],
   "source": [
    "from typing import Callable, Any\n",
    "\n",
    "class A:\n",
    "    def __init__(self, x):\n",
    "        print(\"inside __init__()\")\n",
    "        self.y = x        \n",
    "        \n",
    "    #In Meta's torch,\n",
    "    #    -Defined in torch/nn/module.py\n",
    "    def _call_impl(self, n):\n",
    "        res = 0\n",
    "        print(\"inside __call__()\")\n",
    "        print(f\"adding {n} to the value of y\")\n",
    "        res = self.y + n\n",
    "        return res\n",
    "    \n",
    "    __call__:Callable[..., Any] = _call_impl\n"
   ]
  },
  {
   "cell_type": "code",
   "execution_count": null,
   "metadata": {
    "hidden": true
   },
   "outputs": [],
   "source": [
    "a = A(3)\n",
    "\n",
    "r = a(5)\n",
    "print(r)"
   ]
  },
  {
   "cell_type": "markdown",
   "metadata": {
    "heading_collapsed": true,
    "hidden": true
   },
   "source": [
    "###### __enter__() and __exit() methods for WITH STATEMENT"
   ]
  },
  {
   "cell_type": "code",
   "execution_count": null,
   "metadata": {
    "hidden": true
   },
   "outputs": [],
   "source": [
    "#Using these magic methods (__enter__, __exit__) allows you to implement objects which can be used easily\n",
    "#with the with statement. \n",
    "\n",
    "#A useful example could be a database connection object \n",
    "#(which then automagically closes the connection once the corresponding 'with'-statement \n",
    "#goes out of scope):"
   ]
  },
  {
   "cell_type": "code",
   "execution_count": null,
   "metadata": {
    "hidden": true
   },
   "outputs": [],
   "source": [
    "class DatabaseConnection(object):\n",
    "\n",
    "    def __enter__(self):\n",
    "        # make a database connection and return it\n",
    "        ...\n",
    "        return self.dbconn\n",
    "\n",
    "    def __exit__(self, exc_type, exc_val, exc_tb):\n",
    "        # make sure the dbconnection gets closed\n",
    "        self.dbconn.close()\n",
    "        ..."
   ]
  },
  {
   "cell_type": "code",
   "execution_count": null,
   "metadata": {
    "hidden": true
   },
   "outputs": [],
   "source": [
    "with DatabaseConnection() as mydbconn:\n",
    "    # do stuff"
   ]
  },
  {
   "cell_type": "markdown",
   "metadata": {
    "heading_collapsed": true,
    "hidden": true
   },
   "source": [
    "###### Check if class obj has attributes & func"
   ]
  },
  {
   "cell_type": "code",
   "execution_count": null,
   "metadata": {
    "hidden": true
   },
   "outputs": [],
   "source": [
    "hasattr(a, \"hello_class\")"
   ]
  },
  {
   "cell_type": "code",
   "execution_count": null,
   "metadata": {
    "hidden": true
   },
   "outputs": [],
   "source": [
    "hasattr(a, \"__init__\")"
   ]
  },
  {
   "cell_type": "code",
   "execution_count": null,
   "metadata": {
    "hidden": true
   },
   "outputs": [],
   "source": [
    "hasattr(a, \"name\")"
   ]
  },
  {
   "cell_type": "markdown",
   "metadata": {
    "heading_collapsed": true,
    "hidden": true
   },
   "source": [
    "###### Inheritance - Calling Child's Func in Parent' class"
   ]
  },
  {
   "cell_type": "markdown",
   "metadata": {
    "hidden": true
   },
   "source": [
    "* This practice is only good when the parent class is used as a base class for other classes\n",
    "    * No direct instances of the parent class should be made\n",
    "    * Ex: For forward function in pyTorch's module.py, it is meant to be declared in the child's class\n",
    "        * pyTorch's module class is only meant to be used as a base class for all models"
   ]
  },
  {
   "cell_type": "code",
   "execution_count": 151,
   "metadata": {
    "hidden": true
   },
   "outputs": [],
   "source": [
    "class A:\n",
    "    def foo(self):\n",
    "        self.testb()\n",
    "\n",
    "class B(A):\n",
    "    def testb(self):\n",
    "        print('lol, it works')"
   ]
  },
  {
   "cell_type": "code",
   "execution_count": 152,
   "metadata": {
    "hidden": true
   },
   "outputs": [
    {
     "name": "stdout",
     "output_type": "stream",
     "text": [
      "lol, it works\n"
     ]
    }
   ],
   "source": [
    "#You can call the child's class func `testb` from parent class\n",
    "b = B()\n",
    "b.foo()"
   ]
  },
  {
   "cell_type": "code",
   "execution_count": null,
   "metadata": {
    "hidden": true
   },
   "outputs": [],
   "source": [
    "#Not gonna work, b/c foo() alone doesnt have testb() as attribute\n",
    "a=A()\n",
    "a.foo()"
   ]
  },
  {
   "cell_type": "code",
   "execution_count": null,
   "metadata": {
    "hidden": true
   },
   "outputs": [],
   "source": [
    "#a doesn't have testb as attribute, but still calls it\n",
    "print(dir(a))\n",
    "print(\"\\n\")\n",
    "\n",
    "#b has testb as attribute\n",
    "print(dir(b))"
   ]
  },
  {
   "cell_type": "markdown",
   "metadata": {
    "heading_collapsed": true,
    "hidden": true
   },
   "source": [
    "###### Inheritance - call() - INHERITED from parent class"
   ]
  },
  {
   "cell_type": "code",
   "execution_count": 10,
   "metadata": {
    "hidden": true
   },
   "outputs": [],
   "source": [
    "class A:\n",
    "    def __init__(self, x):\n",
    "        print(\"inside __init__()\")\n",
    "        self.y = x\n",
    "\n",
    "    def __call__(self, n):\n",
    "        res = 0\n",
    "        print(\"inside __call__()\")\n",
    "        print(f\"adding {n} to the value of y\")\n",
    "        res = self.y + n\n",
    "        return res"
   ]
  },
  {
   "cell_type": "code",
   "execution_count": 11,
   "metadata": {
    "hidden": true
   },
   "outputs": [],
   "source": [
    "class B(A):\n",
    "    def __init(self, x):\n",
    "        print(\"Child\")\n",
    "        super(A, self).__init__(x)\n",
    "        "
   ]
  },
  {
   "cell_type": "code",
   "execution_count": null,
   "metadata": {
    "hidden": true
   },
   "outputs": [],
   "source": [
    "# declaration of instance of class A\n",
    "a = A(3)\n",
    "\n",
    "# calling __call__() for a \n",
    "r = a(5)\n",
    "print(r)"
   ]
  },
  {
   "cell_type": "code",
   "execution_count": null,
   "metadata": {
    "hidden": true
   },
   "outputs": [],
   "source": [
    "b = B(1)\n",
    "b(100)"
   ]
  },
  {
   "cell_type": "markdown",
   "metadata": {
    "heading_collapsed": true,
    "hidden": true
   },
   "source": [
    "###### Inheritance - super() in init func"
   ]
  },
  {
   "cell_type": "code",
   "execution_count": 427,
   "metadata": {
    "hidden": true
   },
   "outputs": [],
   "source": [
    "class supersuperclass():\n",
    "    def __init__(self):\n",
    "        pass\n",
    "        \n",
    "    def supersuperclassmethod(self):\n",
    "        print(\"I am SUPER SUPER CLASS METHOD\")"
   ]
  },
  {
   "cell_type": "code",
   "execution_count": 428,
   "metadata": {
    "hidden": true
   },
   "outputs": [],
   "source": [
    "class superclass(supersuperclass):\n",
    "    def __init__(self):\n",
    "        self.a = 1\n",
    "        self.built = False \n",
    "\n",
    "    #this will be overridden in child class\n",
    "    def func1(self, argument):\n",
    "        self.built = True\n",
    "        return 2*argument\n",
    "    \n",
    "    def func2(self, argument):\n",
    "        print(\"I am parent method fun2\")\n",
    "        return 100*argument\n",
    "    \n",
    "    def func3(self, argument):\n",
    "        print(\"I am parent method func3\")\n",
    "        return 100*argument"
   ]
  },
  {
   "cell_type": "code",
   "execution_count": 429,
   "metadata": {
    "hidden": true
   },
   "outputs": [],
   "source": [
    "class subclass(superclass):\n",
    "    def __init__(self):\n",
    "        super(subclass, self).__init__()\n",
    "        \n",
    "    #This will override parent class func1\n",
    "    def func1(self, argument):\n",
    "        return argument\n",
    "    \n",
    "    def func2(self, argument):\n",
    "        #superclass() same as super()\n",
    "\n",
    "        ################################\n",
    "        #These two ARE SAME!!!\n",
    "        superclass().func2(argument)\n",
    "        superclass.func2(self, argument)\n",
    "        ################################\n",
    "        \n",
    "        print(\"I am child method\")\n",
    "        return 10000*argument\n",
    "    \n",
    "    def func3(self, argument):\n",
    "\n",
    "        #Using super() -> No need \"self\" arg: \n",
    "        #    -super().func3(self, argument) - WRONG!!!\n",
    "        super().func3(argument)\n",
    "        print(\"I am child method\")\n",
    "        return 10000000*argument"
   ]
  },
  {
   "cell_type": "code",
   "execution_count": 430,
   "metadata": {
    "hidden": true
   },
   "outputs": [],
   "source": [
    "a = subclass()"
   ]
  },
  {
   "cell_type": "code",
   "execution_count": null,
   "metadata": {
    "hidden": true
   },
   "outputs": [],
   "source": [
    "a.supersuperclassmethod()"
   ]
  },
  {
   "cell_type": "code",
   "execution_count": null,
   "metadata": {
    "hidden": true
   },
   "outputs": [],
   "source": [
    "#Child class overwriting parent method\n",
    "a.func1(2)"
   ]
  },
  {
   "cell_type": "code",
   "execution_count": null,
   "metadata": {
    "hidden": true
   },
   "outputs": [],
   "source": [
    "a.func2(2)"
   ]
  },
  {
   "cell_type": "code",
   "execution_count": null,
   "metadata": {
    "hidden": true
   },
   "outputs": [],
   "source": [
    "a.func3(2)"
   ]
  },
  {
   "cell_type": "markdown",
   "metadata": {
    "heading_collapsed": true,
    "hidden": true
   },
   "source": [
    "###### Inheritance - super() in init func"
   ]
  },
  {
   "cell_type": "code",
   "execution_count": null,
   "metadata": {
    "hidden": true
   },
   "outputs": [],
   "source": [
    "class Base(object):\n",
    "    def __init__(self, *args, **kwargs): pass\n",
    "\n",
    "class A(Base):\n",
    "    def __init__(self, *args, **kwargs):\n",
    "        print(\"A\")\n",
    "        super(A, self).__init__(*args, **kwargs)\n",
    "\n",
    "class B(Base):\n",
    "    def __init__(self, *args, **kwargs):\n",
    "        print(\"B\")\n",
    "        super(B, self).__init__(*args, **kwargs)\n",
    "\n",
    "class C(A):\n",
    "    def __init__(self, arg, *args, **kwargs):\n",
    "        print(\"C\",\"arg=\",arg)\n",
    "        super(C, self).__init__(arg, *args, **kwargs)\n",
    "\n",
    "class D(B):\n",
    "    def __init__(self, arg, *args, **kwargs):\n",
    "        print(\"D\", \"arg=\",arg)\n",
    "        super(D, self).__init__(arg, *args, **kwargs)\n",
    "\n",
    "class E(C,D):\n",
    "    def __init__(self, arg, *args, **kwargs):\n",
    "        print(\"E\", \"arg=\",arg)\n",
    "        super(E, self).__init__(arg, *args, **kwargs)\n",
    "\n",
    "#Method resolution order\n",
    "print(\"MRO:\", [x.__name__ for x in E.__mro__])\n",
    "\n",
    "#Creating E object calls all parent __init__\n",
    "E(10)"
   ]
  },
  {
   "cell_type": "markdown",
   "metadata": {
    "heading_collapsed": true,
    "hidden": true
   },
   "source": [
    "###### Inheritance - super() in init func"
   ]
  },
  {
   "cell_type": "code",
   "execution_count": null,
   "metadata": {
    "hidden": true
   },
   "outputs": [],
   "source": [
    "\"\"\"\n",
    "Even though subclass's function overwrites super class's same function, the portion of the function\n",
    "that is not modified in subclass, inherits the routines written in the super class.\n",
    "\"\"\""
   ]
  },
  {
   "cell_type": "code",
   "execution_count": 5,
   "metadata": {
    "hidden": true
   },
   "outputs": [],
   "source": [
    "class superclass():\n",
    "    \n",
    "    def __init__(self):\n",
    "        self.a = 1\n",
    "        self.built = False \n",
    "        \n",
    "    def func1(self, argument):\n",
    "        self.built = True\n",
    "        return 2*argument"
   ]
  },
  {
   "cell_type": "code",
   "execution_count": 6,
   "metadata": {
    "hidden": true
   },
   "outputs": [],
   "source": [
    "class subclass(superclass):\n",
    "    \n",
    "    #Same as below\n",
    "    def __init__(self):\n",
    "        print(\"Was I ever called\")\n",
    "        super(subclass, self).__init__()\n",
    "\n",
    "    #Same as above\n",
    "    def __init__(self):\n",
    "        print(\"Am I being printed?\")\n",
    "        super().__init__()\n",
    "        \n",
    "        \n",
    "    def func1(self, argument):\n",
    "        return argument"
   ]
  },
  {
   "cell_type": "code",
   "execution_count": null,
   "metadata": {
    "hidden": true
   },
   "outputs": [],
   "source": [
    "a = subclass()"
   ]
  },
  {
   "cell_type": "code",
   "execution_count": null,
   "metadata": {
    "hidden": true
   },
   "outputs": [],
   "source": [
    "a.func1(2)"
   ]
  },
  {
   "cell_type": "code",
   "execution_count": null,
   "metadata": {
    "hidden": true
   },
   "outputs": [],
   "source": [
    "a.built"
   ]
  },
  {
   "cell_type": "markdown",
   "metadata": {
    "heading_collapsed": true,
    "hidden": true
   },
   "source": [
    "###### Inheritance - super() in init func"
   ]
  },
  {
   "cell_type": "code",
   "execution_count": null,
   "metadata": {
    "hidden": true
   },
   "outputs": [],
   "source": [
    "class Person:\n",
    "\n",
    "    def __init__(self, n):\n",
    "        print('Person Constructor')\n",
    "        self.name = n\n",
    "\n",
    "\n",
    "class Employee(Person):\n",
    "\n",
    "    def __init__(self, i, n):\n",
    "        print('Employee Constructor')\n",
    "        \n",
    "        # same as Person.__init__(self, n)\n",
    "        super().__init__(n)  \n",
    "        self.id = i\n",
    "\n",
    "\n",
    "emp = Employee(99, 'Pankaj')\n",
    "print(f'Employee ID is {emp.id} and Name is {emp.name}')"
   ]
  },
  {
   "cell_type": "markdown",
   "metadata": {
    "heading_collapsed": true,
    "hidden": true
   },
   "source": [
    "###### Inheritance - Constructor multiple inheritance"
   ]
  },
  {
   "cell_type": "code",
   "execution_count": null,
   "metadata": {
    "hidden": true
   },
   "outputs": [],
   "source": [
    "class A:\n",
    "\n",
    "    def __init__(self, a):\n",
    "        print('A Constructor')\n",
    "        self.var_a = a\n",
    "\n",
    "        \n",
    "class B(A):\n",
    "\n",
    "    def __init__(self, a, b):\n",
    "        super().__init__(a)\n",
    "        print('B Constructor')\n",
    "        self.var_b = b\n",
    "\n",
    "    \n",
    "class C(B):\n",
    "    def __init__(self, a, b, c):\n",
    "        super().__init__(a, b)\n",
    "        print('C Constructor')\n",
    "        self.var_c = c\n",
    "\n",
    "c_obj = C(1, 2, 3)\n",
    "print(f'c_obj var_a={c_obj.var_a}, var_b={c_obj.var_b}, var_c={c_obj.var_c}')"
   ]
  },
  {
   "cell_type": "markdown",
   "metadata": {
    "heading_collapsed": true,
    "hidden": true
   },
   "source": [
    "###### Inheritance - Constructor multiple inheritance"
   ]
  },
  {
   "cell_type": "code",
   "execution_count": null,
   "metadata": {
    "hidden": true
   },
   "outputs": [],
   "source": [
    "class A1:\n",
    "    def __init__(self, a1):\n",
    "        print('A1 Constructor')\n",
    "        self.var_a1 = a1\n",
    "        \n",
    "class B1:\n",
    "    def __init__(self, b1):\n",
    "        print('B1 Constructor')\n",
    "        self.var_b1 = b1\n",
    "\n",
    "class C1(A1, B1):\n",
    "    def __init__(self, a1, b1, c1):\n",
    "        print('C1 Constructor')\n",
    "        A1.__init__(self, a1)\n",
    "        B1.__init__(self, b1)\n",
    "        self.var_c1 = c1\n",
    "\n",
    "c_obj = C1(1, 2, 3)\n",
    "print(f'c_obj var_a={c_obj.var_a1}, var_b={c_obj.var_b1}, var_c={c_obj.var_c1}')"
   ]
  },
  {
   "cell_type": "markdown",
   "metadata": {
    "heading_collapsed": true,
    "hidden": true
   },
   "source": [
    "###### inheritances - Constructor multiple inheritance"
   ]
  },
  {
   "cell_type": "code",
   "execution_count": null,
   "metadata": {
    "hidden": true
   },
   "outputs": [],
   "source": [
    "# Python example to show the working of multiple\n",
    "# inheritance\n",
    "class Base1(object):\n",
    "    def __init__(self):\n",
    "        self.str1 = \"Geek1\"\n",
    "        print(\"Base1\")\n",
    "\n",
    "class Base2(object):\n",
    "    def __init__(self):\n",
    "        self.str2 = \"Geek2\"       \n",
    "        print(\"Base2\")\n",
    "\n",
    "    def base2ParentMethod(self):\n",
    "        print(\"I am Base2 Parent\")\n",
    "        \n",
    "        \n",
    "class Derived(Base1, Base2):\n",
    "    def __init__(self):\n",
    "         \n",
    "        # Calling constructors of Base1\n",
    "        # and Base2 classes\n",
    "        Base1.__init__(self)\n",
    "        Base2.__init__(self)\n",
    "        print(\"Derived\")\n",
    "         \n",
    "    def printStrs(self):\n",
    "        print(self.str1, self.str2)\n",
    "        \n",
    "        \n",
    "    def callBase2Method(self):\n",
    "        Base2.base2ParentMethod(self)\n",
    "        print(\"I am Child Class\")\n",
    "\n",
    "ob = Derived()\n",
    "ob.printStrs()"
   ]
  },
  {
   "cell_type": "code",
   "execution_count": null,
   "metadata": {
    "hidden": true
   },
   "outputs": [],
   "source": [
    "ob.callBase2Method()"
   ]
  },
  {
   "cell_type": "markdown",
   "metadata": {
    "heading_collapsed": true
   },
   "source": [
    "#### CLASSES - built-in"
   ]
  },
  {
   "cell_type": "markdown",
   "metadata": {
    "heading_collapsed": true,
    "hidden": true
   },
   "source": [
    "###### OrderedDict"
   ]
  },
  {
   "cell_type": "markdown",
   "metadata": {
    "hidden": true
   },
   "source": [
    "* An OrderedDict is a dictionary subclass that remembers the order that keys were first inserted\n",
    "\n",
    "* OrderedDict preserves the order in which the keys are inserted"
   ]
  },
  {
   "cell_type": "code",
   "execution_count": null,
   "metadata": {
    "hidden": true
   },
   "outputs": [],
   "source": [
    "# A Python program to demonstrate working of OrderedDict\n",
    "from collections import OrderedDict\n",
    " \n",
    "print(\"This is a Dict:\\n\")\n",
    "d = {}\n",
    "d['a'] = 1\n",
    "d['b'] = 2\n",
    "d['c'] = 3\n",
    "d['d'] = 4\n",
    " \n",
    "for key, value in d.items():\n",
    "    print(key, value)\n",
    " \n",
    "print(\"\\nThis is an Ordered Dict:\\n\")\n",
    "od = OrderedDict()\n",
    "od['a'] = 1\n",
    "od['b'] = 2\n",
    "od['c'] = 3\n",
    "od['d'] = 4\n",
    " \n",
    "for key, value in od.items():\n",
    "    print(key, value)"
   ]
  },
  {
   "cell_type": "code",
   "execution_count": null,
   "metadata": {
    "hidden": true
   },
   "outputs": [],
   "source": [
    "# A Python program to demonstrate working of key\n",
    "# value change in OrderedDict\n",
    "from collections import OrderedDict\n",
    " \n",
    "print(\"Before:\\n\")\n",
    "od = OrderedDict()\n",
    "od['a'] = 1\n",
    "od['b'] = 2\n",
    "od['c'] = 3\n",
    "od['d'] = 4\n",
    "for key, value in od.items():\n",
    "    print(key, value)\n",
    " \n",
    "print(\"\\nAfter:\\n\")\n",
    "od['c'] = 5\n",
    "for key, value in od.items():\n",
    "    print(key, value)"
   ]
  },
  {
   "cell_type": "code",
   "execution_count": null,
   "metadata": {
    "hidden": true
   },
   "outputs": [],
   "source": [
    "# A Python program to demonstrate working of deletion\n",
    "# re-insertion in OrderedDict\n",
    "from collections import OrderedDict\n",
    " \n",
    "print(\"Before deleting:\\n\")\n",
    "od = OrderedDict()\n",
    "od['a'] = 1\n",
    "od['b'] = 2\n",
    "od['c'] = 3\n",
    "od['d'] = 4\n",
    " \n",
    "for key, value in od.items():\n",
    "    print(key, value)\n",
    " \n",
    "print(\"\\nAfter deleting:\\n\")\n",
    "od.pop('c')\n",
    "for key, value in od.items():\n",
    "    print(key, value)\n",
    " \n",
    "print(\"\\nAfter re-inserting:\\n\")\n",
    "od['c'] = 3\n",
    "for key, value in od.items():\n",
    "    print(key, value)"
   ]
  },
  {
   "cell_type": "markdown",
   "metadata": {
    "heading_collapsed": true,
    "hidden": true
   },
   "source": [
    "###### Random"
   ]
  },
  {
   "cell_type": "code",
   "execution_count": null,
   "metadata": {
    "hidden": true
   },
   "outputs": [],
   "source": [
    "#random\n",
    "import random"
   ]
  },
  {
   "cell_type": "code",
   "execution_count": null,
   "metadata": {
    "hidden": true
   },
   "outputs": [],
   "source": [
    "#[0, 1]\n",
    "random.random()"
   ]
  },
  {
   "cell_type": "markdown",
   "metadata": {
    "heading_collapsed": true,
    "hidden": true
   },
   "source": [
    "###### numpy.random"
   ]
  },
  {
   "cell_type": "code",
   "execution_count": null,
   "metadata": {
    "hidden": true
   },
   "outputs": [],
   "source": [
    "#Random integer from [50, 100] forms an array of dim (2, 3, 2, 4)\n",
    "np.random.randint(50, 100, size=(2, 3, 4))"
   ]
  },
  {
   "cell_type": "code",
   "execution_count": null,
   "metadata": {
    "hidden": true
   },
   "outputs": [],
   "source": [
    "#Random 10 floats in [0, 2]\n",
    "np.random.rand(10)*2"
   ]
  },
  {
   "cell_type": "code",
   "execution_count": null,
   "metadata": {
    "hidden": true
   },
   "outputs": [],
   "source": [
    "#float from uniform distributino\n",
    "np.random.uniform(low=5, high=10, size=(2, 2))"
   ]
  },
  {
   "cell_type": "code",
   "execution_count": null,
   "metadata": {
    "hidden": true
   },
   "outputs": [],
   "source": [
    "#float from normal distributino\n",
    "np.random.normal(loc=5, scale=10, size=(2, 2))"
   ]
  },
  {
   "cell_type": "markdown",
   "metadata": {
    "heading_collapsed": true
   },
   "source": [
    "#### Loops"
   ]
  },
  {
   "cell_type": "markdown",
   "metadata": {
    "heading_collapsed": true,
    "hidden": true
   },
   "source": [
    "###### Looping - two iterators "
   ]
  },
  {
   "cell_type": "code",
   "execution_count": null,
   "metadata": {
    "hidden": true
   },
   "outputs": [],
   "source": [
    "k = [i/10 for i in range(3, 16, 1)]\n",
    "k"
   ]
  },
  {
   "cell_type": "code",
   "execution_count": null,
   "metadata": {
    "hidden": true
   },
   "outputs": [],
   "source": [
    "l = [i/10 for i in range(13, 26, 1)]\n",
    "l"
   ]
  },
  {
   "cell_type": "code",
   "execution_count": null,
   "metadata": {
    "hidden": true
   },
   "outputs": [],
   "source": [
    "for i, j in zip(k, l):\n",
    "    print(i, j)"
   ]
  },
  {
   "cell_type": "code",
   "execution_count": null,
   "metadata": {
    "hidden": true
   },
   "outputs": [],
   "source": [
    "for i, j in zip(range(0, 10), range(10, 20)):\n",
    "    print(i, j)"
   ]
  },
  {
   "cell_type": "markdown",
   "metadata": {
    "heading_collapsed": true,
    "hidden": true
   },
   "source": [
    "###### Looping - backwards"
   ]
  },
  {
   "cell_type": "code",
   "execution_count": null,
   "metadata": {
    "hidden": true
   },
   "outputs": [],
   "source": [
    "for i in range(100, -1, -1):\n",
    "    print(i)"
   ]
  },
  {
   "cell_type": "markdown",
   "metadata": {
    "heading_collapsed": true
   },
   "source": [
    "#### If - Else - Elif"
   ]
  },
  {
   "cell_type": "markdown",
   "metadata": {
    "heading_collapsed": true,
    "hidden": true
   },
   "source": [
    "###### If - Else in one lines"
   ]
  },
  {
   "cell_type": "code",
   "execution_count": null,
   "metadata": {
    "hidden": true
   },
   "outputs": [],
   "source": [
    "#If else in one line\n",
    "b = -1\n",
    "a = \"positive\" if b >= 0 else \"negative\"\n",
    "\n",
    "print(a)"
   ]
  },
  {
   "cell_type": "code",
   "execution_count": null,
   "metadata": {
    "hidden": true
   },
   "outputs": [],
   "source": [
    "#In generic form\n",
    "b = -1\n",
    "\n",
    "if b >= 0:\n",
    "    a = \"positive\"\n",
    "else:\n",
    "    a = \"negative\"\n",
    "\n",
    "print(a)"
   ]
  },
  {
   "cell_type": "code",
   "execution_count": null,
   "metadata": {
    "hidden": true
   },
   "outputs": [],
   "source": [
    "#If Elif Else in one line\n",
    "b = 1\n",
    "a = \"negative\" if b < 0 else \"postive\" if b > 0 else \"zero\"\n",
    "\n",
    "print(a)"
   ]
  },
  {
   "cell_type": "code",
   "execution_count": null,
   "metadata": {
    "hidden": true
   },
   "outputs": [],
   "source": [
    "#If Elif Else in generic form\n",
    "b = 1\n",
    "\n",
    "if b < 0:\n",
    "    a = \"neg\"\n",
    "elif b > 0:\n",
    "    a = \"pos\"\n",
    "else:\n",
    "    zero\n",
    "\n",
    "print(a)"
   ]
  },
  {
   "cell_type": "code",
   "execution_count": null,
   "metadata": {
    "hidden": true
   },
   "outputs": [],
   "source": [
    "#If only 1 element in list\n",
    "if (len(nums)==1):\n",
    "    return 0 if (nums[0]==target) else -1"
   ]
  },
  {
   "cell_type": "code",
   "execution_count": null,
   "metadata": {
    "hidden": true
   },
   "outputs": [],
   "source": [
    "#Generic form\n",
    "if (len(nums)==1):\n",
    "    if (nums[0]==target):\n",
    "        return 0 \n",
    "    else:\n",
    "        return -1"
   ]
  },
  {
   "cell_type": "markdown",
   "metadata": {
    "heading_collapsed": true
   },
   "source": [
    "#### Try - Except "
   ]
  },
  {
   "cell_type": "markdown",
   "metadata": {
    "heading_collapsed": true,
    "hidden": true
   },
   "source": [
    "###### General template "
   ]
  },
  {
   "cell_type": "code",
   "execution_count": null,
   "metadata": {
    "hidden": true
   },
   "outputs": [],
   "source": [
    "try:\n",
    "    code a\n",
    "except ExplicitException:\n",
    "    pass\n",
    "\n",
    "try:\n",
    "    code b\n",
    "except ExplicitException:\n",
    "    try:\n",
    "        code c\n",
    "    except ExplicitException:\n",
    "        try:\n",
    "            code d\n",
    "        except ExplicitException:\n",
    "            pass\n"
   ]
  },
  {
   "cell_type": "code",
   "execution_count": null,
   "metadata": {
    "hidden": true
   },
   "outputs": [],
   "source": [
    "try:\n",
    "    code a\n",
    "except ExplicitException:\n",
    "    pass\n",
    "\n",
    "try:\n",
    "    code b\n",
    "except ExplicitException:\n",
    "    pass\n",
    "\n",
    "try:\n",
    "    code c\n",
    "except ExplicitException:\n",
    "    pass\n",
    "\n",
    "try:\n",
    "    code d\n",
    "except ExplicitException:\n",
    "    pass"
   ]
  },
  {
   "cell_type": "code",
   "execution_count": null,
   "metadata": {
    "hidden": true
   },
   "outputs": [],
   "source": [
    "try:\n",
    "    code a\n",
    "except TypeError:\n",
    "    code b\n",
    "except ZeroDivisionError:\n",
    "    code c"
   ]
  },
  {
   "cell_type": "markdown",
   "metadata": {
    "heading_collapsed": true,
    "hidden": true
   },
   "source": [
    "###### Print Error msg in Try/Except"
   ]
  },
  {
   "cell_type": "code",
   "execution_count": null,
   "metadata": {
    "hidden": true
   },
   "outputs": [],
   "source": [
    "\"\"\"\n",
    "What I want: print(Error msg, file, line number):\n",
    "\n",
    "\n",
    "Traceback (most recent call last):\n",
    "  File \"c:/tmp.py\", line 1, in <module>\n",
    "    4 / 0\n",
    "ZeroDivisionError: integer division or modulo by zero\n",
    "\n",
    "ZeroDivisonError, tmp.py, 1\n",
    "\"\"\""
   ]
  },
  {
   "cell_type": "code",
   "execution_count": null,
   "metadata": {
    "hidden": true
   },
   "outputs": [],
   "source": [
    "import sys, os\n",
    "\n",
    "try:\n",
    "    raise NotImplementedError(\"No error\")\n",
    "except Exception as e:\n",
    "    exc_type, exc_obj, exc_tb = sys.exc_info()\n",
    "    fname = os.path.split(exc_tb.tb_frame.f_code.co_filename)[1]\n",
    "    print(exc_type, fname, exc_tb.tb_lineno)"
   ]
  },
  {
   "cell_type": "markdown",
   "metadata": {
    "heading_collapsed": true
   },
   "source": [
    "#### With statement"
   ]
  },
  {
   "cell_type": "code",
   "execution_count": null,
   "metadata": {
    "hidden": true
   },
   "outputs": [],
   "source": [
    "#WITH statement in Python is used in exception handling to make the code cleaner and much more readable.\n",
    "#    -Simplified the managements of common resources like file streams"
   ]
  },
  {
   "cell_type": "code",
   "execution_count": null,
   "metadata": {
    "hidden": true
   },
   "outputs": [],
   "source": [
    "#File handling WITHOUT using WITH statement\n",
    "  \n",
    "# 1) without using with statement\n",
    "file = open('file_path', 'w')\n",
    "file.write('hello world !')\n",
    "file.close()\n",
    "  \n",
    "# 2) without using with statement\n",
    "file = open('file_path', 'w')\n",
    "try:\n",
    "    file.write('hello world')\n",
    "finally:\n",
    "    file.close()"
   ]
  },
  {
   "cell_type": "code",
   "execution_count": null,
   "metadata": {
    "hidden": true
   },
   "outputs": [],
   "source": [
    "#File handling WITH using WITH statement\n",
    "#    - no need to call file.close()\n",
    "with open('file_path', 'w') as file:\n",
    "    file.write('hello world !')"
   ]
  },
  {
   "cell_type": "markdown",
   "metadata": {
    "heading_collapsed": true
   },
   "source": [
    "#### Variables - Annotations + Declarations + Swap + Eval"
   ]
  },
  {
   "cell_type": "markdown",
   "metadata": {
    "heading_collapsed": true,
    "hidden": true
   },
   "source": [
    "###### Swap variables - One line assignment"
   ]
  },
  {
   "cell_type": "code",
   "execution_count": null,
   "metadata": {
    "hidden": true
   },
   "outputs": [],
   "source": [
    "#One line swap!!!\n",
    "a=20; b=30\n",
    "\n",
    "a, b = b, a\n",
    "print(a, b)"
   ]
  },
  {
   "cell_type": "code",
   "execution_count": null,
   "metadata": {
    "hidden": true
   },
   "outputs": [],
   "source": [
    "#Not same as above!!!\n",
    "a=20; b=30\n",
    "\n",
    "a = b\n",
    "b = a\n",
    "print(a, b)"
   ]
  },
  {
   "cell_type": "markdown",
   "metadata": {
    "heading_collapsed": true,
    "hidden": true
   },
   "source": [
    "###### Test nan"
   ]
  },
  {
   "cell_type": "code",
   "execution_count": null,
   "metadata": {
    "hidden": true
   },
   "outputs": [],
   "source": [
    "a = np.nan\n",
    "if (math.isnan(a)):\n",
    "    print(\"hahaha\")"
   ]
  },
  {
   "cell_type": "markdown",
   "metadata": {
    "heading_collapsed": true,
    "hidden": true
   },
   "source": [
    "###### Global Variables iniside function "
   ]
  },
  {
   "cell_type": "code",
   "execution_count": 2,
   "metadata": {
    "hidden": true
   },
   "outputs": [
    {
     "name": "stdout",
     "output_type": "stream",
     "text": [
      "Value of x inside a function : 20\n",
      "Value of x outside a function : 20\n"
     ]
    }
   ],
   "source": [
    "x = 15\n",
    "def change(): \n",
    "  # using a global keyword \n",
    "    global x \n",
    "  # increment value of a by 5 \n",
    "    x = x + 5 \n",
    "    print(\"Value of x inside a function :\", x) \n",
    "\n",
    "change() \n",
    "print(\"Value of x outside a function :\", x) "
   ]
  },
  {
   "cell_type": "markdown",
   "metadata": {
    "heading_collapsed": true,
    "hidden": true
   },
   "source": [
    "###### Define Variable Name ITERATIVELY - globals() + locals()"
   ]
  },
  {
   "cell_type": "code",
   "execution_count": null,
   "metadata": {
    "hidden": true
   },
   "outputs": [],
   "source": [
    "#Globals()\n",
    "for i in range(3):\n",
    "    globals()[\"v\" + str(i)] = i**2\n",
    "\n",
    "print(v0, v1, v2)"
   ]
  },
  {
   "cell_type": "code",
   "execution_count": null,
   "metadata": {
    "hidden": true
   },
   "outputs": [],
   "source": [
    "#Locals()\n",
    "def haha():\n",
    "    asdf = 1\n",
    "    for i in range(3):\n",
    "\n",
    "        #Call locals() to create local variables in the scope of where it is created\n",
    "        locals()[\"v\" + str(i)] = i**2        \n",
    "        \n",
    "        #Call variables by locals()\n",
    "        print(locals()[\"v\"+str(i)])\n",
    "\n",
    "haha()"
   ]
  },
  {
   "cell_type": "markdown",
   "metadata": {
    "heading_collapsed": true,
    "hidden": true
   },
   "source": [
    "###### Evaluate a variable's content - eval() "
   ]
  },
  {
   "cell_type": "code",
   "execution_count": 108,
   "metadata": {
    "hidden": true
   },
   "outputs": [],
   "source": [
    "a = \"haha\""
   ]
  },
  {
   "cell_type": "code",
   "execution_count": null,
   "metadata": {
    "hidden": true
   },
   "outputs": [],
   "source": [
    "eval(\"a\") + \"1\""
   ]
  },
  {
   "cell_type": "markdown",
   "metadata": {
    "heading_collapsed": true,
    "hidden": true
   },
   "source": [
    "###### Syntax for Variable Annotations + Declaration (PEP 526)"
   ]
  },
  {
   "cell_type": "code",
   "execution_count": null,
   "metadata": {
    "hidden": true
   },
   "outputs": [],
   "source": [
    "from typing import Union, Tuple, Any, Callable, Iterator\n",
    "from typing import Set, Optional, overload,TypeVar, Mapping, Dict, List, ClassVar"
   ]
  },
  {
   "cell_type": "code",
   "execution_count": null,
   "metadata": {
    "hidden": true
   },
   "outputs": [],
   "source": [
    "primes: List[int] = []    \n",
    "\n",
    "#Same as: \n",
    "primes = []"
   ]
  },
  {
   "cell_type": "code",
   "execution_count": null,
   "metadata": {
    "hidden": true
   },
   "outputs": [],
   "source": [
    "class Starship:\n",
    "    stats: ClassVar[Dict[str, int]] = {}\n",
    "        \n",
    "#Same as \n",
    "class Starship:\n",
    "    stats = {}"
   ]
  },
  {
   "cell_type": "markdown",
   "metadata": {
    "heading_collapsed": true
   },
   "source": [
    "#### Type Hints: typing"
   ]
  },
  {
   "cell_type": "markdown",
   "metadata": {
    "heading_collapsed": true,
    "hidden": true
   },
   "source": [
    "###### TypeVar"
   ]
  },
  {
   "cell_type": "code",
   "execution_count": 60,
   "metadata": {
    "hidden": true
   },
   "outputs": [],
   "source": [
    "#A user-defined class can be defined as a generic class.\n",
    "from typing import TypeVar, Generic\n",
    "from logging import Logger\n",
    "\n",
    "T = TypeVar('T')\n",
    "\n",
    "class LoggedVar(Generic[T]):\n",
    "    def __init__(self, value: T, name: str, logger: Logger) -> None:\n",
    "        self.name = name\n",
    "        self.logger = logger\n",
    "        self.value = value\n",
    "\n",
    "    def set(self, new: T) -> None:\n",
    "        self.log('Set ' + repr(self.value))\n",
    "        self.value = new\n",
    "\n",
    "    def get(self) -> T:\n",
    "        self.log('Get ' + repr(self.value))\n",
    "        return self.value\n",
    "\n",
    "    def log(self, message: str) -> None:\n",
    "        self.logger.info('%s: %s', self.name, message)"
   ]
  },
  {
   "cell_type": "markdown",
   "metadata": {
    "heading_collapsed": true,
    "hidden": true
   },
   "source": [
    "###### New Type"
   ]
  },
  {
   "cell_type": "code",
   "execution_count": 54,
   "metadata": {
    "hidden": true
   },
   "outputs": [],
   "source": [
    "#Use the NewType helper class to create distinct types:\n",
    "from typing import NewType\n",
    "\n",
    "UserId = NewType('UserId', int)\n",
    "some_id = UserId(524313)"
   ]
  },
  {
   "cell_type": "code",
   "execution_count": null,
   "metadata": {
    "hidden": true
   },
   "outputs": [],
   "source": [
    "print(some_id)"
   ]
  },
  {
   "cell_type": "markdown",
   "metadata": {
    "heading_collapsed": true,
    "hidden": true
   },
   "source": [
    "###### Callable type"
   ]
  },
  {
   "cell_type": "code",
   "execution_count": null,
   "metadata": {
    "hidden": true
   },
   "outputs": [],
   "source": [
    "#Callable[[int], str] is a function of (int) -> str."
   ]
  },
  {
   "cell_type": "markdown",
   "metadata": {
    "heading_collapsed": true,
    "hidden": true
   },
   "source": [
    "###### Define Type + Initial value of a Variable "
   ]
  },
  {
   "cell_type": "code",
   "execution_count": 65,
   "metadata": {
    "hidden": true
   },
   "outputs": [],
   "source": [
    "#You are looking at an annotation for a variable. The hint is moved to the __annotations__ mapping:"
   ]
  },
  {
   "cell_type": "code",
   "execution_count": 69,
   "metadata": {
    "hidden": true
   },
   "outputs": [],
   "source": [
    "#Variable name: type of variable = initial value assignment\n",
    "char: str = \"haha\""
   ]
  },
  {
   "cell_type": "code",
   "execution_count": null,
   "metadata": {
    "hidden": true
   },
   "outputs": [],
   "source": [
    "__annotations__"
   ]
  },
  {
   "cell_type": "code",
   "execution_count": null,
   "metadata": {
    "hidden": true
   },
   "outputs": [],
   "source": [
    "char"
   ]
  },
  {
   "cell_type": "markdown",
   "metadata": {
    "heading_collapsed": true
   },
   "source": [
    "#### String"
   ]
  },
  {
   "cell_type": "markdown",
   "metadata": {
    "heading_collapsed": true,
    "hidden": true
   },
   "source": [
    "###### Strings - replace / remove a character"
   ]
  },
  {
   "cell_type": "code",
   "execution_count": null,
   "metadata": {
    "hidden": true
   },
   "outputs": [],
   "source": [
    "\"\"\"\n",
    "- String is not a list!\n",
    "    - It doesn't have pop(), insert() functions as lists do\n",
    "    \n",
    "- Looping characters in string\n",
    "    - for i in string:\n",
    "        ...\n",
    "\"\"\"\n",
    "\n",
    "# Initializing String  \n",
    "test_str = \"GeeksForGeeks\"\n",
    "  \n",
    "# Printing original string  \n",
    "print (\"The original string is : \" + test_str) \n",
    "  \n",
    "# Removing char at pos 3 \n",
    "# using replace \n",
    "new_str = test_str.replace('e', '') \n",
    "  \n",
    "# Printing string after removal   \n",
    "# removes all occurrences of 'e' \n",
    "print (\"The string after removal of i'th character( doesn't work) : \" + new_str) \n",
    "  \n",
    "# Removing 1st occurrence of s, i.e 5th pos. \n",
    "# if we wish to remove it. \n",
    "new_str = test_str.replace('s', '', 1) \n",
    "  \n",
    "# Printing string after removal   \n",
    "# removes first occurrences of s \n",
    "print (\"The string after removal of i'th character(works) : \" + new_str) "
   ]
  },
  {
   "cell_type": "markdown",
   "metadata": {
    "heading_collapsed": true,
    "hidden": true
   },
   "source": [
    "###### String - Convert list to string"
   ]
  },
  {
   "cell_type": "code",
   "execution_count": 12,
   "metadata": {
    "hidden": true
   },
   "outputs": [],
   "source": [
    "a = [\"a\", \"b\", \"c\"]"
   ]
  },
  {
   "cell_type": "code",
   "execution_count": 13,
   "metadata": {
    "hidden": true
   },
   "outputs": [],
   "source": [
    "new_str = \"\""
   ]
  },
  {
   "cell_type": "code",
   "execution_count": null,
   "metadata": {
    "hidden": true
   },
   "outputs": [],
   "source": [
    "new_str.join(a)"
   ]
  },
  {
   "cell_type": "markdown",
   "metadata": {
    "heading_collapsed": true,
    "hidden": true
   },
   "source": [
    "###### String - Add strings"
   ]
  },
  {
   "cell_type": "code",
   "execution_count": null,
   "metadata": {
    "hidden": true
   },
   "outputs": [],
   "source": [
    "b = \"\"\n",
    "\n",
    "a = [2, 4, 3]\n",
    "for i in range(len(a)-1, -1, -1):\n",
    "    \n",
    "    b += str(a[i])\n",
    "    \n",
    "b"
   ]
  },
  {
   "cell_type": "code",
   "execution_count": null,
   "metadata": {
    "hidden": true
   },
   "outputs": [],
   "source": [
    "b + \"asdf\""
   ]
  },
  {
   "cell_type": "markdown",
   "metadata": {
    "heading_collapsed": true
   },
   "source": [
    "#### String - Formatting"
   ]
  },
  {
   "cell_type": "markdown",
   "metadata": {
    "heading_collapsed": true,
    "hidden": true
   },
   "source": [
    "###### F-strings"
   ]
  },
  {
   "cell_type": "code",
   "execution_count": null,
   "metadata": {
    "hidden": true
   },
   "outputs": [],
   "source": [
    "# Python3 program introducing f-string\n",
    "val = 'Geeks'\n",
    "print(f\"{val}for{val} is a portal for {val}.\")\n",
    "\n",
    "\n",
    "name = 'Tushar'\n",
    "age = 23\n",
    "print(f\"Hello, My name is {name} and I'm {age} years old.\")"
   ]
  },
  {
   "cell_type": "code",
   "execution_count": null,
   "metadata": {
    "hidden": true
   },
   "outputs": [],
   "source": [
    "#floats and integers\n",
    "loss    = 0.1234567\n",
    "current = 5000\n",
    "size    = 100\n",
    "\n",
    "print(f\"loss:{loss:>10f}, \\t current: {current:>5d}, \\t size: {size:>5d}\")"
   ]
  },
  {
   "cell_type": "markdown",
   "metadata": {
    "heading_collapsed": true,
    "hidden": true
   },
   "source": [
    "###### .format()"
   ]
  },
  {
   "cell_type": "code",
   "execution_count": null,
   "metadata": {
    "hidden": true
   },
   "outputs": [],
   "source": [
    "print('{:>10}'.format('test'))"
   ]
  },
  {
   "cell_type": "code",
   "execution_count": null,
   "metadata": {
    "hidden": true
   },
   "outputs": [],
   "source": [
    "print('{:<10}'.format('test'))"
   ]
  },
  {
   "cell_type": "code",
   "execution_count": null,
   "metadata": {
    "hidden": true
   },
   "outputs": [],
   "source": [
    "print('{:^10}'.format('test'))"
   ]
  },
  {
   "cell_type": "code",
   "execution_count": null,
   "metadata": {
    "hidden": true
   },
   "outputs": [],
   "source": [
    "print('{:.5}'.format('xylophone'))"
   ]
  },
  {
   "cell_type": "code",
   "execution_count": null,
   "metadata": {
    "hidden": true
   },
   "outputs": [],
   "source": [
    "#numbers\n",
    "print('{:d}'.format(42))"
   ]
  },
  {
   "cell_type": "code",
   "execution_count": null,
   "metadata": {
    "hidden": true
   },
   "outputs": [],
   "source": [
    "print('{:>4d}'.format(42))"
   ]
  },
  {
   "cell_type": "code",
   "execution_count": null,
   "metadata": {
    "hidden": true
   },
   "outputs": [],
   "source": [
    "print('{:>20.3f}'.format(123.141592653589793))"
   ]
  },
  {
   "cell_type": "markdown",
   "metadata": {
    "heading_collapsed": true
   },
   "source": [
    "#### Iterables"
   ]
  },
  {
   "cell_type": "markdown",
   "metadata": {
    "heading_collapsed": true,
    "hidden": true
   },
   "source": [
    "###### Making iterable"
   ]
  },
  {
   "cell_type": "code",
   "execution_count": null,
   "metadata": {
    "hidden": true
   },
   "outputs": [],
   "source": [
    "# An iterator is an object that contains a countable number of values.\n",
    "# An iterator is an object that can be iterated upon, meaning that you can traverse through all the values."
   ]
  },
  {
   "cell_type": "code",
   "execution_count": null,
   "metadata": {
    "hidden": true
   },
   "outputs": [],
   "source": [
    "mytuple = (\"apple\", \"banana\", \"cherry\")\n",
    "myit = iter(mytuple)\n",
    "\n",
    "print(next(myit))\n",
    "print(next(myit))\n",
    "print(next(myit))"
   ]
  },
  {
   "cell_type": "code",
   "execution_count": null,
   "metadata": {
    "hidden": true
   },
   "outputs": [],
   "source": [
    "mystr = \"banana\"\n",
    "myit = iter(mystr)\n",
    "\n",
    "print(next(myit))\n",
    "print(next(myit))\n",
    "print(next(myit))\n",
    "print(next(myit))\n",
    "print(next(myit))\n",
    "print(next(myit))"
   ]
  },
  {
   "cell_type": "code",
   "execution_count": null,
   "metadata": {
    "hidden": true
   },
   "outputs": [],
   "source": [
    "#Iteable list of integers\n",
    "iterable = iter([1, 2, 3, 4])\n",
    "\n",
    "for i in iterable:\n",
    "    print(i)"
   ]
  },
  {
   "cell_type": "markdown",
   "metadata": {
    "heading_collapsed": true,
    "hidden": true
   },
   "source": [
    "###### Check if obj is iterable"
   ]
  },
  {
   "cell_type": "code",
   "execution_count": null,
   "metadata": {
    "hidden": true
   },
   "outputs": [],
   "source": [
    "hasattr(object, \"__iter__\")"
   ]
  },
  {
   "cell_type": "markdown",
   "metadata": {
    "heading_collapsed": true,
    "hidden": true
   },
   "source": [
    "###### enumerate()"
   ]
  },
  {
   "cell_type": "code",
   "execution_count": null,
   "metadata": {
    "hidden": true
   },
   "outputs": [],
   "source": [
    "values = [\"a\", \"b\", \"c\"]\n",
    "\n",
    "for count, value in enumerate(values):\n",
    "    print(count, value)"
   ]
  },
  {
   "cell_type": "markdown",
   "metadata": {
    "heading_collapsed": true
   },
   "source": [
    "#### List"
   ]
  },
  {
   "cell_type": "markdown",
   "metadata": {
    "heading_collapsed": true,
    "hidden": true
   },
   "source": [
    "###### Finding Index of an element"
   ]
  },
  {
   "cell_type": "code",
   "execution_count": null,
   "metadata": {
    "hidden": true
   },
   "outputs": [],
   "source": [
    "a = [1, 2, 3]"
   ]
  },
  {
   "cell_type": "code",
   "execution_count": null,
   "metadata": {
    "hidden": true
   },
   "outputs": [],
   "source": [
    "#Index of minimum\n",
    "a.index(min(a))"
   ]
  },
  {
   "cell_type": "code",
   "execution_count": null,
   "metadata": {
    "hidden": true
   },
   "outputs": [],
   "source": [
    "#INdex of maximum\n",
    "a.index(max(a))"
   ]
  },
  {
   "cell_type": "markdown",
   "metadata": {
    "heading_collapsed": true,
    "hidden": true
   },
   "source": [
    "###### Convert String to list"
   ]
  },
  {
   "cell_type": "code",
   "execution_count": 33,
   "metadata": {
    "hidden": true
   },
   "outputs": [],
   "source": [
    "string = \"asdfasdf\""
   ]
  },
  {
   "cell_type": "code",
   "execution_count": null,
   "metadata": {
    "hidden": true
   },
   "outputs": [],
   "source": [
    "list(string)"
   ]
  },
  {
   "cell_type": "markdown",
   "metadata": {
    "heading_collapsed": true,
    "hidden": true
   },
   "source": [
    "###### Check if an element is in list "
   ]
  },
  {
   "cell_type": "code",
   "execution_count": null,
   "metadata": {
    "hidden": true
   },
   "outputs": [],
   "source": [
    "a = [1, 2, 3, 4, 5]"
   ]
  },
  {
   "cell_type": "code",
   "execution_count": null,
   "metadata": {
    "hidden": true
   },
   "outputs": [],
   "source": [
    "if 1 in a:\n",
    "    print(\"in\")"
   ]
  },
  {
   "cell_type": "markdown",
   "metadata": {
    "heading_collapsed": true,
    "hidden": true
   },
   "source": [
    "###### Adding multiple elements"
   ]
  },
  {
   "cell_type": "code",
   "execution_count": 17,
   "metadata": {
    "hidden": true
   },
   "outputs": [],
   "source": [
    "a = []"
   ]
  },
  {
   "cell_type": "code",
   "execution_count": 18,
   "metadata": {
    "hidden": true
   },
   "outputs": [],
   "source": [
    "a = a + [1, 2, 3]"
   ]
  },
  {
   "cell_type": "code",
   "execution_count": null,
   "metadata": {
    "hidden": true
   },
   "outputs": [],
   "source": [
    "a"
   ]
  },
  {
   "cell_type": "markdown",
   "metadata": {
    "heading_collapsed": true,
    "hidden": true
   },
   "source": [
    "###### Insert element at specific location  "
   ]
  },
  {
   "cell_type": "code",
   "execution_count": null,
   "metadata": {
    "hidden": true
   },
   "outputs": [],
   "source": [
    "a = [1, 2, 3, 4, 5]"
   ]
  },
  {
   "cell_type": "code",
   "execution_count": null,
   "metadata": {
    "hidden": true
   },
   "outputs": [],
   "source": [
    "#At Specific loc\n",
    "a.insert(2, 1000)\n",
    "a"
   ]
  },
  {
   "cell_type": "code",
   "execution_count": null,
   "metadata": {
    "hidden": true
   },
   "outputs": [],
   "source": [
    "#Put it in front, many elements\n",
    "b = [0 ,2]\n",
    "a = b + a\n",
    "a"
   ]
  },
  {
   "cell_type": "markdown",
   "metadata": {
    "heading_collapsed": true,
    "hidden": true
   },
   "source": [
    "###### Remove i-th element of list "
   ]
  },
  {
   "cell_type": "code",
   "execution_count": 2,
   "metadata": {
    "hidden": true
   },
   "outputs": [],
   "source": [
    "a = [1, 2, 3, 4, 5]"
   ]
  },
  {
   "cell_type": "code",
   "execution_count": null,
   "metadata": {
    "hidden": true
   },
   "outputs": [],
   "source": [
    "#Remove the element that has a specific value\n",
    "a.remove(5)\n",
    "a"
   ]
  },
  {
   "cell_type": "code",
   "execution_count": null,
   "metadata": {
    "hidden": true
   },
   "outputs": [],
   "source": [
    "#Delete First element\n",
    "del a[0]\n",
    "a"
   ]
  },
  {
   "cell_type": "code",
   "execution_count": null,
   "metadata": {
    "hidden": true
   },
   "outputs": [],
   "source": [
    "#Delete First element\n",
    "a.pop(0)\n",
    "a"
   ]
  },
  {
   "cell_type": "code",
   "execution_count": null,
   "metadata": {
    "hidden": true
   },
   "outputs": [],
   "source": [
    "#By subset selection\n",
    "nums_i = nums[0:i] + nums[i+1:len(nums)]"
   ]
  },
  {
   "cell_type": "code",
   "execution_count": 100,
   "metadata": {
    "hidden": true
   },
   "outputs": [
    {
     "data": {
      "text/plain": [
       "[1, 3, 4, 5]"
      ]
     },
     "execution_count": 100,
     "metadata": {},
     "output_type": "execute_result"
    }
   ],
   "source": [
    "a = [1, 2, 3, 4, 5]\n",
    "a[0:1] + a[2:len(a)]"
   ]
  },
  {
   "cell_type": "markdown",
   "metadata": {
    "heading_collapsed": true,
    "hidden": true
   },
   "source": [
    "###### Remove all elemts except specifc elements "
   ]
  },
  {
   "cell_type": "code",
   "execution_count": null,
   "metadata": {
    "hidden": true
   },
   "outputs": [],
   "source": [
    "#Using try + except\n",
    "test_list   = [1, 3, 4, 6, 7] \n",
    "remove_list = [3, 6] \n",
    "print(test_list)\n",
    "\n",
    "for i in remove_list: \n",
    "    try: \n",
    "        test_list.remove(i) \n",
    "    except ValueError: \n",
    "        pass\n",
    "    \n",
    "print(test_list)"
   ]
  },
  {
   "cell_type": "code",
   "execution_count": null,
   "metadata": {
    "hidden": true
   },
   "outputs": [],
   "source": [
    "#Using List Comprehension\n",
    "test_list   = [1, 3, 4, 6, 7] \n",
    "remove_list = [3, 6] \n",
    "print(test_list)\n",
    "\n",
    "final_list  = [i for i in test_list if (i not in remove_list)] \n",
    "print(final_list)"
   ]
  },
  {
   "cell_type": "markdown",
   "metadata": {
    "heading_collapsed": true,
    "hidden": true
   },
   "source": [
    "###### Reverse order"
   ]
  },
  {
   "cell_type": "code",
   "execution_count": null,
   "metadata": {
    "hidden": true
   },
   "outputs": [],
   "source": [
    "#call reverse()\n",
    "a = [1, 2, 3]\n",
    "a.reverse()\n",
    "print(a)"
   ]
  },
  {
   "cell_type": "code",
   "execution_count": null,
   "metadata": {
    "hidden": true
   },
   "outputs": [],
   "source": [
    "#By for loop (works for strings)\n",
    "a = [1, 2, 3]\n",
    "a_new = []\n",
    "\n",
    "for i in range(len(a)-1, -1, -1):\n",
    "    a_new.append(i)\n",
    "    \n",
    "print(a_new)"
   ]
  },
  {
   "cell_type": "markdown",
   "metadata": {
    "heading_collapsed": true,
    "hidden": true
   },
   "source": [
    "###### Subset of list + iterate through speccific range of list "
   ]
  },
  {
   "cell_type": "code",
   "execution_count": null,
   "metadata": {
    "hidden": true
   },
   "outputs": [],
   "source": [
    "a = [(i + 0.5)/10 for i in range(-10, 10, 1)]\n",
    "print(a)"
   ]
  },
  {
   "cell_type": "code",
   "execution_count": null,
   "metadata": {
    "hidden": true
   },
   "outputs": [],
   "source": [
    "a[0:5]"
   ]
  },
  {
   "cell_type": "code",
   "execution_count": null,
   "metadata": {
    "hidden": true
   },
   "outputs": [],
   "source": [
    "for i in a[0:-1]:\n",
    "    print(i)"
   ]
  },
  {
   "cell_type": "markdown",
   "metadata": {
    "heading_collapsed": true,
    "hidden": true
   },
   "source": [
    "###### List Comprehension "
   ]
  },
  {
   "cell_type": "code",
   "execution_count": null,
   "metadata": {
    "hidden": true
   },
   "outputs": [],
   "source": [
    "#list of floats\n",
    "k = [i/10 for i in range(3, 16, 1)]\n",
    "k"
   ]
  },
  {
   "cell_type": "code",
   "execution_count": null,
   "metadata": {
    "hidden": true
   },
   "outputs": [],
   "source": [
    "#2d list\n",
    "list_a = [1, 2, 3]\n",
    "list_b = [2, 7]\n",
    "\n",
    "different_num = [(a, b) for a in list_a for b in list_b if a != b]\n",
    "\n",
    "print(different_num)"
   ]
  },
  {
   "cell_type": "markdown",
   "metadata": {
    "heading_collapsed": true,
    "hidden": true
   },
   "source": [
    "###### Selection - iterative "
   ]
  },
  {
   "cell_type": "code",
   "execution_count": 29,
   "metadata": {
    "hidden": true
   },
   "outputs": [],
   "source": [
    "a = [\"a\", \"b\", \"c\", \"d\", \"e\", \"f\", \"g\", \"h\", \"i\", \"j\"]"
   ]
  },
  {
   "cell_type": "code",
   "execution_count": null,
   "metadata": {
    "hidden": true
   },
   "outputs": [],
   "source": [
    "#From first elemet, iterate in steps of 2\n",
    "a[0::2]"
   ]
  },
  {
   "cell_type": "markdown",
   "metadata": {
    "heading_collapsed": true,
    "hidden": true
   },
   "source": [
    "###### Selection - subset "
   ]
  },
  {
   "cell_type": "code",
   "execution_count": 29,
   "metadata": {
    "hidden": true
   },
   "outputs": [],
   "source": [
    "a = [\"a\", \"b\", \"c\", \"d\", \"e\", \"f\", \"g\", \"h\", \"i\", \"j\"]"
   ]
  },
  {
   "cell_type": "code",
   "execution_count": null,
   "metadata": {
    "hidden": true
   },
   "outputs": [],
   "source": [
    "a[0:4]"
   ]
  },
  {
   "cell_type": "code",
   "execution_count": null,
   "metadata": {
    "hidden": true
   },
   "outputs": [],
   "source": [
    "a[0:4:2]"
   ]
  },
  {
   "cell_type": "markdown",
   "metadata": {
    "heading_collapsed": true
   },
   "source": [
    "#### Dictionary "
   ]
  },
  {
   "cell_type": "markdown",
   "metadata": {
    "heading_collapsed": true,
    "hidden": true
   },
   "source": [
    "###### adding values "
   ]
  },
  {
   "cell_type": "code",
   "execution_count": 6,
   "metadata": {
    "hidden": true
   },
   "outputs": [],
   "source": [
    "dict = {}\n",
    "\n",
    "#2 ways to update dictionary\n",
    "dict[1] = \"haha\"\n",
    "dict.update({ 2: \"kaka\" })"
   ]
  },
  {
   "cell_type": "markdown",
   "metadata": {
    "heading_collapsed": true,
    "hidden": true
   },
   "source": [
    "###### Check if key exists - get() function"
   ]
  },
  {
   "cell_type": "code",
   "execution_count": 10,
   "metadata": {
    "hidden": true
   },
   "outputs": [],
   "source": [
    "d = {\"a\":1}"
   ]
  },
  {
   "cell_type": "code",
   "execution_count": null,
   "metadata": {
    "hidden": true
   },
   "outputs": [],
   "source": [
    "#get() function to check is key exicst!!!\n",
    "d.get(\"b\") == None"
   ]
  },
  {
   "cell_type": "code",
   "execution_count": null,
   "metadata": {
    "hidden": true
   },
   "outputs": [],
   "source": [
    "#Dont use this to check if key \"b\" exist. Will give error if non-existent\n",
    "d[\"b\"]"
   ]
  },
  {
   "cell_type": "markdown",
   "metadata": {
    "heading_collapsed": true,
    "hidden": true
   },
   "source": [
    "###### Comprehension"
   ]
  },
  {
   "cell_type": "code",
   "execution_count": null,
   "metadata": {
    "hidden": true
   },
   "outputs": [],
   "source": [
    "#General template for dictionary comph.\n",
    "dict_variable = {key:value for (key,value) in dictonary.items()}"
   ]
  },
  {
   "cell_type": "code",
   "execution_count": 46,
   "metadata": {
    "hidden": true
   },
   "outputs": [
    {
     "name": "stdout",
     "output_type": "stream",
     "text": [
      "{'a': 2, 'b': 4, 'c': 6, 'd': 8, 'e': 10}\n"
     ]
    }
   ],
   "source": [
    "dict1 = {'a': 1, 'b': 2, 'c': 3, 'd': 4, 'e': 5}\n",
    "\n",
    "# Double each value in the dictionary\n",
    "double_dict1 = {k:v*2 for (k,v) in dict1.items()}\n",
    "print(double_dict1)"
   ]
  },
  {
   "cell_type": "markdown",
   "metadata": {
    "heading_collapsed": true,
    "hidden": true
   },
   "source": [
    "###### Iterating  + Get keys and values"
   ]
  },
  {
   "cell_type": "code",
   "execution_count": null,
   "metadata": {
    "hidden": true
   },
   "outputs": [],
   "source": [
    "for key in dictionary:\n",
    "    print(key, dictionary[key])"
   ]
  },
  {
   "cell_type": "code",
   "execution_count": null,
   "metadata": {
    "hidden": true
   },
   "outputs": [],
   "source": [
    "#Sorted dictionary\n",
    "for key in sorted(dictionary):\n",
    "    print(key, dictionary[key])"
   ]
  },
  {
   "cell_type": "code",
   "execution_count": null,
   "metadata": {
    "hidden": true
   },
   "outputs": [],
   "source": [
    "for key in dictioinary.keys(): ...\n",
    "    print(key, dictionary[key])    "
   ]
  },
  {
   "cell_type": "code",
   "execution_count": null,
   "metadata": {
    "hidden": true
   },
   "outputs": [],
   "source": [
    "for key, value in dictionary.items(): ..."
   ]
  },
  {
   "cell_type": "code",
   "execution_count": 7,
   "metadata": {
    "hidden": true
   },
   "outputs": [],
   "source": [
    "#get() function\n",
    "d = {\"a\":1}"
   ]
  },
  {
   "cell_type": "code",
   "execution_count": null,
   "metadata": {
    "hidden": true
   },
   "outputs": [],
   "source": [
    "d[\"a\"]"
   ]
  },
  {
   "cell_type": "code",
   "execution_count": null,
   "metadata": {
    "hidden": true
   },
   "outputs": [],
   "source": [
    "d.get(\"a\")"
   ]
  },
  {
   "cell_type": "markdown",
   "metadata": {
    "heading_collapsed": true,
    "hidden": true
   },
   "source": [
    "###### Reverse + Sort "
   ]
  },
  {
   "cell_type": "code",
   "execution_count": 2,
   "metadata": {
    "hidden": true
   },
   "outputs": [],
   "source": [
    "a = {1:0.9, 2:0.8, 3:0.7, 4:0.6, 5:0.5}"
   ]
  },
  {
   "cell_type": "code",
   "execution_count": 3,
   "metadata": {
    "hidden": true
   },
   "outputs": [],
   "source": [
    "#Reverse keys with values, create list of tuples (to use reverse() and sort() method)\n",
    "reverse_key_value = [(b, a) for (a, b) in a.items()]\n",
    "\n",
    "#Sort in descending order then reverse order of the first item\n",
    "reverse_key_value.sort()\n",
    "\n",
    "#Reverse ascending order to desending order of the first item\n",
    "reverse_key_value.reverse()"
   ]
  },
  {
   "cell_type": "code",
   "execution_count": null,
   "metadata": {
    "hidden": true
   },
   "outputs": [],
   "source": [
    "reverse_key_value"
   ]
  },
  {
   "cell_type": "code",
   "execution_count": null,
   "metadata": {
    "hidden": true
   },
   "outputs": [],
   "source": [
    "reverse_key_value[0]"
   ]
  },
  {
   "cell_type": "code",
   "execution_count": null,
   "metadata": {
    "hidden": true
   },
   "outputs": [],
   "source": [
    "reverse_key_value[0]"
   ]
  },
  {
   "cell_type": "markdown",
   "metadata": {
    "heading_collapsed": true,
    "hidden": true
   },
   "source": [
    "###### Get Max value"
   ]
  },
  {
   "cell_type": "code",
   "execution_count": 2,
   "metadata": {
    "hidden": true
   },
   "outputs": [],
   "source": [
    "dict1 = {\"a\":3, \"b\":4, \"c\":5}"
   ]
  },
  {
   "cell_type": "code",
   "execution_count": null,
   "metadata": {
    "hidden": true
   },
   "outputs": [],
   "source": [
    "#Max value\n",
    "max(dict1.values())"
   ]
  },
  {
   "cell_type": "code",
   "execution_count": null,
   "metadata": {
    "hidden": true
   },
   "outputs": [],
   "source": [
    "#Key of max value\n",
    "max(dict1, key=dict1.get)"
   ]
  },
  {
   "cell_type": "markdown",
   "metadata": {
    "heading_collapsed": true
   },
   "source": [
    "#### TIME - Compute Time Measure "
   ]
  },
  {
   "cell_type": "code",
   "execution_count": null,
   "metadata": {
    "hidden": true
   },
   "outputs": [],
   "source": [
    "#use \"%timeit\" or \"%%time for cell, %time for line\" in jupyter notebook"
   ]
  },
  {
   "cell_type": "code",
   "execution_count": null,
   "metadata": {
    "hidden": true
   },
   "outputs": [],
   "source": [
    "start = time.time()\n",
    "\n",
    "\n",
    "for i in range(0, 10000000):\n",
    "    i = i + 1\n",
    "\n",
    "end = time.time()\n",
    "print(\"Computation time = \", end - start )\n"
   ]
  },
  {
   "cell_type": "markdown",
   "metadata": {
    "heading_collapsed": true
   },
   "source": [
    "#### SYS - get size of an object "
   ]
  },
  {
   "cell_type": "code",
   "execution_count": null,
   "metadata": {
    "hidden": true
   },
   "outputs": [],
   "source": [
    "#Get size of a python object via sys.getsizeof():\n",
    "sys.getsizeof(obj)"
   ]
  },
  {
   "cell_type": "code",
   "execution_count": null,
   "metadata": {
    "hidden": true
   },
   "outputs": [],
   "source": [
    "#Get size of a pandas df via pandas memory_usage().sum():\n",
    "df.memory_usage().sum()"
   ]
  },
  {
   "cell_type": "markdown",
   "metadata": {
    "heading_collapsed": true
   },
   "source": [
    "#### SYS - find defined paths "
   ]
  },
  {
   "cell_type": "code",
   "execution_count": null,
   "metadata": {
    "hidden": true
   },
   "outputs": [],
   "source": [
    "import sys"
   ]
  },
  {
   "cell_type": "code",
   "execution_count": null,
   "metadata": {
    "hidden": true
   },
   "outputs": [],
   "source": [
    "for i in sys.path:\n",
    "    print(i)"
   ]
  },
  {
   "cell_type": "markdown",
   "metadata": {
    "heading_collapsed": true
   },
   "source": [
    "#### PICKLE - save objects "
   ]
  },
  {
   "cell_type": "code",
   "execution_count": 3,
   "metadata": {
    "hidden": true
   },
   "outputs": [],
   "source": [
    "#Dictionary saving\n",
    "dictionary_data = {\"a\": 1, \"b\": 2}\n",
    "\n",
    "#write\n",
    "a_file = open(\"data.pkl\", \"wb\")\n",
    "pickle.dump(dictionary_data, a_file)\n",
    "a_file.close()"
   ]
  },
  {
   "cell_type": "code",
   "execution_count": null,
   "metadata": {
    "hidden": true
   },
   "outputs": [],
   "source": [
    "#read\n",
    "a_file = open(\"data.pkl\", \"rb\")\n",
    "output = pickle.load(a_file)\n",
    "a_file.close()\n",
    "print(output)"
   ]
  },
  {
   "cell_type": "markdown",
   "metadata": {
    "heading_collapsed": true
   },
   "source": [
    "#### I/O "
   ]
  },
  {
   "cell_type": "markdown",
   "metadata": {
    "heading_collapsed": true,
    "hidden": true
   },
   "source": [
    "###### I/O File - Reading/Opening Files "
   ]
  },
  {
   "cell_type": "code",
   "execution_count": null,
   "metadata": {
    "hidden": true
   },
   "outputs": [],
   "source": [
    "#Open Target data save into 2d list lines\n",
    "with open(\"./g9a_Tpol.txt\") as f:\n",
    "    lines = f.readlines()\n",
    "\n",
    "    for i in range(len(lines)):\n",
    "        lines[i] = lines[i].split(\",\")\n",
    "\n",
    "        for j in range(len(lines[i])):\n",
    "            lines[i][j] = lines[i][j].strip()\n",
    "            lines[i][0] = int(lines[i][0])\n",
    "\n",
    "        for j in range(len(lines[i])):\n",
    "            lines[i][1] = float(lines[i][1])\n",
    "            lines[i][2] = float(lines[i][2])            \n",
    "            lines[i][3] = float(lines[i][3])"
   ]
  },
  {
   "cell_type": "code",
   "execution_count": null,
   "metadata": {
    "hidden": true
   },
   "outputs": [],
   "source": [
    "#Reading\n",
    "#Format Conversion: raw txt -> dictionary\n",
    "content = []\n",
    "theo_dict = {}\n",
    "\n",
    "with open(\"./SAID_E_theo_raw.txt\") as f:\n",
    "    lines = f.readlines()\n",
    "\n",
    "#Strip - remove leading/trailing white spaces\n",
    "for x in lines:\n",
    "    content.append(x.strip())\n",
    "    \n",
    "for i in content:\n",
    "    if (i == ''):\n",
    "        content.remove(i)\n",
    "        \n",
    "for i in range(len(content)):\n",
    "    if (content[i][0]==\"E\"):\n",
    "        E_list = []\n",
    "        for j in range(1, 22):\n",
    "            E_list.append(content[i + j])\n",
    "        \n",
    "        theo_dict[content[i]] = E_list"
   ]
  },
  {
   "cell_type": "code",
   "execution_count": null,
   "metadata": {
    "hidden": true
   },
   "outputs": [],
   "source": [
    "#Writing\n",
    "#Save theo_dict into csv\n",
    "with open(\"./theo_dict\", \"w\") as f:\n",
    "    writer = csv.writer(f, delimiter=\",\")\n",
    "    \n",
    "    for key in sorted(theo_dict.keys()):\n",
    "        writer.writerow([key] + theo_dict[key])"
   ]
  },
  {
   "cell_type": "code",
   "execution_count": null,
   "metadata": {
    "hidden": true
   },
   "outputs": [],
   "source": [
    "#Save E_dict\n",
    "with open(\"./run_period_3/E_dict\", \"w\") as f:\n",
    "    writer = csv.writer(f, delimiter=\"\\t\")\n",
    "    \n",
    "    for key in sorted(E_dict.keys()):\n",
    "        writer.writerow([key] + E_dict[key])"
   ]
  },
  {
   "cell_type": "code",
   "execution_count": null,
   "metadata": {
    "hidden": true
   },
   "outputs": [],
   "source": [
    "#Read E_dict\n",
    "df     = pd.read_csv(\"./run_period_3/E_dict\", index_col=0, delimiter=\"\\t\", header=None)\n",
    "E_dict = df.transpose().to_dict(orient=\"list\")"
   ]
  },
  {
   "cell_type": "markdown",
   "metadata": {
    "heading_collapsed": true
   },
   "source": [
    "#### Floating Point Arithmetic "
   ]
  },
  {
   "cell_type": "code",
   "execution_count": null,
   "metadata": {
    "hidden": true
   },
   "outputs": [],
   "source": [
    "\"\"\"See pandas_python_numpy.ipynb: Data Types chapter: Floating point arithmatics sec\"\"\""
   ]
  },
  {
   "cell_type": "markdown",
   "metadata": {
    "hidden": true
   },
   "source": [
    "* https://stackoverflow.com/questions/588004/is-floating-point-math-broken"
   ]
  },
  {
   "cell_type": "markdown",
   "metadata": {
    "heading_collapsed": true
   },
   "source": [
    "#### Underscore Conventions"
   ]
  },
  {
   "cell_type": "markdown",
   "metadata": {
    "hidden": true
   },
   "source": [
    "_single_leading_underscore\n",
    "\n",
    "This convention is used for declaring private variables, functions, methods and classes in a module. Anything with this convention are ignored in from module import *. \n",
    "However, of course, Python does not supports truly private, so we can not force somethings private ones and also can call it directly from other modules. So sometimes we say it “weak internal use indicator”."
   ]
  },
  {
   "cell_type": "markdown",
   "metadata": {
    "hidden": true
   },
   "source": [
    "single_trailing_underscore_\n",
    "\n",
    "This convention could be used for avoiding conflict with Python keywords or built-ins. You might not use it often."
   ]
  },
  {
   "cell_type": "markdown",
   "metadata": {
    "hidden": true
   },
   "source": [
    "__double_leading_underscore\n",
    "\n",
    "This is about syntax rather than a convention. double underscore will mangle the attribute names of a class to avoid conflicts of attribute names between classes. (so-called “mangling” that means that the compiler or interpreter modify the variables or function names with some rules, not use as it is) \n",
    "The mangling rule of Python is adding the “_ClassName” to front of attribute names are declared with double underscore. \n",
    "That is, if you write method named “__method” in a class, the name will be mangled in “_ClassName__method” form."
   ]
  },
  {
   "cell_type": "markdown",
   "metadata": {
    "hidden": true
   },
   "source": [
    "__double_leading_and_trailing_underscore__\n",
    "\n",
    "This convention is used for special variables or methods (so-called “magic method”) such as__init__, __len__. These methods provides special syntactic features or does special things. For example, __file__ indicates the location of Python file, __eq__ is executed when a == b expression is excuted. \n",
    "A user of course can make custom special method, it is very rare case, but often might modify the some built-in special methods. (e.g. You should initialize the class with __init__ that will be executed at first when a instance of class is created.)"
   ]
  },
  {
   "cell_type": "markdown",
   "metadata": {
    "heading_collapsed": true
   },
   "source": [
    "#### Ellipsis: ..."
   ]
  },
  {
   "cell_type": "markdown",
   "metadata": {
    "heading_collapsed": true,
    "hidden": true
   },
   "source": [
    "###### placeholder for unwritten code"
   ]
  },
  {
   "cell_type": "code",
   "execution_count": null,
   "metadata": {
    "hidden": true
   },
   "outputs": [],
   "source": [
    "def write_an_article():\n",
    "    ...\n",
    "\n",
    "\n",
    "class Article:\n",
    "    ..."
   ]
  },
  {
   "cell_type": "code",
   "execution_count": null,
   "metadata": {
    "hidden": true
   },
   "outputs": [],
   "source": [
    "#Pass will do the same thing\n",
    "def write_an_article():\n",
    "    pass\n",
    "\n",
    "\n",
    "class Article:\n",
    "    pass"
   ]
  },
  {
   "cell_type": "markdown",
   "metadata": {
    "heading_collapsed": true,
    "hidden": true
   },
   "source": [
    "###### Type Hinting"
   ]
  },
  {
   "cell_type": "markdown",
   "metadata": {
    "hidden": true
   },
   "source": [
    "Arbitrary-length homogeneous tuples can be expressed using one type and ellipsis, for example, \n",
    "\n",
    "Tuple[int, ...]."
   ]
  },
  {
   "cell_type": "code",
   "execution_count": 71,
   "metadata": {
    "hidden": true
   },
   "outputs": [],
   "source": [
    "a = (1, 2, ...)"
   ]
  },
  {
   "cell_type": "markdown",
   "metadata": {
    "hidden": true
   },
   "source": [
    "It is possible to declare the return type of a callable without specifying the call signature by substituting a literal ellipsis (three dots) for the list of arguments:"
   ]
  },
  {
   "cell_type": "code",
   "execution_count": null,
   "metadata": {
    "hidden": true
   },
   "outputs": [],
   "source": [
    "def partial(func: Callable[..., str], *args) -> Callable[..., str]:\n",
    "    # Body"
   ]
  },
  {
   "cell_type": "markdown",
   "metadata": {
    "heading_collapsed": true,
    "hidden": true
   },
   "source": [
    "###### Ellipsis in Numpy"
   ]
  },
  {
   "cell_type": "markdown",
   "metadata": {
    "hidden": true
   },
   "source": [
    "* Ellipsis (...) = \"as many as\", \"as needed\""
   ]
  },
  {
   "cell_type": "code",
   "execution_count": null,
   "metadata": {
    "hidden": true
   },
   "outputs": [],
   "source": [
    "B = np.array([[0, 10, 20], [3, 4, 5], [6, 7, 8]]) \n",
    "B"
   ]
  },
  {
   "cell_type": "code",
   "execution_count": null,
   "metadata": {
    "hidden": true
   },
   "outputs": [],
   "source": [
    "#First row of everything else\n",
    "B[0, ...]"
   ]
  },
  {
   "cell_type": "code",
   "execution_count": null,
   "metadata": {
    "hidden": true
   },
   "outputs": [],
   "source": [
    "#First column of everything else\n",
    "B[..., 0]"
   ]
  },
  {
   "cell_type": "markdown",
   "metadata": {
    "heading_collapsed": true
   },
   "source": [
    "#### __init__.py"
   ]
  },
  {
   "cell_type": "markdown",
   "metadata": {
    "heading_collapsed": true,
    "hidden": true
   },
   "source": [
    "###### What is it?"
   ]
  },
  {
   "cell_type": "code",
   "execution_count": null,
   "metadata": {
    "hidden": true
   },
   "outputs": [],
   "source": [
    "# The __init__.py file indicates that the files in a folder are part of a Python package.\n",
    "# Without an __init__.py file, you cannot import files from another directory in a Python project. "
   ]
  },
  {
   "cell_type": "markdown",
   "metadata": {
    "heading_collapsed": true,
    "hidden": true
   },
   "source": [
    "###### Using Funcs defined in __init__.py"
   ]
  },
  {
   "cell_type": "code",
   "execution_count": null,
   "metadata": {
    "hidden": true
   },
   "outputs": [],
   "source": [
    "my_app/\n",
    "    app.py\n",
    "    __init__.py (I want to import a function from this file)\n",
    "    folder1/\n",
    "        __init.py\n",
    "        method1.py\n",
    "    folder2/\n",
    "        __init__.py\n",
    "        method.py"
   ]
  },
  {
   "cell_type": "code",
   "execution_count": null,
   "metadata": {
    "hidden": true
   },
   "outputs": [],
   "source": [
    "#Inside __init__.py\n",
    "def want_to_be_run_elsewhere():\n",
    "    pass"
   ]
  },
  {
   "cell_type": "code",
   "execution_count": null,
   "metadata": {
    "hidden": true
   },
   "outputs": [],
   "source": [
    "#Method 1\n",
    "from __init__ import want_to_be_run_elsewhere"
   ]
  },
  {
   "cell_type": "code",
   "execution_count": null,
   "metadata": {
    "hidden": true
   },
   "outputs": [],
   "source": [
    "#Method 2: relative import\n",
    "from . import want_to_be_run_elsewhere"
   ]
  },
  {
   "cell_type": "markdown",
   "metadata": {
    "heading_collapsed": true
   },
   "source": [
    "####  Clear all variables"
   ]
  },
  {
   "cell_type": "code",
   "execution_count": 1,
   "metadata": {
    "hidden": true
   },
   "outputs": [],
   "source": [
    "globals().clear()"
   ]
  },
  {
   "cell_type": "markdown",
   "metadata": {
    "heading_collapsed": true
   },
   "source": [
    "# Python OS Scripting "
   ]
  },
  {
   "cell_type": "markdown",
   "metadata": {
    "heading_collapsed": true,
    "hidden": true
   },
   "source": [
    "###### Arguments parsing"
   ]
  },
  {
   "cell_type": "code",
   "execution_count": null,
   "metadata": {
    "hidden": true
   },
   "outputs": [],
   "source": [
    "Image(filename=\"./1_howto/python_Arguments_Parsing.png\")"
   ]
  },
  {
   "cell_type": "markdown",
   "metadata": {
    "heading_collapsed": true,
    "hidden": true
   },
   "source": [
    "###### Running scripts "
   ]
  },
  {
   "cell_type": "code",
   "execution_count": null,
   "metadata": {
    "hidden": true
   },
   "outputs": [],
   "source": [
    "\"\"\"\n",
    "1. Create ___.py file\n",
    "2. Write the code\n",
    "3. Run on termianl: python3 ___.py\n",
    "\"\"\""
   ]
  },
  {
   "cell_type": "markdown",
   "metadata": {
    "heading_collapsed": true,
    "hidden": true
   },
   "source": [
    "###### Running scripts with argument"
   ]
  },
  {
   "cell_type": "code",
   "execution_count": null,
   "metadata": {
    "hidden": true
   },
   "outputs": [],
   "source": [
    "#Create python .py\n",
    "\"\"\" \n",
    "import sys\n",
    "\n",
    "def hello(a,b):\n",
    "    print 'hello and thats your sum:'\n",
    "    sum=a+b\n",
    "    print sum\n",
    "\n",
    "if __name__ == \"__main__\":\n",
    "    hello(sys.argv[1], sys.argv[2])\n",
    "\"\"\""
   ]
  },
  {
   "cell_type": "code",
   "execution_count": null,
   "metadata": {
    "hidden": true
   },
   "outputs": [],
   "source": [
    "\"\"\"\n",
    "def main():\n",
    "    print(\"Hello\")\n",
    "\n",
    "if __name__ == '__main__':\n",
    "  main()\n",
    "  \n",
    "\"\"\""
   ]
  },
  {
   "cell_type": "code",
   "execution_count": null,
   "metadata": {
    "hidden": true
   },
   "outputs": [],
   "source": [
    "#Run on terminal\n",
    "python hello.py 1 1"
   ]
  },
  {
   "cell_type": "markdown",
   "metadata": {
    "heading_collapsed": true,
    "hidden": true
   },
   "source": [
    "######  hadd function calling"
   ]
  },
  {
   "cell_type": "code",
   "execution_count": null,
   "metadata": {
    "hidden": true
   },
   "outputs": [],
   "source": [
    "import os\n",
    "#import glob\n",
    "\n",
    "content = []\n",
    "runNum_list = []\n",
    "\n",
    "with open(\"./g9a_filelist_4.txt\") as f:\n",
    "    lines = f.readlines()\n",
    "\n",
    "for x in lines:\n",
    "    content.append(x.strip())\n",
    "\n",
    "for i in content:\n",
    "    runNum = i[7] + i[8] + i[9] + i[10] + i[11] + i[12]\n",
    "    runNum_list.append(runNum)\n",
    "\n",
    "for i in range(len(runNum_list)):\n",
    "    try:\n",
    "        while (runNum_list[i] == runNum_list[i+1]):\n",
    "            runNum_list.remove(runNum_list[i+1])\n",
    "        \n",
    "    except IndexError:\n",
    "        pass\n",
    "\n",
    "for runNum in runNum_list:\n",
    "    \n",
    "    #exist_files = \"./cooked\" + runNum + glob.glob(\".A*\")\n",
    "    os.system(\"hadd ./cooked\" + runNum + \".root\" + \" ./cooked_\" + runNum + \".A*\")"
   ]
  },
  {
   "cell_type": "markdown",
   "metadata": {
    "heading_collapsed": true,
    "hidden": true
   },
   "source": [
    "###### Change file names in directory "
   ]
  },
  {
   "cell_type": "code",
   "execution_count": null,
   "metadata": {
    "hidden": true
   },
   "outputs": [],
   "source": [
    "dir_loc   = \"/home/chan/Desktop/data/frost_data/dstmaker_Ppi0_4/epho2.4_4/\"\n",
    "file_list = os.listdir(dir_loc)"
   ]
  },
  {
   "cell_type": "code",
   "execution_count": null,
   "metadata": {
    "hidden": true
   },
   "outputs": [],
   "source": [
    "for i in file_list:\n",
    "    \n",
    "    previous_part = \"\"\n",
    "    for j in range(6, 17):\n",
    "        previous_part = previous_part + i[j]\n",
    "    \n",
    "    name = \"cooked_\" + previous_part\n",
    "    old_name = dir_loc + i\n",
    "    new_name = dir_loc + name\n",
    "    \n",
    "    os.rename(old_name, new_name)"
   ]
  },
  {
   "cell_type": "code",
   "execution_count": null,
   "metadata": {
    "hidden": true
   },
   "outputs": [],
   "source": [
    "dir_loc   = \"/home/chan/Desktop/data/frost_data/dstmaker_Ppi0_4/epho1.6_3/\"\n",
    "file_list = os.listdir(dir_loc)\n",
    "\n",
    "for i in file_list:\n",
    "    print(i[8] + i[9] + i[10] + i[11] + i[12] + i[12])\n",
    "\n"
   ]
  },
  {
   "cell_type": "markdown",
   "metadata": {
    "heading_collapsed": true
   },
   "source": [
    "# ETC "
   ]
  },
  {
   "cell_type": "code",
   "execution_count": null,
   "metadata": {
    "hidden": true
   },
   "outputs": [],
   "source": [
    "#plot E_beam\n",
    "E_beam = plt.figure(figsize=(10, 5))\n",
    "\n",
    "E_beam_pol = [0.9, 0.9, 0.9]\n",
    "runNum     = [55500, 55600, 55700]\n",
    "E_beam_pol_err = [0.01, 0.01, 0.01]\n",
    "\n",
    "#Scatter\n",
    "plt.errorbar(runNum, E_beam_pol, yerr=E_beam_pol_err, fmt=\"o\", markeredgewidth=1, capsize=5, elinewidth=0.5)\n",
    "\n",
    "\n",
    "#Grids\n",
    "plt.axes().xaxis.set_minor_locator(mpl.ticker.AutoMinorLocator(n=5))\n",
    "plt.axes().yaxis.set_minor_locator(mpl.ticker.AutoMinorLocator(n=5))\n",
    "plt.grid(b=True, which=\"major\", color=\"gray\", linewidth=.5, linestyle=\"--\")\n",
    "plt.grid(b=True, which=\"minor\", color=\"gray\", linewidth=0.25, linestyle=\"--\")\n",
    "\n",
    "\n",
    "\n",
    "#Labels and lim\n",
    "plt.xlim()\n",
    "plt.ylim(0.7, 1.)\n",
    "plt.xlabel(\"Run Number\", fontsize=15)\n",
    "plt.ylabel(\"$e^-$ beam polarization\", fontsize=15)\n",
    "plt.xticks(fontsize=10)\n",
    "plt.yticks(fontsize=10)\n",
    "\n",
    "plt.show()"
   ]
  }
 ],
 "metadata": {
  "kernelspec": {
   "display_name": "Python 3 (ipykernel)",
   "language": "python",
   "name": "python3"
  },
  "language_info": {
   "codemirror_mode": {
    "name": "ipython",
    "version": 3
   },
   "file_extension": ".py",
   "mimetype": "text/x-python",
   "name": "python",
   "nbconvert_exporter": "python",
   "pygments_lexer": "ipython3",
   "version": "3.10.5"
  },
  "toc": {
   "base_numbering": 1,
   "nav_menu": {},
   "number_sections": true,
   "sideBar": false,
   "skip_h1_title": false,
   "title_cell": "",
   "title_sidebar": "",
   "toc_cell": false,
   "toc_position": {},
   "toc_section_display": true,
   "toc_window_display": false
  },
  "varInspector": {
   "cols": {
    "lenName": 16,
    "lenType": 16,
    "lenVar": 40
   },
   "kernels_config": {
    "python": {
     "delete_cmd_postfix": "",
     "delete_cmd_prefix": "del ",
     "library": "var_list.py",
     "varRefreshCmd": "print(var_dic_list())"
    },
    "r": {
     "delete_cmd_postfix": ") ",
     "delete_cmd_prefix": "rm(",
     "library": "var_list.r",
     "varRefreshCmd": "cat(var_dic_list()) "
    }
   },
   "types_to_exclude": [
    "module",
    "function",
    "builtin_function_or_method",
    "instance",
    "_Feature"
   ],
   "window_display": false
  }
 },
 "nbformat": 4,
 "nbformat_minor": 4
}
