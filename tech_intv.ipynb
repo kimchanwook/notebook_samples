{
 "cells": [
  {
   "cell_type": "code",
   "execution_count": 1,
   "metadata": {},
   "outputs": [],
   "source": [
    "import uproot\n",
    "import sys\n",
    "import glob\n",
    "import os\n",
    "import struct\n",
    "import time\n",
    "import csv\n",
    "import pickle\n",
    "import math\n",
    "import gc\n",
    "import pandas as pd\n",
    "import sympy\n",
    "\n",
    "from IPython.core.display import display, HTML, Image\n",
    "\n",
    "import numpy             as np\n",
    "import matplotlib.pyplot as plt\n",
    "\n",
    "import scipy\n",
    "from   scipy             import interpolate\n",
    "from   scipy.interpolate import CubicSpline, splev, splrep, interp1d, PPoly\n",
    "from   scipy.optimize    import curve_fit, least_squares, minimize\n",
    "from   scipy.signal      import find_peaks\n",
    "\n",
    "import matplotlib             as mpl\n",
    "import matplotlib.pyplot      as plt\n",
    "\n",
    "from typing import List\n",
    "\n",
    "#Plotting Config\n",
    "mpl.style.use(\"default\")\n",
    "mpl.rcParams[\"axes.facecolor\"] = \"#EAEAF2\" \n",
    "mpl.rcParams['figure.dpi']     = 100 \n",
    "mpl.rcParams['savefig.dpi']    = 100 "
   ]
  },
  {
   "cell_type": "markdown",
   "metadata": {},
   "source": [
    "# Basics "
   ]
  },
  {
   "cell_type": "markdown",
   "metadata": {
    "heading_collapsed": true
   },
   "source": [
    "###### Unique values from list"
   ]
  },
  {
   "cell_type": "code",
   "execution_count": 88,
   "metadata": {
    "hidden": true
   },
   "outputs": [],
   "source": [
    "def unique(list1:list=[])->list:\n",
    "    \n",
    "    unique_list = []\n",
    "    \n",
    "    for x in list1:\n",
    "        \n",
    "        if (x not in unique_list):\n",
    "            unique_list.append(x)\n",
    "            \n",
    "    return unique_list"
   ]
  },
  {
   "cell_type": "code",
   "execution_count": null,
   "metadata": {
    "hidden": true
   },
   "outputs": [],
   "source": [
    "unique([1, 1, 2])"
   ]
  },
  {
   "cell_type": "markdown",
   "metadata": {},
   "source": [
    "# Array and Strings"
   ]
  },
  {
   "cell_type": "markdown",
   "metadata": {
    "heading_collapsed": true
   },
   "source": [
    "###### Check if given Parentheses expression is balanced or not"
   ]
  },
  {
   "cell_type": "markdown",
   "metadata": {
    "hidden": true
   },
   "source": [
    "* Given a string str of length N, consisting of ‘(‘ and ‘)‘ only, the task is to check whether it is balanced or not."
   ]
  },
  {
   "cell_type": "code",
   "execution_count": null,
   "metadata": {
    "hidden": true
   },
   "outputs": [],
   "source": [
    "#Examples\n",
    "Input: str = “((()))()()” \n",
    "Output: Balanced\n",
    "Input: str = “())((())” \n",
    "Output: Not Balanced "
   ]
  },
  {
   "cell_type": "code",
   "execution_count": null,
   "metadata": {
    "hidden": true
   },
   "outputs": [],
   "source": [
    "\"\"\"\n",
    "Declare a Flag variable which denotes expression is balanced or not.\n",
    "Initialise Flag variable with true and Count variable with 0.\n",
    "Traverse through the given expression\n",
    "    If we encounter an opening parentheses (, increase count by 1\n",
    "    If we encounter a closing parentheses ), decrease count by 1\n",
    "    If Count becomes negative at any point, then expression is said to be not balanced, \n",
    "    so mark Flag as false and break from loop.\n",
    "After traversing the expression, if Count is not equal to 0, \n",
    "it means the expression is not balanced so mark Flag as false.\n",
    "Finally, if Flag is true, expression is balanced else not balanced.\"\"\""
   ]
  },
  {
   "cell_type": "code",
   "execution_count": null,
   "metadata": {
    "hidden": true
   },
   "outputs": [],
   "source": [
    "#Code from GfG\n",
    "def isBalanced(exp):\n",
    "\n",
    "    # Initialising Variables\n",
    "    flag = True\n",
    "    count = 0\n",
    "    \n",
    "    # Traversing the Expression\n",
    "    for i in range(len(exp)):\n",
    "        if (exp[i] == '('):\n",
    "            count += 1\n",
    "        else:\n",
    "             \n",
    "            # It is a closing parenthesis\n",
    "            count -= 1\n",
    "        if (count < 0): \n",
    "            # This means there are\n",
    "            # more closing parenthesis\n",
    "            # than opening\n",
    "            flag = False\n",
    "            break\n",
    "    # If count is not zero ,\n",
    "    # it means there are more\n",
    "    # opening parenthesis\n",
    "    if (count != 0):\n",
    "        flag = False\n",
    "        \n",
    "    return flag\n",
    " \n",
    "# Driver code\n",
    "if __name__ == '__main__':\n",
    "     \n",
    "\n",
    "    exp1 = \"((()))()()\"\n",
    "\n",
    "    if (isBalanced(exp1)):\n",
    "        print(\"Balanced\")\n",
    "    else:\n",
    "        print(\"Not Balanced\")\n",
    "\n",
    "    exp2 = \"())((())\"\n",
    "\n",
    "    if (isBalanced(exp2)):\n",
    "        print(\"Balanced\")\n",
    "    else:\n",
    "        print(\"Not Balanced\")"
   ]
  },
  {
   "cell_type": "markdown",
   "metadata": {
    "heading_collapsed": true
   },
   "source": [
    "###### Two Sum"
   ]
  },
  {
   "cell_type": "markdown",
   "metadata": {
    "hidden": true
   },
   "source": [
    "Given an array of integers __nums__ and an integer __target__, return indices of the two numbers such that they add up to target.\n",
    "\n",
    "You may assume that each input would have exactly one solution, and you may not use the same element twice.\n",
    "\n",
    "You can return the answer in any order."
   ]
  },
  {
   "cell_type": "code",
   "execution_count": null,
   "metadata": {
    "hidden": true
   },
   "outputs": [],
   "source": [
    "#Example 1\n",
    "Input: nums = [2, 7, 11, 15], target = 9\n",
    "Output: [0,1]"
   ]
  },
  {
   "cell_type": "code",
   "execution_count": null,
   "metadata": {
    "hidden": true
   },
   "outputs": [],
   "source": [
    "#Example 2\n",
    "Input: nums = [3,2,4], target = 6\n",
    "Output: [1,2]"
   ]
  },
  {
   "cell_type": "code",
   "execution_count": null,
   "metadata": {
    "hidden": true
   },
   "outputs": [],
   "source": [
    "#Example 3\n",
    "Input: nums = [3,3], target = 6\n",
    "Output: [0,1]"
   ]
  },
  {
   "cell_type": "code",
   "execution_count": null,
   "metadata": {
    "hidden": true
   },
   "outputs": [],
   "source": [
    "Constraints:\n",
    "\n",
    "    2 <= nums.length <= 104\n",
    "    -109 <= nums[i] <= 109\n",
    "    -109 <= target <= 109\n",
    "    Only one valid answer exists."
   ]
  },
  {
   "cell_type": "code",
   "execution_count": null,
   "metadata": {
    "hidden": true
   },
   "outputs": [],
   "source": [
    "#Follow-up: \n",
    "Can you come up with an algorithm that is less than O(n2) time complexity?b   "
   ]
  },
  {
   "cell_type": "code",
   "execution_count": 221,
   "metadata": {
    "hidden": true
   },
   "outputs": [],
   "source": [
    "## O(n^2) time complexity solution\n",
    "def returnIndices(nums=[], target=0):\n",
    "    \n",
    "    lst_sol_indices = []\n",
    "    \n",
    "    #For each element in nums\n",
    "    for i in range(0, len(nums)):\n",
    "        for j in range(0, len(nums)):\n",
    "            \n",
    "            if (i <= j):\n",
    "                continue\n",
    "            \n",
    "            elif (nums[i] + nums[j]) == target:\n",
    "                \n",
    "                #list of wanted indices\n",
    "                lst_sol_indices = lst_sol_indices + [i, j]\n",
    "                break\n",
    "                \n",
    "#     #Just reverse order - not needed\n",
    "#     if(lst_sol_indices[0] > lst_sol_indices[1]):\n",
    "#         temp = lst_sol_indices[0]\n",
    "#         lst_sol_indices[0] = lst_sol_indices[1]\n",
    "#         lst_sol_indices[1] = temp\n",
    "\n",
    "    return lst_sol_indices"
   ]
  },
  {
   "cell_type": "code",
   "execution_count": 45,
   "metadata": {
    "hidden": true
   },
   "outputs": [],
   "source": [
    "#O(n) solution - HASH TABLE\n",
    "#    -Reduce lookup time from O(n) to O(1) by trading space for speed\n",
    "#    -A hash table supports fast loopup in near constant time.\n",
    "#    -Hashing is a technique to convert a range of key values into a range of indexes of an array\n",
    "def return_Indices_hash(nums=[], target=0):\n",
    "    \n",
    "    #Hashing dictiionary\n",
    "    hashmap = {}\n",
    "    \n",
    "    for i in range(len(nums)):\n",
    "        hashmap[nums[i]] = i\n",
    "        \n",
    "    for i in range(len(nums)):\n",
    "        \n",
    "        diff = target - nums[i]\n",
    "        \n",
    "        if (diff in hashmap) and (hashmap[diff] != i):\n",
    "            return [i, hashmap[diff]]"
   ]
  },
  {
   "cell_type": "code",
   "execution_count": null,
   "metadata": {
    "hidden": true
   },
   "outputs": [],
   "source": [
    "print(returnIndices([3, 2, 4], 6))\n",
    "\n",
    "print(returnIndices([2, 7, 11, 15], 9))\n",
    "\n",
    "print(return_Indices_hash([3, 2, 4], 6))\n",
    "\n",
    "print(returnIndices([2, 7, 11, 15], 9))"
   ]
  },
  {
   "cell_type": "markdown",
   "metadata": {
    "heading_collapsed": true
   },
   "source": [
    "###### Longest Substring Without Repeating Characters [unsolved]"
   ]
  },
  {
   "cell_type": "markdown",
   "metadata": {
    "hidden": true
   },
   "source": [
    "Given a string s, find the length of the longest substring without repeating characters."
   ]
  },
  {
   "cell_type": "code",
   "execution_count": 206,
   "metadata": {
    "hidden": true
   },
   "outputs": [
    {
     "data": {
      "text/plain": [
       "[1, 0]"
      ]
     },
     "execution_count": 206,
     "metadata": {},
     "output_type": "execute_result"
    }
   ],
   "source": [
    "returnIndices([2, 7, 11, 15], 9)"
   ]
  },
  {
   "cell_type": "code",
   "execution_count": null,
   "metadata": {
    "hidden": true
   },
   "outputs": [],
   "source": [
    "#Example\n",
    "Input: s = \"abcabcbb\"\n",
    "Output: 3\n",
    "Explanation: The answer is \"abc\", with the length of 3.\n",
    "\n",
    "Input: s = \"bbbbb\"\n",
    "Output: 1\n",
    "Explanation: The answer is \"b\", with the length of 1.\n",
    "    \n",
    "Input: s = \"pwwkew\"\n",
    "Output: 3\n",
    "Explanation: The answer is \"wke\", with the length of 3.\n",
    "Notice that the answer must be a substring, \"pwke\" is a subsequence and not a substring."
   ]
  },
  {
   "cell_type": "code",
   "execution_count": 2,
   "metadata": {
    "hidden": true
   },
   "outputs": [],
   "source": [
    "#LeetCode solution\n",
    "def lengthOfLongestSubstring(s: str) -> int:\n",
    "    def check(start, end):\n",
    "        \n",
    "        #Create an array of 128 zeros.\n",
    "        #    -Place 1 to the place of array that corresponds to the unicode code of the char\n",
    "        #    -If any of the elements exceeds 1 -> repeating chars\n",
    "        chars = [0] * 128\n",
    "        for i in range(start, end + 1):\n",
    "            c = s[i]\n",
    "            chars[ord(c)] += 1\n",
    "            if chars[ord(c)] > 1:\n",
    "                return False\n",
    "        return True\n",
    "\n",
    "    n = len(s)\n",
    "\n",
    "    res = 0\n",
    "    for i in range(n):\n",
    "        for j in range(i, n):\n",
    "            if check(i, j):\n",
    "                res = max(res, j - i + 1)\n",
    "    return res"
   ]
  },
  {
   "cell_type": "code",
   "execution_count": 4,
   "metadata": {
    "hidden": true
   },
   "outputs": [
    {
     "data": {
      "text/plain": [
       "3"
      ]
     },
     "execution_count": 4,
     "metadata": {},
     "output_type": "execute_result"
    }
   ],
   "source": [
    "#Call\n",
    "lengthOfLongestSubstring(\"pwwkew\")"
   ]
  },
  {
   "cell_type": "code",
   "execution_count": null,
   "metadata": {
    "hidden": true
   },
   "outputs": [],
   "source": []
  },
  {
   "cell_type": "code",
   "execution_count": null,
   "metadata": {
    "hidden": true
   },
   "outputs": [],
   "source": []
  },
  {
   "cell_type": "code",
   "execution_count": 135,
   "metadata": {
    "hidden": true
   },
   "outputs": [],
   "source": [
    "#longest Sub w/o repeat - NOT WORKING YET\n",
    "def long_substr_wo_repeat(string=\"\"):\n",
    "    \n",
    "    longest_substr  = \"\"\n",
    "    substr_len      = 0\n",
    "    i_of_longest    = 0\n",
    "    substr_len_lngt = 0 \n",
    "    \n",
    "    #Find non-repeating \n",
    "    #    -Only one of each char in the substr\n",
    "    #    -For each element, check when it occurs again in the string\n",
    "    for i in range(len(string)):\n",
    "        \n",
    "        #RANGE IMPORTANT!!!\n",
    "        for j in range(i+1, len(string)-i):\n",
    "            \n",
    "            #Go to next i if repeated\n",
    "            if (string[i] == string[j]):\n",
    "                                \n",
    "                #Start over with next char\n",
    "                substr_len = 0\n",
    "                break\n",
    "                \n",
    "            #If char is not repeating\n",
    "            elif (string[i] != string[j]):\n",
    "                substr_len += 1\n",
    "                \n",
    "                #Test the length and save\n",
    "                if (substr_len > substr_len_lngt):\n",
    "                    i_of_longest    = i\n",
    "                    substr_len_lngt = substr_len\n",
    "                \n",
    "                print(\"i = \", i, \"\\t\",\"j = \", j, \"\\t\", substr_len, substr_len_lngt)\n",
    "                continue\n",
    "            \n",
    "    #longest\n",
    "    longest_substr = string[i_of_longest : (i_of_longest+substr_len_lngt)+1] \n",
    "    \n",
    "#     print(\"i_of_longest = \", i_of_longest)\n",
    "#     print(\"substr_len_lngt = \", substr_len_lngt)\n",
    "        \n",
    "    return longest_substr"
   ]
  },
  {
   "cell_type": "code",
   "execution_count": null,
   "metadata": {
    "hidden": true
   },
   "outputs": [],
   "source": [
    "long_substr_wo_repeat(\"pwwkew\")"
   ]
  },
  {
   "cell_type": "code",
   "execution_count": null,
   "metadata": {
    "code_folding": [
     0
    ],
    "hidden": true
   },
   "outputs": [],
   "source": [
    "#Iterate\n",
    "i=0: string[i]=a\n",
    "    \n",
    "    j=1: string[j]=b\n",
    "    substr_len = 1\n",
    "    \n",
    "    j=2: string[j]=c\n",
    "    substr_len = 2\n",
    "    \n",
    "    j=3: string[j]=a\n",
    "    substr_len = 0\n",
    "    break\n",
    "    \n",
    "i=1: string[i]=b\n",
    "    \n",
    "    j=2: string[j]=c\n",
    "    substr_len = 1\n",
    "    \n",
    "    j=3: string[j]=a\n",
    "    substr_len = 2\n",
    "    \n",
    "    j=4: string[j]=b\n",
    "    substr_len = 0\n",
    "    break      "
   ]
  },
  {
   "cell_type": "markdown",
   "metadata": {
    "heading_collapsed": true
   },
   "source": [
    "###### Tripler (BNL question)"
   ]
  },
  {
   "cell_type": "markdown",
   "metadata": {
    "hidden": true
   },
   "source": [
    "A little demon, called Tripler, like to mess up with our friend, Array. Tripler transforms an array by\n",
    "tripling each element in the array, throwing them into the original array, and worst of all, shuffling the\n",
    "entire array. For example, if the original array is [1, 2, 3], Tripler’s array could be [1, 2, 3, 3, 6, 9] or [9, 3,\n",
    "1, 3, 2, 6] or something else. Now, given Tripler's array, how can you find the original array (in any\n",
    "order)?\n",
    "\n",
    "* 1 <= v.length <= 105\n",
    "* 0 <= v[i] <= 105[][d"
   ]
  },
  {
   "cell_type": "code",
   "execution_count": null,
   "metadata": {
    "hidden": true
   },
   "outputs": [],
   "source": [
    "def tripler_Detect(list=[]):\n",
    "    #Select out only the unique elements in the tripled list\n",
    "    #Tripler_reduced = list.uniique()\n",
    "    Tripler_reduced = Tripler_reduced.sort()\n",
    "    Org_list = []\n",
    "    Duplicated = []\n",
    "    \n",
    "    for I in range(len(Tripler_reduced)):\n",
    "    \n",
    "        if (Tripler_reduced[I] %3 != 0):\n",
    "            Org_list.append(Tripler_reduced[i])\n",
    "    \n",
    "    #Org=[1, 1, 2]\n",
    "    Tripler_reduced.pop([I for I in Org_list])\n",
    "    \n",
    "    # Tri = [3, 3, 3, 6, 9]\n",
    "    Duplicated = [I/3 for I in Tripler_reduced)]\n",
    "    \n",
    "    #Duplicated=[1, 1, 1, 2, 3]\n",
    "    for I in Duplicated:\n",
    "        if (I not in Org_list):\n",
    "            Org_list.append(I)\n",
    "    \n",
    "    #Org=[1, 1, 2, 3]\n",
    "    return Org_list"
   ]
  },
  {
   "cell_type": "markdown",
   "metadata": {
    "heading_collapsed": true
   },
   "source": [
    "###### Product of Array Except Self (medium): [unsolved]"
   ]
  },
  {
   "cell_type": "markdown",
   "metadata": {
    "hidden": true
   },
   "source": [
    "Given an integer array `nums`, return an array answer such that `answer[i]` is equal to the product of all the elements of nums except `nums[i]`.\n",
    "\n",
    "The product of any prefix or suffix of nums is guaranteed to fit in a 32-bit integer.\n",
    "\n",
    "You must write an algorithm that runs in O(n) time and without using the division operation."
   ]
  },
  {
   "cell_type": "code",
   "execution_count": null,
   "metadata": {
    "hidden": true
   },
   "outputs": [],
   "source": [
    "#Examples\n",
    "Input: nums = [1,2,3,4]\n",
    "Output:[24,12,8,6]\n",
    "    \n",
    "#Examples\n",
    "Input: nums = [-1,1,0,-3,3]\n",
    "Output: [0,0,9,0,0]"
   ]
  },
  {
   "cell_type": "code",
   "execution_count": 58,
   "metadata": {
    "hidden": true
   },
   "outputs": [],
   "source": [
    "#Product func in O(n^2)\n",
    "def prod_Except_Self(nums:list=[])->list:\n",
    "    \n",
    "    #declares\n",
    "    fin_list   = []\n",
    "    crrnt_list = []\n",
    "    current    = 1\n",
    "    \n",
    "    for i in range(len(nums)):\n",
    "        \n",
    "        crrnt_list = nums[0:i] + nums[i+1:len(nums)]\n",
    "        \n",
    "        for j in range(len(crrnt_list)):\n",
    "            \n",
    "            current = current * crrnt_list[j]\n",
    "        \n",
    "        fin_list.append(current)\n",
    "        current = 1\n",
    "        \n",
    "    return fin_list"
   ]
  },
  {
   "cell_type": "code",
   "execution_count": 67,
   "metadata": {
    "hidden": true
   },
   "outputs": [],
   "source": [
    "#Product func in O(n) usning numpy\n",
    "def prod_Except_Self(nums:list=[])->list:\n",
    "    \n",
    "    #declares\n",
    "    fin_list   = []\n",
    "    crrnt_list = []\n",
    "    current    = 1\n",
    "    \n",
    "    for i in range(len(nums)):\n",
    "        \n",
    "        crrnt_list = nums[0:i] + nums[i+1:len(nums)]\n",
    "        \n",
    "        #Using numpy\n",
    "        current = np.prod(crrnt_list)\n",
    "                \n",
    "        fin_list.append(current)\n",
    "        current = 1\n",
    "        \n",
    "    return fin_list"
   ]
  },
  {
   "cell_type": "code",
   "execution_count": null,
   "metadata": {
    "hidden": true
   },
   "outputs": [],
   "source": [
    "prod_Except_Self([-1,1,0,-3,3])"
   ]
  },
  {
   "cell_type": "code",
   "execution_count": 77,
   "metadata": {
    "hidden": true
   },
   "outputs": [],
   "source": [
    "#Product func in O(n) - [unsolved]\n",
    "def prod_Except_Self(nums:list=[])->list:\n",
    "    \n",
    "    #declares\n",
    "    fin_list   = []\n",
    "    \n",
    "        \n",
    "    return fin_list"
   ]
  },
  {
   "cell_type": "code",
   "execution_count": null,
   "metadata": {
    "hidden": true
   },
   "outputs": [],
   "source": [
    "prod_Except_Self([-1,1,0,-3,3])"
   ]
  },
  {
   "cell_type": "markdown",
   "metadata": {
    "heading_collapsed": true
   },
   "source": [
    "###### Longest Palindromic Substring"
   ]
  },
  {
   "cell_type": "markdown",
   "metadata": {
    "hidden": true
   },
   "source": [
    "* Given a string `s`, return the longest palindromic substring in s.\n",
    "* palindrome is a word that is same when read backwords"
   ]
  },
  {
   "cell_type": "code",
   "execution_count": null,
   "metadata": {
    "hidden": true
   },
   "outputs": [],
   "source": [
    "#Example1\n",
    "Input: s = \"babad\"\n",
    "Output: \"bab\"\n",
    "Explanation: \"aba\" is also a valid answer.\n",
    "    \n",
    "Input: s = \"cbbd\"\n",
    "Output: \"bb\"\n",
    "    \n",
    "Input: s = \"asdaffadsasa\"\n",
    "Output: \"asdffdsa\"\n",
    "    "
   ]
  },
  {
   "cell_type": "code",
   "execution_count": 83,
   "metadata": {
    "hidden": true
   },
   "outputs": [],
   "source": [
    "#Brue Force way: LeetCode sol.\n",
    "def longest_Palind(s:str=\"\") -> str:\n",
    "    \n",
    "    #1. Pick all possible substrings to vertify if its a palindrom\n",
    "    \n",
    "    #Declares\n",
    "    common_subs = {}\n",
    "\n",
    "    #Check if string is palindrom\n",
    "    def isPalindrome(s):\n",
    "        if (s==\"\"):\n",
    "            return False\n",
    "        for i in range(len(s)//2):\n",
    "            if s[i]!=s[-i-1]:\n",
    "                return False\n",
    "        return True\n",
    "    \n",
    "    #Test every substrings\n",
    "    for i in range(len(s)):\n",
    "        for j in range(0, len(s)):\n",
    "            if isPalindrome(s[i:j+1]):\n",
    "                common_subs[s[i:j+1]] = len(s[i:j+1])\n",
    "                \n",
    "    return max(common_subs, key=common_subs.get)"
   ]
  },
  {
   "cell_type": "code",
   "execution_count": null,
   "metadata": {
    "hidden": true
   },
   "outputs": [],
   "source": [
    "#Iterate isPalindrom for loop\n",
    "s=\"cabac\"\n",
    "for i in range(5//2):\n",
    "\n",
    "    i=0:\n",
    "        s[i]    = s[0]  = c\n",
    "        s[-i-1] = s[-1] = c\n",
    "\n",
    "    i=1:\n",
    "        s[1]  = a\n",
    "        s[-2] = a"
   ]
  },
  {
   "cell_type": "code",
   "execution_count": null,
   "metadata": {
    "code_folding": [],
    "hidden": true
   },
   "outputs": [],
   "source": [
    "#Brute Force way\n",
    "def longest_Palind(s:str=\"\") -> str:\n",
    "    \n",
    "    #1. I want to see when the element is repeated\n",
    "    #2. When an element \"i\" is repeated, I want to look at elements inbetween the first and last occurances \n",
    "    #   of element i\n",
    "    #    - I will call left_end_i and right_end_i\n",
    "    #        - if there is multiple repeating of i, then I will just run the testing subroutine define\n",
    "    #          below for each of the repeated occurences of left_end_i.\n",
    "    #3. Then we can examine the preceeding element one right of left_end_i and see if it is repeated at\n",
    "    #   one left of right_end_i\n",
    "    #    - I will call this next_i\n",
    "    #        - If there is only one element inbetween left_end_i and right_end_i,\n",
    "    #          then, it is a palindromic of length 3.\n",
    "    #        - If this next_i is repeated at the left of right_end_i, keep traversing to right of next_i\n",
    "    #4. As you traverse and find that it is a palindrome substring, save it and call it \"crrnt_lngst\"\n",
    "    #5. Return to the first left_end_i and see if it repeated more than once to the right of first right_end_i\n",
    "    #    -I will repeat the process defined in #3.\n",
    "    \n",
    "    #declares\n",
    "    left_end_i  = 0\n",
    "    right_end_i = 0\n",
    "    next_ i     = 0\n",
    "    crrnt_lngst = \"\"\n",
    "    \n",
    "    for i in range(len(s)):\n",
    "        \n",
    "                "
   ]
  },
  {
   "cell_type": "markdown",
   "metadata": {
    "heading_collapsed": true
   },
   "source": [
    "###### Group Anagram"
   ]
  },
  {
   "cell_type": "markdown",
   "metadata": {
    "hidden": true
   },
   "source": [
    "* Given an array of strings strs, group the anagrams together. You can return the answer in any order.\n",
    "* An Anagram is a word or phrase formed by rearranging the letters of a different word or phrase, typically using all the original letters exactly once.\n"
   ]
  },
  {
   "cell_type": "code",
   "execution_count": null,
   "metadata": {
    "hidden": true
   },
   "outputs": [],
   "source": [
    "#Examples\n",
    "Input: strs = [\"eat\",\"tea\",\"tan\",\"ate\",\"nat\",\"bat\"]\n",
    "Output: [[\"bat\"],[\"nat\",\"tan\"],[\"ate\",\"eat\",\"tea\"]]\n",
    "    \n",
    "Input: strs = [\"\"]\n",
    "Output: [[\"\"]]\n",
    "    \n",
    "Input: strs = [\"a\"]\n",
    "Output: [[\"a\"]]"
   ]
  },
  {
   "cell_type": "code",
   "execution_count": 143,
   "metadata": {
    "hidden": true
   },
   "outputs": [],
   "source": [
    "#Using just python programming\n",
    "def group_Anagrams(listStr:List[str]) -> List[List[str]]:\n",
    "    \n",
    "    #1. Sort each word and use the sorted word as a dictionary key\n",
    "    #2. Keep adding new word into dictionary against sorted key\n",
    "    \n",
    "    #Declares\n",
    "    group_dict = {}\n",
    "    group_list = []\n",
    "    \n",
    "    \n",
    "    #Func to Create Anagram key: sorted words\n",
    "    def create_Anagram_Key(string):\n",
    "        key = \"\"\n",
    "        for i in sorted(string):\n",
    "            key += i\n",
    "        return key\n",
    "\n",
    "    #Add words\n",
    "    for i in listStr:\n",
    "        \n",
    "        #If the sorted(word) is not a key yet, make a key + include word into the key\n",
    "        if (group_dict.get(create_Anagram_Key(i)) == None):\n",
    "            group_dict[create_Anagram_Key(i)] = [i]\n",
    "            \n",
    "        #If key sorted(word) already exists, just append the word to\n",
    "        else:\n",
    "            group_dict[create_Anagram_Key(i)].append(i)\n",
    "            \n",
    "    #Append values to the final return list\n",
    "    for key, value in group_dict.items():\n",
    "        group_list.append(value)\n",
    "    \n",
    "    return group_list"
   ]
  },
  {
   "cell_type": "code",
   "execution_count": 144,
   "metadata": {
    "hidden": true
   },
   "outputs": [
    {
     "data": {
      "text/plain": [
       "[['eat', 'tea', 'ate'], ['tan', 'nat'], ['bat']]"
      ]
     },
     "execution_count": 144,
     "metadata": {},
     "output_type": "execute_result"
    }
   ],
   "source": [
    "group_Anagrams([\"eat\",\"tea\",\"tan\",\"ate\",\"nat\",\"bat\"])"
   ]
  },
  {
   "cell_type": "markdown",
   "metadata": {
    "heading_collapsed": true
   },
   "source": [
    "###### Find the substring that every element is repeated k at least k times"
   ]
  },
  {
   "cell_type": "markdown",
   "metadata": {
    "hidden": true
   },
   "source": [
    "* __Find the substring that every element is repeated k times__"
   ]
  },
  {
   "cell_type": "code",
   "execution_count": null,
   "metadata": {
    "hidden": true
   },
   "outputs": [],
   "source": [
    "#Example\n",
    "Input: s = “xyxyyz”, k = 2 \n",
    "Output: 5 \n",
    "    \n",
    "Input: s = “geeksforgeeks”, k = 2 \n",
    "Output: 2 \n",
    "    \n",
    "Input: str = “aabbba”, K = 3\n",
    "Output: 6 \n",
    "    \n",
    "Input: str = “ababacb”, K = 3\n",
    "Output: 0 "
   ]
  },
  {
   "cell_type": "code",
   "execution_count": 10,
   "metadata": {
    "code_folding": [
     1
    ],
    "hidden": true
   },
   "outputs": [],
   "source": [
    "#Brute force way\n",
    "def largest_AtLeastK(string:str=\"\", k:int=0) -> int:\n",
    "    \n",
    "    #EX\n",
    "    #\"xyxyyz\"\n",
    "    #\"xyxyyz\"\n",
    "    \n",
    "    #1. Consider all the possible substrings\n",
    "    #2. For every substring, calculate the frequency of each of its chars\n",
    "    #    -Check whether all the characters appear at least K times.\n",
    "    #4. For all such valid substrings, find the largest length possible\n",
    "    \n",
    "    #Declares\n",
    "    num_Alphabets = 26\n",
    "    n             = len(string)\n",
    "    maxLen        = 0\n",
    "    freq          = [0]*num_Alphabets\n",
    "\n",
    "    #Function that return true if frequency of all the present characters is at least k\n",
    "    def atLeastK(freq, k) :\n",
    "        for i in range(num_Alphabets) :\n",
    "            # If the character is present and its frequency is less than k\n",
    "            if (freq[i] != 0 and freq[i] < k) :\n",
    "                return False;\n",
    "        return True;    \n",
    "    \n",
    "    #Set freq array to zeroes\n",
    "    def setZero(freq):\n",
    "        for i in range(num_Alphabets):\n",
    "            freq[i] = 0\n",
    "    \n",
    "    #Main loop\n",
    "    for i in range(n):\n",
    "        \n",
    "        #Initialize\n",
    "        setZero(freq)\n",
    "            \n",
    "        for j in range(i, n):\n",
    "            \n",
    "            #Updating the indices of freq: # of occurances of letters\n",
    "            #    -ord(\"a\") need to have range: 1-26\n",
    "            freq[ord(string[j]) - ord(\"a\")] += 1\n",
    "            \n",
    "            #If the frequency of every char of the current substring is at least k\n",
    "            if (atLeastK(freq, k)):\n",
    "                maxLen = max(maxLen, j-i+1);\n",
    "                \n",
    "    return maxLen"
   ]
  },
  {
   "cell_type": "code",
   "execution_count": null,
   "metadata": {
    "hidden": true
   },
   "outputs": [],
   "source": [
    "largest_AtLeastK(\"geeksforgeeks\", 2)"
   ]
  },
  {
   "cell_type": "markdown",
   "metadata": {},
   "source": [
    "# Linked Lists "
   ]
  },
  {
   "cell_type": "markdown",
   "metadata": {
    "heading_collapsed": true
   },
   "source": [
    "###### Add Two Numbers"
   ]
  },
  {
   "cell_type": "markdown",
   "metadata": {
    "hidden": true
   },
   "source": [
    "You are given two non-empty linked lists representing two non-negative integers. The digits are stored in reverse order, and each of their nodes contains a single digit. Add the two numbers and return the sum as a linked list.\n",
    "\n",
    "You may assume the two numbers do not contain any leading zero, except the number 0 itself."
   ]
  },
  {
   "cell_type": "code",
   "execution_count": null,
   "metadata": {
    "hidden": true
   },
   "outputs": [],
   "source": [
    "#Example\n",
    "Input: list1 = [2,4,3], list2 = [5,6,4]\n",
    "Output: [7,0,8]\n",
    "Explanation: 342 + 465 = 807.\n",
    "    \n",
    "Input: l1 = [0], l2 = [0]\n",
    "Output: [0]\n",
    "    \n",
    "Input: l1 = [9,9,9,9,9,9,9], l2 = [9,9,9,9]\n",
    "Output: [8,9,9,9,0,0,0,1]"
   ]
  },
  {
   "cell_type": "code",
   "execution_count": 234,
   "metadata": {
    "hidden": true
   },
   "outputs": [],
   "source": [
    "def add_Two_Numbers(list1:list, list2:list) -> list:\n",
    "\n",
    "    #list1=[2, 4, 3], list2=[5,6,4]\n",
    "    #number1 = 342,   number2 = 465\n",
    "    #number3 = 342+465 = 807\n",
    "    #output = [7, 0, 8]\n",
    "\n",
    "    #1. reverse the order of list1 and list2\n",
    "    #2. list1, list2 -> number1, number 2 by first element being the leading number and so on.\n",
    "    #3. Add number1 and number2 = number3\n",
    "    #4. number3 -> list with digits in reverse order\n",
    "\n",
    "    #Declares\n",
    "    number3 = 0\n",
    "    number1_str = \"\"\n",
    "    number2_str = \"\"\n",
    "    output  = []\n",
    "\n",
    "    #Reverse order\n",
    "    list1.reverse()\n",
    "    list2.reverse()\n",
    "\n",
    "    #For number1\n",
    "    for i in range(len(list1)):\n",
    "        number1_str += str(list1[i])\n",
    "\n",
    "    #For number2\n",
    "    for i in range(len(list2)):\n",
    "        number2_str += str(list2[i])\n",
    "\n",
    "    #Add nubmers\n",
    "    number3 = int(number1_str) + int(number2_str)\n",
    "\n",
    "    #into str, revers, list\n",
    "    number3_str = str(number3)\n",
    "    number3_str_reverse = \"\"\n",
    "\n",
    "    #Starting from last value len(__)-1 until the first value of list 0.\n",
    "    for i in range(len(number3_str)-1, -1, -1):\n",
    "        number3_str_reverse += number3_str[i]\n",
    "\n",
    "    #Into list\n",
    "    for i in number3_str_reverse:\n",
    "        output.append(i)\n",
    "\n",
    "    print(output)\n",
    "    return output"
   ]
  },
  {
   "cell_type": "code",
   "execution_count": null,
   "metadata": {
    "hidden": true
   },
   "outputs": [],
   "source": [
    "add_Two_Numbers([2,4,3], [5, 6,4])"
   ]
  },
  {
   "cell_type": "code",
   "execution_count": null,
   "metadata": {
    "hidden": true
   },
   "outputs": [],
   "source": []
  },
  {
   "cell_type": "code",
   "execution_count": null,
   "metadata": {
    "hidden": true
   },
   "outputs": [],
   "source": []
  },
  {
   "cell_type": "code",
   "execution_count": 231,
   "metadata": {
    "hidden": true
   },
   "outputs": [],
   "source": [
    "#two numbers 1\n",
    "def add_two_nums(list1=[], list2=[]):\n",
    "    \n",
    "    first_num_str  = \"\"\n",
    "    second_num_str = \"\"\n",
    "    \n",
    "    #Compose first num\n",
    "    for i in range(len(list1)-1, -1, -1):\n",
    "\n",
    "        #str obj of first number\n",
    "        first_num_str += str(list1[i])\n",
    "    \n",
    "    #Compose second num\n",
    "    for i in range(len(list2)-1, -1, -1):\n",
    "\n",
    "        #str obj of first number\n",
    "        second_num_str += str(list2[i])\n",
    "    \n",
    "    #Digitize final number\n",
    "    fin_num_str = str(int(first_num_str) + int(second_num_str))\n",
    "    fin_list    = [int(fin_num_str[i]) for i in range(len(fin_num_str)-1, -1, -1)]\n",
    "    \n",
    "    #Using built-in reverse() fn\n",
    "    #fin_list    = [int(i) for i in fin_num_str]\n",
    "    #fin_list.reverse() \n",
    "    \n",
    "    return fin_list"
   ]
  },
  {
   "cell_type": "code",
   "execution_count": null,
   "metadata": {
    "hidden": true
   },
   "outputs": [],
   "source": [
    "add_two_nums([9,9,9,9,9,9,9], [9,9,9,9])"
   ]
  },
  {
   "cell_type": "markdown",
   "metadata": {},
   "source": [
    "# Trees and Graphs "
   ]
  },
  {
   "cell_type": "markdown",
   "metadata": {
    "heading_collapsed": true
   },
   "source": [
    "###### Binary Search Tree - Validate"
   ]
  },
  {
   "cell_type": "markdown",
   "metadata": {
    "hidden": true
   },
   "source": [
    "Given the `root` of a binary tree, determine if it is a valid binary search tree (BST).\n",
    "\n",
    "A valid BST is defined as follows:\n",
    "* The left subtree of a node contains only nodes with keys less than the node's key.\n",
    "* The right subtree of a node contains only nodes with keys greater than the node's key.\n",
    "* Both the left and right subtrees must also be binary search trees.\n"
   ]
  },
  {
   "cell_type": "code",
   "execution_count": null,
   "metadata": {
    "hidden": true
   },
   "outputs": [],
   "source": [
    "#Examples\n",
    "Input: root = [2,1,3]\n",
    "Output: true"
   ]
  },
  {
   "cell_type": "code",
   "execution_count": null,
   "metadata": {
    "hidden": true
   },
   "outputs": [],
   "source": [
    "Image(filename=\"./figs/BST_ex1.png\")"
   ]
  },
  {
   "cell_type": "code",
   "execution_count": null,
   "metadata": {
    "hidden": true
   },
   "outputs": [],
   "source": [
    "Input: root = [5,1,4,null,null,3,6]\n",
    "Output: false\n",
    "Explanation: The root node's value is 5 but its right child's value is 4."
   ]
  },
  {
   "cell_type": "code",
   "execution_count": null,
   "metadata": {
    "hidden": true
   },
   "outputs": [],
   "source": [
    "Image(filename=\"./figs/BST_ex2.png\")"
   ]
  },
  {
   "cell_type": "code",
   "execution_count": null,
   "metadata": {
    "hidden": true
   },
   "outputs": [],
   "source": [
    "Image(filename=\"./figs/BST_ex3.png\")"
   ]
  },
  {
   "cell_type": "code",
   "execution_count": null,
   "metadata": {
    "hidden": true
   },
   "outputs": [],
   "source": [
    "#Class for tree node\n",
    "#    -testing BST method defined inside class\n",
    "#Recursive testing\n",
    "#    -Check one node of its left and right value. Then go to next ones\n",
    "class TreeNode:\n",
    "    \n",
    "    def __init__(self, val=0, left=None, right=None):\n",
    "        \"\"\"\n",
    "        :type value: int\n",
    "        :type left: int\n",
    "        :type right: int\n",
    "        \"\"\"\n",
    "        self.val   = val\n",
    "        self.left  = None\n",
    "        self.right = Nones\n",
    "        \n",
    "    def isValidBST(self, root: TreeNode) -> bool:\n",
    "\n",
    "        def validate(node, low=-math.inf, high=math.inf):\n",
    "            # Empty trees are valid BSTs.\n",
    "            if not node:\n",
    "                return True\n",
    "            \n",
    "            # The current node's value must be between low and high.\n",
    "            if node.val <= low or node.val >= high:\n",
    "                return False\n",
    "\n",
    "            # The left and right subtree must also be valid.\n",
    "            return (validate(node.right, node.val, high) and\n",
    "                   validate(node.left, low, node.val))\n",
    "\n",
    "        return validate(root)        "
   ]
  },
  {
   "cell_type": "code",
   "execution_count": 332,
   "metadata": {
    "hidden": true
   },
   "outputs": [],
   "source": [
    "#CReate BST\n",
    "a = TreeNode(2, 1, 3)\n",
    "\n",
    "#Check if BST\n",
    "a.isValidBST(a)"
   ]
  },
  {
   "cell_type": "markdown",
   "metadata": {
    "heading_collapsed": true
   },
   "source": [
    "###### Binary Search Tree - Insertion (GeeksforGeeks)"
   ]
  },
  {
   "cell_type": "code",
   "execution_count": null,
   "metadata": {
    "hidden": true
   },
   "outputs": [],
   "source": [
    "#Insertion of a key\n",
    "#    -Search a key from root until we hit a leaf node\n",
    "#    -Add the new node as a child of the leaf node\n",
    "#Binary Search Tree\n",
    "#    -The left subtree of a node contains only nodes with keys less than the node's key.\n",
    "#    -The right subtree of a node contains only nodes with keys greater than the node's key.\n",
    "\n",
    "         100                               100\n",
    "        /   \\        Insert 40            /    \\\n",
    "      20     500    --------->          20     500 \n",
    "     /  \\                              /  \\  \n",
    "    10   30                           10   30\n",
    "                                            \\\n",
    "                                             40"
   ]
  },
  {
   "cell_type": "code",
   "execution_count": 236,
   "metadata": {
    "hidden": true
   },
   "outputs": [],
   "source": [
    "#A Node class for individual node\n",
    "class Node:\n",
    "    \n",
    "    def __init__(self, key):\n",
    "            self.left  = None\n",
    "            self.right = None\n",
    "            self.val   = key"
   ]
  },
  {
   "cell_type": "code",
   "execution_count": 237,
   "metadata": {
    "hidden": true
   },
   "outputs": [],
   "source": [
    "#function to insert a new node\n",
    "def insert(root, key):\n",
    "    \n",
    "    #If no root (no Node is created), create a Node\n",
    "    #    -this will be called when root.right or root.left doesn't exist\n",
    "    if root is None:\n",
    "        return Node(key)\n",
    "    \n",
    "    #If there is a Node\n",
    "    else:\n",
    "        \n",
    "        #If the key to be added is the value of the root of the Node, just return root\n",
    "        if root.val == key:\n",
    "            return root\n",
    "        \n",
    "        #RECURSION\n",
    "        #If the key to be added is less than root.value, insert\n",
    "        #If the root.right DOESN'T exist, create a node with value of \"key\" and equate it to root.right\n",
    "        elif (root.val<key):\n",
    "            root.right = insert(root.right, key)\n",
    "            \n",
    "        #If the key to be added is less than root.value, insert\n",
    "        else:\n",
    "            root.left = insert(root.left, key)\n",
    "            \n",
    "    return root\n",
    "            \n",
    "#Fn. to check if BST is in order\n",
    "def inorder(root):\n",
    "    \n",
    "    if root:\n",
    "        inorder(root.left)\n",
    "        print(root.val)\n",
    "        inorder(root.right)\n",
    "            "
   ]
  },
  {
   "cell_type": "code",
   "execution_count": null,
   "metadata": {
    "hidden": true
   },
   "outputs": [],
   "source": [
    "# Driver program to test the above functions\n",
    "# Let us create the following BST\n",
    "#    50\n",
    "#  /     \\\n",
    "# 30     70\n",
    "#  / \\ / \\\n",
    "# 20 40 60 80\n",
    "\n",
    "r = Node(50)\n",
    "r = insert(r, 30)\n",
    "r = insert(r, 20)\n",
    "r = insert(r, 40)\n",
    "r = insert(r, 70)\n",
    "r = insert(r, 60)\n",
    "r = insert(r, 80)\n",
    "\n",
    "#See if in order\n",
    "inorder(r)"
   ]
  },
  {
   "cell_type": "markdown",
   "metadata": {
    "heading_collapsed": true
   },
   "source": [
    "###### Number of Islands - DFS (Depth First Search)"
   ]
  },
  {
   "cell_type": "markdown",
   "metadata": {
    "hidden": true
   },
   "source": [
    "Given an m x n 2D binary grid grid which represents a map of '1's (land) and '0's (water), return the number of islands.\n",
    "\n",
    "An island is surrounded by water and is formed by connecting adjacent lands horizontally or vertically. You may assume all four edges of the grid are all surrounded by water."
   ]
  },
  {
   "cell_type": "code",
   "execution_count": null,
   "metadata": {
    "hidden": true
   },
   "outputs": [],
   "source": [
    "#Examples\n",
    "Input: grid = [[\"1\",\"1\",\"1\",\"1\",\"0\"],\n",
    "               [\"1\",\"1\",\"0\",\"1\",\"0\"],\n",
    "               [\"1\",\"1\",\"0\",\"0\",\"0\"],\n",
    "               [\"0\",\"0\",\"0\",\"0\",\"0\"]]\n",
    "Output: 1\n",
    "    \n",
    "    \n",
    "Input: grid = [[\"1\",\"1\",\"0\",\"0\",\"0\"],\n",
    "               [\"1\",\"1\",\"0\",\"0\",\"0\"],\n",
    "               [\"0\",\"0\",\"1\",\"0\",\"0\"],\n",
    "               [\"0\",\"0\",\"0\",\"1\",\"1\"]]\n",
    "Output: 3"
   ]
  },
  {
   "cell_type": "code",
   "execution_count": null,
   "metadata": {
    "hidden": true
   },
   "outputs": [],
   "source": [
    "class Solution(object):\n",
    "\n",
    "    # 1.Treat the 2d grip map as an undirected graph and there is an edge between two horizaontally or \n",
    "    #   vertically adjacent nodes of value \"1\".\n",
    "    \n",
    "    def numIslands(self, grid):\n",
    "        islands = 0\n",
    "        for i in range(len(grid)):  \n",
    "            for j in range(len(grid[0])):\n",
    "                if grid[i][j] == '1':\n",
    "                    islands += 1\n",
    "                    self.part_of_island(i,j,grid)\n",
    "        return islands\n",
    "\n",
    "    def part_of_island(self, i, j,grid):\n",
    "        if i < 0 or j < 0 or i == len(grid) or j == len(grid[0]) or grid[i][j] != '1':\n",
    "            return\n",
    "        else:\n",
    "            grid[i][j] = '0'\n",
    "        self.part_of_island(i,j+1,grid)\n",
    "        self.part_of_island(i,j-1,grid)\n",
    "        self.part_of_island(i+1,j,grid)\n",
    "        self.part_of_island(i-1,j,grid)  "
   ]
  },
  {
   "cell_type": "markdown",
   "metadata": {
    "heading_collapsed": true
   },
   "source": [
    "###### Binary Tree Zigzag Level Order Traversal (BFS)"
   ]
  },
  {
   "cell_type": "markdown",
   "metadata": {
    "hidden": true
   },
   "source": [
    "* Given the __root__ of a binary tree, return the zigzag level order traversal of its nodes' values. (i.e., from left to right, then right to left for the next level and alternate between)."
   ]
  },
  {
   "cell_type": "code",
   "execution_count": 15,
   "metadata": {
    "hidden": true
   },
   "outputs": [
    {
     "data": {
      "image/png": "[encoded data removed]",
      "text/plain": [
       "<IPython.core.display.Image object>"
      ]
     },
     "execution_count": 15,
     "metadata": {},
     "output_type": "execute_result"
    }
   ],
   "source": [
    "Image(filename=\"./figs/bst_zigzag.png\")"
   ]
  },
  {
   "cell_type": "code",
   "execution_count": null,
   "metadata": {
    "hidden": true
   },
   "outputs": [],
   "source": [
    "#Examples\n",
    "Input: root = [3,9,20,null,null,15,7]\n",
    "Output: [[3],[20,9],[15,7]]\n",
    "    \n",
    "Input: root = [1]\n",
    "Output: [[1]]\n",
    "    \n",
    "Input: root = []\n",
    "Output: []"
   ]
  },
  {
   "cell_type": "code",
   "execution_count": null,
   "metadata": {
    "hidden": true
   },
   "outputs": [],
   "source": [
    "Image(filename=\"./figs/BST_zigzag_sol.png\")"
   ]
  },
  {
   "cell_type": "code",
   "execution_count": 17,
   "metadata": {
    "hidden": true
   },
   "outputs": [],
   "source": [
    "# 1.Key: Using \"deque\": double-ended queue data structure: add new values on either end of queue\n",
    "# 2.Simply do the normal BFS and maintain a dictionary that can contain values in deque for a particular\n",
    "#   level. So, based on which level you are, you can append right or append left in the deque.\n",
    "\n",
    "# O(n) time complexity and O(n) space complexity\n",
    "# Definition for a binary tree node.\n",
    "class TreeNode:\n",
    "    def __init__(self, val=0, left=None, right=None):\n",
    "        self.val = val\n",
    "        self.left = left\n",
    "        self.right = right\n",
    "\n",
    "class Solution:\n",
    "    def zigzagLevelOrder(self, root: TreeNode) -> List[List[int]]:\n",
    "        if not root:\n",
    "            return []\n",
    "        \n",
    "        level = 0 # to track the level on which we are currently\n",
    "        # dictionary that store the node vals for each level as key\n",
    "        # deque would give us the flexibilty for zigzag entries\n",
    "        # we can append at left or append at right based on the current\n",
    "        # level we are working on\n",
    "        dict_level = defaultdict(deque)\n",
    "        # deque for performing bfs\n",
    "        dq = deque([root])\n",
    "        while dq:\n",
    "            # get the current level size, means how many elements \n",
    "            # currently in this level\n",
    "            level_size = len(dq)\n",
    "            for i in range(level_size): # until the current level size\n",
    "                node = dq.popleft() # we pop from the left of dq\n",
    "                # if we are at level number which is odd, we will \n",
    "                # appendleft the values in deque for that level\n",
    "                if (level%2 == 1):\n",
    "                    dict_level[level].appendleft(node.val)\n",
    "                # Otherwise we will append at right\n",
    "                else:\n",
    "                    dict_level[level].append(node.val)\n",
    "                # put the left and right child nodes in the queue\n",
    "                if node.left:\n",
    "                    dq.append(node.left)\n",
    "                if node.right:\n",
    "                    dq.append(node.right)\n",
    "            # increment the level when we are finished with current level\n",
    "            level += 1 \n",
    "        # now the dictionary values are the list that contains the zigzag\n",
    "        # traversal that we want to see\n",
    "        # print(dict_level.values())\n",
    "        return dict_level.values()"
   ]
  },
  {
   "cell_type": "markdown",
   "metadata": {
    "heading_collapsed": true
   },
   "source": [
    "###### Number of Connected Components in an Undirected Graph - DFS + Recursion"
   ]
  },
  {
   "cell_type": "markdown",
   "metadata": {
    "hidden": true
   },
   "source": [
    "You have a graph of n nodes. You are given an integer n and an array edges where edges[i] = [ai, bi] indicates that there is an edge between ai and bi in the graph. `Graph NOT sorted data structure!`\n",
    "\n",
    "Return the number of connected components in the graph."
   ]
  },
  {
   "cell_type": "code",
   "execution_count": null,
   "metadata": {
    "hidden": true
   },
   "outputs": [],
   "source": [
    "#Examples 1\n",
    "Input: n = 5, edges = [[0,1],[1,2],[3,4]]\n",
    "Output: 2"
   ]
  },
  {
   "cell_type": "code",
   "execution_count": null,
   "metadata": {
    "hidden": true
   },
   "outputs": [],
   "source": [
    "Image(filename=\"figs/Undirected_graph_ex1.png\")"
   ]
  },
  {
   "cell_type": "code",
   "execution_count": null,
   "metadata": {
    "hidden": true
   },
   "outputs": [],
   "source": [
    "#example 2\n",
    "Input: n = 5, edges = [[0,1],[1,2],[2,3],[3,4]]\n",
    "Output: 1"
   ]
  },
  {
   "cell_type": "code",
   "execution_count": null,
   "metadata": {
    "hidden": true
   },
   "outputs": [],
   "source": [
    "Image(filename=\"figs/Undirected_graph_ex2.png\")"
   ]
  },
  {
   "cell_type": "code",
   "execution_count": null,
   "metadata": {
    "hidden": true
   },
   "outputs": [],
   "source": [
    "Image(filename=\"./figs/DFS_undirected_graph.png\")"
   ]
  },
  {
   "cell_type": "markdown",
   "metadata": {
    "hidden": true
   },
   "source": [
    "* If we run DFS, starting from a particular vertex, it will continue to visit the vertices depth-wise until there are no more adjacent vertices left to visit. \n",
    "* Thus, it will visit all of the vertices within the connected component that contains the starting vertex. \n",
    "* Each time we finish exploring a connected component, we can find another vertex that has not been visited yet, and start a new DFS from there. \n",
    "* The number of times we start a new DFS will be the number of connected components."
   ]
  },
  {
   "cell_type": "code",
   "execution_count": 29,
   "metadata": {
    "hidden": true
   },
   "outputs": [],
   "source": [
    "#LeetCode sol.\n",
    "def count_Connected(n:int, edges:List[List[int]]) -> int:\n",
    "    \n",
    "    #Declares\n",
    "    count = 0\n",
    "    graph = [[] for i in range(n)]\n",
    "    seen  = [False for i in range(n)]\n",
    "    \n",
    "    #graph: each element is a list that contains adjacent nodes to the node (# marked by index of list)\n",
    "    #    -graph[0] = [1]: node 0 has adjacent node of 1.\n",
    "    #    -graph[1] = [0, 2]: node 1 has adjacent nodes of 0 and 2.\n",
    "    for a, b in edges:\n",
    "        graph[a].append(b)\n",
    "        graph[b].append(a)\n",
    "        \n",
    "    #Recursion\n",
    "    #    -For each node, loop thru each of its adjacent nodes\n",
    "    def dfs(node):\n",
    "        for adj in graph[node]:\n",
    "            if not seen[adj]:\n",
    "                seen[adj] = True\n",
    "                dfs(adj)\n",
    "                \n",
    "    for i in range(n):\n",
    "        if not seen[i]:\n",
    "            count += 1\n",
    "            seen[i] = True\n",
    "            dfs(i)\n",
    "            \n",
    "    return count"
   ]
  },
  {
   "cell_type": "code",
   "execution_count": null,
   "metadata": {
    "hidden": true
   },
   "outputs": [],
   "source": [
    "#Call\n",
    "count_Connected(5, [[0,1],[1,2],[2,3],[3,4]])"
   ]
  },
  {
   "cell_type": "code",
   "execution_count": null,
   "metadata": {
    "hidden": true
   },
   "outputs": [],
   "source": [
    "#Example\n",
    "n = 5\n",
    "edges = [[0,1],[1,2],[2,3],[3,4]]\n",
    "\n",
    "graph = [[] for i in range(n)]\n",
    "seen  = [False for i in range(n)]\n",
    "\n",
    "for a, b in edges:\n",
    "    graph[a].append(b)\n",
    "    graph[b].append(a)\n",
    "\n",
    "print(graph)"
   ]
  },
  {
   "cell_type": "code",
   "execution_count": null,
   "metadata": {
    "hidden": true
   },
   "outputs": [],
   "source": [
    "#Example - Iterate\n",
    "i=0\n",
    "    seen[0] = False\n",
    "        count   = 1\n",
    "        seen[0] = True\n",
    "        dfs(0)\n",
    "            \n",
    "            for i in graph[0] = 1\n",
    "                seen[1] = True\n",
    "                dfs(1)\n",
    "\n",
    "                    for i in graph[1] = [0, 2]\n",
    "                        seen[2] = True\n",
    "                        dfs(2)\n",
    "                        \n",
    "                            for i in graph[2] = [1, 3]\n",
    "                                seen(3) = True\n",
    "                                dfs(3)\n",
    "                            \n",
    "                                    for i in graph[3] = [2, 4]\n",
    "                                        seen(4) = True\n",
    "                                        def(4)\n",
    "                                        \n",
    "                                            for i in graph[4] = [3]\n",
    "                                                NOTHING\n",
    "i=1\n",
    "    seen[1] = True\n",
    "i=2\n",
    "    seen[2] = True\n",
    "i=3\n",
    "    seen[3] = True\n",
    "i=3\n",
    "    seen[3] = True"
   ]
  },
  {
   "cell_type": "markdown",
   "metadata": {},
   "source": [
    "# Recursion "
   ]
  },
  {
   "cell_type": "markdown",
   "metadata": {
    "heading_collapsed": true
   },
   "source": [
    "###### Recursion - Calling a function within itself"
   ]
  },
  {
   "cell_type": "code",
   "execution_count": 350,
   "metadata": {
    "hidden": true
   },
   "outputs": [],
   "source": [
    "def factorial(x):\n",
    "    \"\"\"\n",
    "    This is a recursive function to find the factorial of an integer\n",
    "    \"\"\"\n",
    "    \n",
    "    if x==1:\n",
    "        return 1\n",
    "    \n",
    "    else:\n",
    "        return(x*factorial(x-1))"
   ]
  },
  {
   "cell_type": "code",
   "execution_count": null,
   "metadata": {
    "hidden": true
   },
   "outputs": [],
   "source": [
    "num=3\n",
    "print(\"The factorial of \", num, \"is \", factorial(num))"
   ]
  },
  {
   "cell_type": "markdown",
   "metadata": {
    "heading_collapsed": true
   },
   "source": [
    "###### Letter Combinations of a Phone Number - [unsolved]"
   ]
  },
  {
   "cell_type": "markdown",
   "metadata": {
    "hidden": true
   },
   "source": [
    "Given a string containing digits from `2-9` inclusive, return all possible letter combinations that the number could represent. Return the answer in any order.\n",
    "\n",
    "A mapping of digit to letters (just like on the telephone buttons) is given below. Note that 1 does not map to any letters."
   ]
  },
  {
   "cell_type": "code",
   "execution_count": 80,
   "metadata": {
    "hidden": true
   },
   "outputs": [
    {
     "data": {
      "image/png": "[encoded data removed]",
      "text/plain": [
       "<IPython.core.display.Image object>"
      ]
     },
     "execution_count": 80,
     "metadata": {},
     "output_type": "execute_result"
    }
   ],
   "source": [
    "Image(filename=\"./figs/letter_comb.png\")"
   ]
  },
  {
   "cell_type": "code",
   "execution_count": null,
   "metadata": {
    "hidden": true
   },
   "outputs": [],
   "source": [
    "#Examples\n",
    "Input: digits = \"23\"\n",
    "Output: [\"ad\",\"ae\",\"af\",\"bd\",\"be\",\"bf\",\"cd\",\"ce\",\"cf\"]\n",
    "    \n",
    "Input: digits = \"\"\n",
    "Output: []\n",
    "    \n",
    "Input: digits = \"2\"\n",
    "Output: [\"a\",\"b\",\"c\"]"
   ]
  },
  {
   "cell_type": "code",
   "execution_count": null,
   "metadata": {
    "hidden": true
   },
   "outputs": [],
   "source": [
    "#Letter combi.\n",
    "def letter_Combi(string_dig:str=\"\")->list:\n",
    "    \n",
    "    #declares\n",
    "    dig_letter_dict = {}\n",
    "    dig_letter_dict[\"2\"] = [\"a\",\"b\",\"c\"]\n",
    "    dig_letter_dict[\"3\"] = [\"d\",\"e\",\"f\"]\n",
    "    dig_letter_dict[\"4\"] = [\"a\",\"b\",\"c\"]\n",
    "    dig_letter_dict[\"5\"] = [\"a\",\"b\",\"c\"]\n",
    "    dig_letter_dict[\"6\"] = [\"a\",\"b\",\"c\"]\n",
    "    dig_letter_dict[\"7\"] = [\"a\",\"b\",\"c\"]\n",
    "    dig_letter_dict[\"8\"] = [\"a\",\"b\",\"c\"]\n",
    "    dig_letter_dict[\"9\"] = [\"w\",\"x\",\"y\",\"z\"]\n",
    "    \n",
    "    letters      = \"abcdefghijklmnopqrstuv\"\n",
    "    poss_letters = []\n",
    "    poss_unique  = []\n",
    "    \n",
    "    curent_combo = \"\"\n",
    "    fin_list     = []\n",
    "    \n",
    "    for i,j in zip(range(2, 9), range(len(letters))):\n",
    "        dig_letter_dict[\"{:d}\".format(i)] = [letters[j]]\n",
    "    \n",
    "    #Let's say I have a dict.: key=digit and value=list containing letters\n",
    "    #dict={\"2\":[a,b,c], \"3\":[e,f,g], ...}\n",
    "    \n",
    "    for i in string_dig:\n",
    "        #list of all letters pertaining to the digit\n",
    "        poss_letters = poss_letters + dig_letter_dict[i]\n",
    "            \n",
    "    #Unique\n",
    "    for i in poss_letters:\n",
    "        if (i not in unique_list):\n",
    "            unique_list.append(i)\n",
    "            \n",
    "    #Possible combinations\n",
    "    for i in range(len(unique_list)):\n",
    "        \n",
    "        for j in range():\n"
   ]
  },
  {
   "cell_type": "code",
   "execution_count": null,
   "metadata": {
    "hidden": true
   },
   "outputs": [],
   "source": []
  },
  {
   "cell_type": "code",
   "execution_count": 97,
   "metadata": {
    "hidden": true
   },
   "outputs": [],
   "source": [
    "#Leetcode solution\n",
    "def letterCombinations(digits: str) -> list:\n",
    "    # If the input is empty, immediately return an empty answer array\n",
    "    if len(digits) == 0: \n",
    "        return []\n",
    "\n",
    "    # Map all the digits to their corresponding letters\n",
    "    letters = {\"2\": \"abc\", \"3\": \"def\", \"4\": \"ghi\", \"5\": \"jkl\", \n",
    "               \"6\": \"mno\", \"7\": \"pqrs\", \"8\": \"tuv\", \"9\": \"wxyz\"}\n",
    "\n",
    "    def backtrack(index, path):\n",
    "        # If the path is the same length as digits, we have a complete combination\n",
    "        if len(path) == len(digits):\n",
    "            combinations.append(\"\".join(path))\n",
    "            return # Backtrack\n",
    "\n",
    "        # Get the letters that the current digit maps to, and loop through them\n",
    "        possible_letters = letters[digits[index]]\n",
    "        for letter in possible_letters:\n",
    "            # Add the letter to our current path\n",
    "            path.append(letter)\n",
    "            # Move on to the next digit\n",
    "            backtrack(index + 1, path)\n",
    "            # Backtrack by removing the letter before moving onto the next\n",
    "            path.pop()\n",
    "\n",
    "    # Initiate backtracking with an empty path and starting index of 0\n",
    "    combinations = []\n",
    "    backtrack(0, [])\n",
    "    return combinations"
   ]
  },
  {
   "cell_type": "markdown",
   "metadata": {
    "heading_collapsed": true
   },
   "source": [
    "###### Permutations - Backtracking"
   ]
  },
  {
   "cell_type": "markdown",
   "metadata": {
    "hidden": true
   },
   "source": [
    "Given an array nums of distinct integers, return all the possible permutations. You can return the answer in any order."
   ]
  },
  {
   "cell_type": "code",
   "execution_count": null,
   "metadata": {
    "hidden": true
   },
   "outputs": [],
   "source": [
    "#Examples\n",
    "Input: nums = [1,2,3]\n",
    "Output: [[1,2,3],[1,3,2],[2,1,3],[2,3,1],[3,1,2],[3,2,1]]\n",
    "    \n",
    "Input: nums = [0,1]\n",
    "Output: [[0,1],[1,0]]\n",
    "\n",
    "Input: nums = [1]\n",
    "Output: [[1]]"
   ]
  },
  {
   "cell_type": "code",
   "execution_count": 170,
   "metadata": {
    "hidden": true
   },
   "outputs": [
    {
     "data": {
      "image/png": "[encoded data removed]",
      "text/plain": [
       "<IPython.core.display.Image object>"
      ]
     },
     "execution_count": 170,
     "metadata": {},
     "output_type": "execute_result"
    }
   ],
   "source": [
    "Image(filename=\"figs/backtracking.png\")"
   ]
  },
  {
   "cell_type": "code",
   "execution_count": 212,
   "metadata": {
    "hidden": true
   },
   "outputs": [],
   "source": [
    "#LeetCode sol.\n",
    "#    -Backtracking: algorithm for finding solutions by exploring all potential candidates\n",
    "#        -If the solution candidate turns to be not a solution, discard it by making some changes on previous\n",
    "#        -step, hence the name backtracks and then try again.\n",
    "def permute(nums):\n",
    "    \"\"\"\n",
    "    :type nums: List[int]\n",
    "    :rtype: List[List[int]]\n",
    "    \"\"\"\n",
    "    #Declares\n",
    "    n = len(nums)\n",
    "    output = []\n",
    "    \n",
    "    #It will increment on \"first\" variable\n",
    "    def backtrack(first = 0):\n",
    "        \n",
    "        # if all integers are used up\n",
    "        if first == n:  \n",
    "            output.append(nums[:])\n",
    "            \n",
    "        for i in range(first, n):\n",
    "            #place i-th integer first in the current permutation\n",
    "            nums[first], nums[i] = nums[i], nums[first]\n",
    "            \n",
    "            print(f\"first = {first}\")\n",
    "            print(f\"I     = {i}\")\n",
    "            \n",
    "            #use next integers to complete the permutations\n",
    "            backtrack(first + 1)\n",
    "            \n",
    "            #backtrack\n",
    "            nums[first], nums[i] = nums[i], nums[first]\n",
    "            \n",
    "            print(\"===================================\")\n",
    "\n",
    "    backtrack()\n",
    "    return output"
   ]
  },
  {
   "cell_type": "code",
   "execution_count": null,
   "metadata": {
    "hidden": true,
    "scrolled": true
   },
   "outputs": [],
   "source": [
    "#call\n",
    "permute([1, 2, 3])"
   ]
  },
  {
   "cell_type": "code",
   "execution_count": null,
   "metadata": {
    "code_folding": [
     0
    ],
    "hidden": true
   },
   "outputs": [],
   "source": [
    "#Iterations\n",
    "nums = [1, 2, 3]\n",
    "\n",
    "i=0, first=0\n",
    "    nums[0], nums[0] = 1, 1\n",
    "    \n",
    "    backtrace(1)\n",
    "        i=1, first=1 \"\"\"COME TO HERE after this loop!!!!!!!!!!!!!!!!!!!!!!!!!!!!!!\"\"\"\n",
    "            nums[1], nums[1] = 2, 2\n",
    "            \n",
    "            backtrace(2)\n",
    "                i=2, first=2\n",
    "                    nums[2], nums[2] = 3, 3\n",
    "                    \n",
    "                    backtrace(3)\n",
    "                        output.append([1,2,3])\n",
    "                        \n",
    "                        \n",
    "                        \n",
    "        i=2, first=1\n",
    "            nums[1], nums[2] = 3, 2\n",
    "            \n",
    "            backtrace(2)\n",
    "                i=2, first=2\n",
    "                    nums[2], nums[2] = 2, 2\n",
    "                    \n",
    "                    backtrace(3)\n",
    "                        output.append([1, 3, 2])\n",
    "                        \n",
    "i=1, first=0\n",
    "    nums[0], nums[1] = 2, 1"
   ]
  },
  {
   "cell_type": "markdown",
   "metadata": {
    "heading_collapsed": true
   },
   "source": [
    "###### Permutation"
   ]
  },
  {
   "cell_type": "markdown",
   "metadata": {
    "hidden": true
   },
   "source": [
    "Generate all permutation of a list in Python"
   ]
  },
  {
   "cell_type": "code",
   "execution_count": 240,
   "metadata": {
    "hidden": true
   },
   "outputs": [],
   "source": [
    "#GfG sol.\n",
    "from typing import List\n",
    "\n",
    "def permute(nums:List[int]) -> List[List[int]]:\n",
    "\n",
    "    #1. Extract one element at a time\n",
    "    #2. Place them at the first position\n",
    "    #3. From the remaining list, I will repeat by extracting one element \n",
    "    #   and placing them at the next first position. And Continue.\n",
    "\n",
    "    #Declares\n",
    "    output_list = []\n",
    "\n",
    "    #Empty list\n",
    "    if (len(nums)==0):\n",
    "        return []\n",
    "\n",
    "    #If only one element in list\n",
    "    if (len(nums)==1):\n",
    "        return [nums]\n",
    "\n",
    "    #len(nums) >1\n",
    "    for i in range(len(nums)):\n",
    "        \n",
    "        #current element\n",
    "        crrnt_elm = nums[i]\n",
    "\n",
    "        #list except currnt element\n",
    "        remain_list = nums[:i] + nums[i+1:]\n",
    "\n",
    "        #Recur by calling permute on the remain_list\n",
    "        next_list = permute(remain_list)\n",
    "\n",
    "        for j in next_list:\n",
    "            output_list.append([crrnt_elm] + j)\n",
    "\n",
    "#         print(f\"i = {i}\")\n",
    "#         print(f\"crrnt_elm = {crrnt_elm}\")\n",
    "#         print(f\"remain_list = {remain_list}\")\n",
    "#         print(f\"next_list = {next_list}\")\n",
    "#         print(f\"output_list = {output_list}\")        \n",
    "#         print(\"=================================\")\n",
    "#         print(\"=================================\")\n",
    "    \n",
    "    return output_list"
   ]
  },
  {
   "cell_type": "code",
   "execution_count": null,
   "metadata": {
    "hidden": true
   },
   "outputs": [],
   "source": [
    "#Iterations\n",
    "nums=[1, 2, 3]\n",
    "\n",
    "i=0\n",
    "    crrnt_elm   = 1\n",
    "    remain_list = [2, 3]\n",
    "    \n",
    "    next_list = permute([2, 3])\n",
    "\n",
    "        i=0\n",
    "            crrnt_elm   = 2\n",
    "            remain_list = [3]\n",
    "            \n",
    "            next_list = permute([3])\n",
    "            \n",
    "                return [1, 2, 3]"
   ]
  },
  {
   "cell_type": "code",
   "execution_count": null,
   "metadata": {
    "hidden": true
   },
   "outputs": [],
   "source": [
    "#call\n",
    "permute([1, 2, 3])"
   ]
  },
  {
   "cell_type": "code",
   "execution_count": null,
   "metadata": {
    "hidden": true
   },
   "outputs": [],
   "source": [
    "#call\n",
    "permute(list(\"123\"))"
   ]
  },
  {
   "cell_type": "markdown",
   "metadata": {},
   "source": [
    "# Sorting and Searching"
   ]
  },
  {
   "cell_type": "markdown",
   "metadata": {
    "heading_collapsed": true
   },
   "source": [
    "###### Sort Colors"
   ]
  },
  {
   "cell_type": "markdown",
   "metadata": {
    "hidden": true
   },
   "source": [
    "Given an array `nums` with n objects colored red, white, or blue, sort them `in-place` so that objects of the same color are adjacent, with the colors in the order red, white, and blue.\n",
    "\n",
    "We will use the integers `0`, `1`, and `2` to represent the color red, white, and blue, respectively.\n",
    "\n",
    "You must solve this problem without using the library's sort function."
   ]
  },
  {
   "cell_type": "code",
   "execution_count": null,
   "metadata": {
    "hidden": true
   },
   "outputs": [],
   "source": [
    "#Examples\n",
    "Input: nums = [2,0,2,1,1,0]\n",
    "Output: [0,0,1,1,2,2]\n",
    "    \n",
    "Input: nums = [2,0,1]\n",
    "Output: [0,1,2]"
   ]
  },
  {
   "cell_type": "code",
   "execution_count": 224,
   "metadata": {
    "hidden": true
   },
   "outputs": [],
   "source": [
    "#Sort Colors\n",
    "#2 objectives\n",
    "#    - ascending order\n",
    "#    - group by likes\n",
    "\n",
    "def sortColors(nums: list) -> list:\n",
    "    \n",
    "    return sorted(nums)\n"
   ]
  },
  {
   "cell_type": "code",
   "execution_count": null,
   "metadata": {
    "hidden": true
   },
   "outputs": [],
   "source": [
    "sortColors([2,0,2,1,1,0])"
   ]
  },
  {
   "cell_type": "markdown",
   "metadata": {
    "heading_collapsed": true
   },
   "source": [
    "###### Divide Two Integers"
   ]
  },
  {
   "cell_type": "markdown",
   "metadata": {
    "hidden": true
   },
   "source": [
    "Given two integers dividend and divisor, divide two integers without using `multiplication, division, and mod operator`.\n",
    "\n",
    "The integer division should truncate toward zero, which means losing its fractional part. For example, 8.345 would be truncated to 8, and -2.7335 would be truncated to -2.\n",
    "\n",
    "Return the quotient after dividing dividend by divisor.\n",
    "\n",
    "Note: Assume we are dealing with an environment that could only store integers within the 32-bit signed integer range: [−231, 231 − 1]. For this problem, if the quotient is strictly greater than 231 - 1, then return 231 - 1, and if the quotient is strictly less than -231, then return -231."
   ]
  },
  {
   "cell_type": "code",
   "execution_count": null,
   "metadata": {
    "hidden": true
   },
   "outputs": [],
   "source": [
    "#Examples \n",
    "Input: dividend = 10, divisor = 3\n",
    "Output: 3\n",
    "Explanation: 10/3 = 3.33333.. which is truncated to 3.\n",
    "\n",
    "    \n",
    "Input: dividend = 7, divisor = -3\n",
    "Output: -2\n",
    "Explanation: 7/-3 = -2.33333.. which is truncated to -2."
   ]
  },
  {
   "cell_type": "code",
   "execution_count": 2,
   "metadata": {
    "hidden": true
   },
   "outputs": [],
   "source": [
    "import numpy as np\n",
    "\n",
    "def divide_Two_Ints(dividend:int, divisor:int) -> int:\n",
    "\n",
    "    #dividend = 10, divisor = 3\n",
    "    #output = 3\n",
    "    #dividend = -10, divisor = 3\n",
    "    #output = -3\n",
    "\n",
    "    #1. Abolute value of dividend and divisor\n",
    "    #2. compute the final sign of the quotient\n",
    "    #3. While loop: count the nuber of time a divisor can be subtracted from the dividend until the divisor is bigger than the dividend\n",
    "\n",
    "    #Decalres\n",
    "    dividend_abs = np.abs(dividend)\n",
    "    divisor_abs = np.abs(divisor)\n",
    "    counter = 0\n",
    "    fin_sign = 0\n",
    "    \n",
    "    #Positive final sign\n",
    "    if (dividend<0 and divisor<0) or (dividend>0 and divisor>0):\n",
    "        fin_sign = 1\n",
    "\n",
    "    if (dividend>0 and divisor<0) or (dividend<0 and divisor>0):\n",
    "        fin_sign = -1\n",
    "\n",
    "    #Subtract number of time\n",
    "    while(dividend_abs > divisor_abs):\n",
    "        dividend_abs = dividend_abs - divisor_abs\n",
    "        counter += 1\n",
    "\n",
    "    return fin_sign*counter"
   ]
  },
  {
   "cell_type": "code",
   "execution_count": null,
   "metadata": {
    "hidden": true
   },
   "outputs": [],
   "source": [
    "divide_Two_Ints(10, 3)"
   ]
  },
  {
   "cell_type": "code",
   "execution_count": null,
   "metadata": {
    "hidden": true
   },
   "outputs": [],
   "source": [
    "divide_Two_Ints(7, -3)"
   ]
  },
  {
   "cell_type": "markdown",
   "metadata": {
    "heading_collapsed": true
   },
   "source": [
    "###### Search in Rotated Sorted Array"
   ]
  },
  {
   "cell_type": "markdown",
   "metadata": {
    "hidden": true
   },
   "source": [
    "There is an integer array nums sorted in ascending order (with distinct values).\n",
    "\n",
    "Prior to being passed to your function, nums is possibly rotated at an unknown pivot index `k (1 <= k < nums.length)` such that the resulting array is `[nums[k], nums[k+1], ..., nums[n-1], nums[0], nums[1], ..., nums[k-1]]` (0-indexed). For example, [0,1,2,4,5,6,7] might be rotated at pivot index 3 and become [4,5,6,7,0,1,2].\n",
    "\n",
    "Given the array `nums` after the possible rotation and an integer `target`, return the index of target if it is in nums, or -1 if it is not in nums.\n",
    "\n",
    "You must write an algorithm with O(log n) runtime complexity."
   ]
  },
  {
   "cell_type": "code",
   "execution_count": null,
   "metadata": {
    "hidden": true
   },
   "outputs": [],
   "source": [
    "#Example\n",
    "Input: nums = [4,5,6,7,0,1,2], target = 0\n",
    "Output: 4\n",
    "\n",
    "Input: nums = [4,5,6,7,0,1,2], target = 7\n",
    "Output: 3    \n",
    "    \n",
    "Input: nums = [4,5,6,7,0,1,2], target = 3\n",
    "Output: -1\n",
    "    \n",
    "Input: nums = [1], target = 0\n",
    "Output: -1"
   ]
  },
  {
   "cell_type": "code",
   "execution_count": 198,
   "metadata": {
    "code_folding": [
     1
    ],
    "hidden": true
   },
   "outputs": [],
   "source": [
    "#Rotated sorted array\n",
    "def search_Rotated_Sorted_Array(nums:List[int], target:int) -> int:\n",
    "    \n",
    "    #WTF: index of target if it is in \"nums\" with time compleity of O(log(n))\n",
    "    #1. Binary Search\n",
    "    #2. Find rotation index: \"rotation_index\"\n",
    "    #    -index of the smallest element in the array\n",
    "    #3. Split array intwo two parts: left and right of \"rotation_index\": \"left_of_pivot\", \"right_of_pivot\"\n",
    "    #    -compare nums[0] to the target\n",
    "    #        -if nums[0] > target, target is on the \"right_of_pivot\" or on the pivot\n",
    "    #        -if nums[0] < target, target is on the \"left_of_pivot\"??\n",
    "    #4. Perform binary search in the chosen part of array\n",
    "    \n",
    "    #Find pivot: method 1: using .index() func\n",
    "    pivot = nums.index(min(nums))\n",
    "    \n",
    "    #Find pivot: method 2: very annoying\n",
    "    def find_Rotate_Index(left, right):\n",
    "        #When there was no rotation at all: all in ascending order\n",
    "        if (nums[left] < nums[right]):\n",
    "            return 0\n",
    "        \n",
    "        while (left <= right):\n",
    "            #First assume pivot is at middle\n",
    "            pivot = (left + right) // 2\n",
    "            #If the middle point is greater than the one on the right of it,\n",
    "            #    -since ascending order, only time left > right is if right is pivot (smallest)\n",
    "            if (nums[pivot] > nums[pivot+1]):\n",
    "                return pivot+1\n",
    "            else:\n",
    "                if (nums[pivot] < nums[left]):\n",
    "                    right = pivot-1\n",
    "                else:\n",
    "                    left = pivot + 1\n",
    "    \n",
    "    #Binary Search\n",
    "    def binary_Search(left, right):\n",
    "        #Move left and right depending on the target and target_index...\n",
    "        while (left <= right):\n",
    "            target_index = (left+right) // 2\n",
    "            if (nums[target_index] == target):\n",
    "                return target_index\n",
    "            else:\n",
    "                #If target is left of target_index\n",
    "                if target < nums[target_index]:\n",
    "                    right = target_index - 1\n",
    "                #If target is right of target_index\n",
    "                else:\n",
    "                    left = target_index + 1\n",
    "        #If left > right\n",
    "        return -1\n",
    "\n",
    "    #If only 1 element in list\n",
    "    if (len(nums)==1):\n",
    "        return 0 if (nums[0]==target) else -1\n",
    "        \n",
    "    #Find pivot index\n",
    "    rotate_index = find_Rotate_Index(0, n-1)\n",
    "    \n",
    "    #if target is the smallest element: pivot\n",
    "    if nums[rotate_index] == target:\n",
    "        return rotate_index\n",
    "    \n",
    "    #If array not rotated, search the entire array\n",
    "    if rotate_index == 0:\n",
    "        return binary_Search(0, n-1)\n",
    "    \n",
    "    #If target is smaller than the first element: target is on the RIGHT of the pivot\n",
    "    if target < nums[0]:\n",
    "        return binary_Search(rotate_index, n-1)   \n",
    "    \n",
    "    #If target is larger than the first element: target is on the LEFT of the pivot\n",
    "    if target > nums[0]:\n",
    "        return binary_Search(0, rotate_index)"
   ]
  },
  {
   "cell_type": "code",
   "execution_count": null,
   "metadata": {
    "code_folding": [
     0
    ],
    "hidden": true
   },
   "outputs": [],
   "source": [
    "#Iterate finding pivot loop\n",
    "left=0, right=7\n",
    "    while 0<7\n",
    "        pivot = 3\n",
    "        (nums[pivot=3]=5 > nums[left=0]=2)\n",
    "            left  = 4\n",
    "            \n",
    "            while 4<7\n",
    "                pivot = (4+7)//2 = 5\n",
    "                (nums[pivot=5]=7 > nums[left=4]=6)\n",
    "                    left = 5+1 = 6\n",
    "\n",
    "                    while 6<7:\n",
    "                        pivot= (6+7) = 6\n",
    "                        (nums[pivot=6]=0 = nums[left=6] = 0)\n",
    "                            left = 6+1 = 7\n",
    "                \n",
    "                            while 7<7 != False:\n",
    "                            pivot = 6"
   ]
  },
  {
   "cell_type": "code",
   "execution_count": null,
   "metadata": {
    "hidden": true
   },
   "outputs": [],
   "source": [
    "#Test\n",
    "search_Rotated_Sorted_Array([4,5,6,7,0,1,2], 7)"
   ]
  },
  {
   "cell_type": "markdown",
   "metadata": {},
   "source": [
    "# Dynamic Programming"
   ]
  },
  {
   "cell_type": "markdown",
   "metadata": {
    "heading_collapsed": true
   },
   "source": [
    "###### [Notes]"
   ]
  },
  {
   "cell_type": "markdown",
   "metadata": {
    "hidden": true
   },
   "source": [
    "* Dynamic Programming is mainly an optimization over plain recursion. \n",
    "* Wherever we see a recursive solution that has repeated calls for same inputs, we can optimize it using Dynamic Programming. \n",
    "* `The idea is to simply store the results of subproblems, so that we do not have to re-compute them when needed later`\n",
    "* This simple optimization reduces time complexities from exponential to polynomial. \n",
    "* For example, if we write simple recursive solution for Fibonacci Numbers, we get exponential time complexity and if we optimize it by storing solutions of subproblems, time complexity reduces to linear."
   ]
  },
  {
   "cell_type": "code",
   "execution_count": null,
   "metadata": {
    "hidden": true
   },
   "outputs": [],
   "source": [
    "Image(filename=\"figs/dynamic_programming.png\")"
   ]
  },
  {
   "cell_type": "markdown",
   "metadata": {
    "heading_collapsed": true
   },
   "source": [
    "###### Maximum Subarray"
   ]
  },
  {
   "cell_type": "markdown",
   "metadata": {
    "hidden": true
   },
   "source": [
    "Given an integer array `nums`, find the contiguous subarray (containing at least one number) which has the largest sum and return its sum.\n",
    "\n",
    "A subarray is a contiguous part of an array."
   ]
  },
  {
   "cell_type": "code",
   "execution_count": null,
   "metadata": {
    "hidden": true
   },
   "outputs": [],
   "source": [
    "#Examples\n",
    "Input: nums = [-2,1,-3,4,-1,2,1,-5,4]\n",
    "Input: nums = [-2,1,-3,4,-1,2,1,-5,4]\n",
    "Output: 6\n",
    "Explanation: [4,-1,2,1] has the largest sum = 6.\n",
    "    \n",
    "Input: nums = [1]\n",
    "Output: 1\n",
    "    \n",
    "Input: nums = [5,4,-1,7,8]\n",
    "Output: 23"
   ]
  },
  {
   "cell_type": "code",
   "execution_count": 262,
   "metadata": {
    "hidden": true
   },
   "outputs": [],
   "source": [
    "#I want subarray...\n",
    "#    -Make combinations of subarrays: 2 - before and after\n",
    "#        -Test sums\n",
    "\n",
    "def maximumSubarray(nums: list) -> list and int:\n",
    "        \n",
    "    #Declares\n",
    "    sub_nums_big = [nums[0]]\n",
    "    sub_nums_new = []\n",
    "    \n",
    "    for i in range(0, len(nums)):\n",
    "        \n",
    "        for j in range(i+1, len(nums)):\n",
    "            \n",
    "                sub_nums_new = nums[i:j+1]\n",
    "                \n",
    "#                 print(\"sub_nums_big = \", sub_nums_big, \"\\t\", \"sum = \", sum(sub_nums_big))\n",
    "#                 print(\"sub_nums_new = \", sub_nums_new)\n",
    "                \n",
    "                if(sum(sub_nums_big) < sum(sub_nums_new)):\n",
    "                    sub_nums_big = sub_nums_new\n",
    "        \n",
    "    return sub_nums_big, sum(sub_nums_big)"
   ]
  },
  {
   "cell_type": "markdown",
   "metadata": {},
   "source": [
    "# Design - Data Structures"
   ]
  },
  {
   "cell_type": "markdown",
   "metadata": {
    "heading_collapsed": true
   },
   "source": [
    "###### LRU Cache "
   ]
  },
  {
   "cell_type": "markdown",
   "metadata": {
    "hidden": true
   },
   "source": [
    "* Cache is a hardward or software component that stores data so that future requests for that data can be served faster\n",
    "\n",
    "* LRU discard the least recently used items first.\n",
    "\n",
    "* This algorithm keeps track of when each elements were used -> expensive"
   ]
  },
  {
   "cell_type": "markdown",
   "metadata": {
    "hidden": true
   },
   "source": [
    "* Design a data structure that follows the constraints of a Least Recently Used (LRU) cache.\n",
    "\n",
    "* We're asked to implement the structure which provides the following operations in O(1) time :\n",
    "\n",
    "    * Get the key / Check if the key exists\n",
    "    * Put the key\n",
    "    * Delete the first added key"
   ]
  },
  {
   "cell_type": "markdown",
   "metadata": {
    "hidden": true
   },
   "source": [
    "* There is a structure called `ordered dictionary`, it combines behind both hashmap and linked list. In Python this structure is called OrderedDict and in Java LinkedHashMap."
   ]
  },
  {
   "cell_type": "code",
   "execution_count": null,
   "metadata": {
    "hidden": true
   },
   "outputs": [],
   "source": [
    "Image(filename=\"./figs/LRU_cache.png\")"
   ]
  },
  {
   "cell_type": "code",
   "execution_count": 181,
   "metadata": {
    "code_folding": [],
    "hidden": true
   },
   "outputs": [],
   "source": [
    "from collections import OrderedDict\n",
    "\n",
    "#LRUCache Class\n",
    "class LRUCache(OrderedDict):\n",
    "    \n",
    "    def __init__(self, capacity):\n",
    "        \"\"\"\n",
    "        :type capacity: int\n",
    "        \"\"\"\n",
    "        self.capacity = capacity\n",
    "        \n",
    "    def get(self, key):\n",
    "        \"\"\"\n",
    "        :type key: int\n",
    "        :rtype: int\n",
    "        \"\"\"\n",
    "        if key not in self:\n",
    "            return -1\n",
    "        \n",
    "        #move_to_end() in OrderedDict class\n",
    "        #    -since accessed, move an existing element to the end\n",
    "        self.move_to_end(key)\n",
    "        return self[key]\n",
    "        \n",
    "    def put(self, key, value):\n",
    "        \"\"\"\n",
    "        :type key: int\n",
    "        :type value: int\n",
    "        :rtype: void\n",
    "        \"\"\"\n",
    "        \n",
    "        #If the key is already in, place at end\n",
    "        if key in self:\n",
    "            self.move_to_end(key)\n",
    "            \n",
    "        self[key] = value\n",
    "        \n",
    "        #If the object exceeds its capacity, lose one\n",
    "        #    -Pairs are returned in LIFO order if last is true or FIFO order if false.\n",
    "        #        -LIFO: Last input, First out\n",
    "        #        -FIFO: First input, First out\n",
    "        if (len(self)>self.capacity):\n",
    "            self.popitem(last=False)\n",
    "        \n",
    "# Your LRUCache object will be instantiated and called as such:\n",
    "# obj = LRUCache(capacity)\n",
    "# param_1 = obj.get(key)\n",
    "# obj.put(key,value)            "
   ]
  },
  {
   "cell_type": "code",
   "execution_count": null,
   "metadata": {
    "hidden": true
   },
   "outputs": [],
   "source": [
    "#Call LRUCache\n",
    "obj1 = LRUCache(3)\n",
    "obj1"
   ]
  },
  {
   "cell_type": "code",
   "execution_count": 213,
   "metadata": {
    "hidden": true
   },
   "outputs": [],
   "source": [
    "#Put keys/values\n",
    "obj1.put(1, 1)\n",
    "obj1.put(2, 2)\n",
    "obj1.put(3, 3)\n",
    "obj1.put(4, 4)"
   ]
  },
  {
   "cell_type": "code",
   "execution_count": null,
   "metadata": {
    "hidden": true
   },
   "outputs": [],
   "source": [
    "obj1"
   ]
  },
  {
   "cell_type": "code",
   "execution_count": null,
   "metadata": {
    "hidden": true
   },
   "outputs": [],
   "source": [
    "#Deleted key\n",
    "obj1.get(1)"
   ]
  },
  {
   "cell_type": "markdown",
   "metadata": {},
   "source": [
    "# Others "
   ]
  },
  {
   "cell_type": "markdown",
   "metadata": {},
   "source": [
    "## Random number"
   ]
  },
  {
   "cell_type": "markdown",
   "metadata": {
    "heading_collapsed": true
   },
   "source": [
    "###### Biased Dice - P(i)=xP(i-1) [unsolved]"
   ]
  },
  {
   "cell_type": "markdown",
   "metadata": {
    "hidden": true
   },
   "source": [
    "Write a function in Python that throws a biased N-sided dice (i.e. generates a random number between 1 and N) such that, ∀i,1<i≤N,P(i)=xP(i-1), where P(i) is the probability of throwing an i and x∈R is a parameter of the function."
   ]
  },
  {
   "cell_type": "code",
   "execution_count": null,
   "metadata": {
    "hidden": true
   },
   "outputs": [],
   "source": [
    "#Biased prob\n",
    "def biasedDice(n_side=0, x=0):\n",
    "    \n",
    "    def prob(i=0):\n",
    "        \n",
    "        prob = 1/i\n",
    "        \n",
    "        return \n",
    "    \n",
    "    \n",
    "    fin_prob = x*prob(n-1)"
   ]
  },
  {
   "cell_type": "code",
   "execution_count": null,
   "metadata": {
    "hidden": true
   },
   "outputs": [],
   "source": [
    "def biased(n:int=1, x:int=1): -> float:\n",
    "    \n",
    "    prob = 1/n\n",
    "    \n",
    "    return x*biased(n-1)"
   ]
  },
  {
   "cell_type": "markdown",
   "metadata": {},
   "source": [
    "## Prime numbers"
   ]
  },
  {
   "cell_type": "markdown",
   "metadata": {
    "heading_collapsed": true
   },
   "source": [
    "###### Check if prime"
   ]
  },
  {
   "cell_type": "code",
   "execution_count": 69,
   "metadata": {
    "hidden": true
   },
   "outputs": [],
   "source": [
    "def checkPrime(n=0):\n",
    "    \n",
    "    #Flag\n",
    "    flag = False\n",
    "    \n",
    "    if n>1:\n",
    "        for i in range(2, n):\n",
    "            #Not prime\n",
    "            if(n%i==0):\n",
    "                flag=True\n",
    "                break\n",
    "            \n",
    "    if flag:\n",
    "        print(n, \"is not a prime\")\n",
    "        \n",
    "    else:\n",
    "        print(n, \"is a prime\")"
   ]
  },
  {
   "cell_type": "code",
   "execution_count": null,
   "metadata": {
    "hidden": true
   },
   "outputs": [],
   "source": [
    "checkPrime(4)"
   ]
  },
  {
   "cell_type": "markdown",
   "metadata": {
    "heading_collapsed": true
   },
   "source": [
    "###### Smallest prime greater than n"
   ]
  },
  {
   "cell_type": "code",
   "execution_count": 64,
   "metadata": {
    "hidden": true
   },
   "outputs": [],
   "source": [
    "#Find the smallest prime number that is greater than n\n",
    "def findPrime(n=0):\n",
    "    \n",
    "    flag    = False \n",
    "    checker = 0\n",
    "\n",
    "    while(flag==False):\n",
    "    \n",
    "        #Iterate from 2 to n (or you can do range(2, int(n/2)+1)):\n",
    "        for i in range(2, n):\n",
    "            \n",
    "            #If n is not n\n",
    "            if (n%i==0):\n",
    "                #Go to next number\n",
    "                n+=1\n",
    "                checker = 0\n",
    "                break           \n",
    "            \n",
    "            elif (n%i!=0):\n",
    "                #count number of digits that cant divide n\n",
    "                checker += 1\n",
    "            \n",
    "        #If number is only divisible by 1 and itself    \n",
    "        if (checker==(n-2)):\n",
    "            flag=True\n",
    "    \n",
    "    return n"
   ]
  },
  {
   "cell_type": "code",
   "execution_count": null,
   "metadata": {
    "hidden": true
   },
   "outputs": [],
   "source": [
    "findPrime(n=14)"
   ]
  },
  {
   "cell_type": "markdown",
   "metadata": {
    "heading_collapsed": true
   },
   "source": [
    "###### Prime Palindrome"
   ]
  },
  {
   "cell_type": "markdown",
   "metadata": {
    "hidden": true
   },
   "source": [
    "Given an integer n, return the smallest prime palindrome greater than or equal to n.\n",
    "\n",
    "An integer is prime if it has exactly two divisors: 1 and itself. Note that 1 is not a prime number.\n",
    "\n",
    "    * For example, 2, 3, 5, 7, 11, and 13 are all primes.\n",
    "\n",
    "An integer is a palindrome if it reads the same from left to right as it does from right to left.\n",
    "\n",
    "    * For example, 101 and 12321 are palindromes.\n",
    "\n",
    "The test cases are generated so that the answer always exists and is in the range [2, 2 * 108]."
   ]
  },
  {
   "cell_type": "code",
   "execution_count": null,
   "metadata": {
    "hidden": true
   },
   "outputs": [],
   "source": [
    "#Examples\n",
    "Input: n = 6\n",
    "Output: 7\n",
    "    \n",
    "Input: n = 8\n",
    "Output: 11\n",
    "    \n",
    "Input: n = 13\n",
    "Output: 101"
   ]
  },
  {
   "cell_type": "code",
   "execution_count": null,
   "metadata": {
    "hidden": true
   },
   "outputs": [],
   "source": [
    "#Rewrite question\n",
    "given n, te k: k>=n: \n",
    "    k is prime palindrom: \n",
    "        k is divisible by 1 and k. \n",
    "        k: k[0] = k[-1]: first and last digit is same     \n",
    "        k: k <= k_i: k_i all primes"
   ]
  },
  {
   "cell_type": "code",
   "execution_count": 46,
   "metadata": {
    "code_folding": [
     0
    ],
    "hidden": true
   },
   "outputs": [],
   "source": [
    "def findnPalindrom(n=0):\n",
    "    \n",
    "    flag_prime    = False \n",
    "    flag_Palin    = False \n",
    "    checker       = 0\n",
    "    checker_Palin = []\n",
    "\n",
    "    while (flag_prime==False and flag_Palin==False):\n",
    "    \n",
    "        #Iterate from 2 to n (or you can do range(2, int(n/2)+1)):\n",
    "        for i in range(2, n):\n",
    "            \n",
    "            #If n is not n\n",
    "            if (n%i==0):\n",
    "                #Go to next number\n",
    "                n+=1\n",
    "                checker = 0\n",
    "                break           \n",
    "            \n",
    "            elif (n%i!=0):\n",
    "                #count number of digits that cant divide n\n",
    "                checker += 1\n",
    "                            \n",
    "        #If number is only divisible by 1 and itself    \n",
    "        if (checker==(n-2)):\n",
    "            flag_prime=True\n",
    "\n",
    "\n",
    "        #Check Palindrom\n",
    "        list_digits = [int(x) for x in str(n)]      \n",
    "        \n",
    "        for i, j in zip(range(0, len(list_digs), 1), range(len(list_digs)-1, -1, -1)):\n",
    "    \n",
    "            if (list_digs[i] == list_digs[j]):\n",
    "                checker_Palin.append(True)\n",
    "            \n",
    "        if (all(checker_Palin)):\n",
    "            flag_Palin = True\n",
    "    \n",
    "    return n"
   ]
  },
  {
   "cell_type": "code",
   "execution_count": 51,
   "metadata": {
    "code_folding": [
     0
    ],
    "hidden": true
   },
   "outputs": [],
   "source": [
    "def findnPalindrom(n=0):\n",
    "    \n",
    "    flag_prime    = False \n",
    "    flag_Palin    = False \n",
    "    checker       = 0\n",
    "    checker_Palin = []\n",
    "\n",
    "    while (flag_prime==False and flag_Palin==False):\n",
    "    \n",
    "        #Iterate from 2 to n (or you can do range(2, int(n/2)+1)):\n",
    "        for i in range(2, n):\n",
    "                        \n",
    "            if (n%i!=0):\n",
    "                #count number of digits that cant divide n\n",
    "                checker += 1\n",
    "                            \n",
    "        #If number is only divisible by 1 and itself    \n",
    "        if (checker==(n-2)):\n",
    "            flag_prime=True\n",
    "\n",
    "\n",
    "        #Check Palindrom\n",
    "        list_digits = [int(x) for x in str(n)]      \n",
    "        \n",
    "        for i, j in zip(range(0, len(list_digs), 1), range(len(list_digs)-1, -1, -1)):\n",
    "    \n",
    "            if (list_digs[i] == list_digs[j]):\n",
    "                checker_Palin.append(True)\n",
    "            \n",
    "        if (all(checker_Palin)):\n",
    "            flag_Palin = True\n",
    "            \n",
    "        if (flag_prime==False or flag_Palin==False):\n",
    "            n+=1\n",
    "    \n",
    "    return n"
   ]
  },
  {
   "cell_type": "code",
   "execution_count": null,
   "metadata": {
    "hidden": true
   },
   "outputs": [],
   "source": [
    "findnPalindrom(n=14)"
   ]
  },
  {
   "cell_type": "markdown",
   "metadata": {
    "heading_collapsed": true
   },
   "source": [
    "###### Calculate the prime numbers up to the range of the given number"
   ]
  },
  {
   "cell_type": "markdown",
   "metadata": {
    "hidden": true
   },
   "source": [
    "Given an integer n, return the number of prime numbers that are strictly less than n."
   ]
  },
  {
   "cell_type": "code",
   "execution_count": null,
   "metadata": {
    "hidden": true
   },
   "outputs": [],
   "source": [
    "#Examples\n",
    "Input: n = 10\n",
    "Output: 4\n",
    "Explanation: There are 4 prime numbers less than 10, they are 2, 3, 5, 7.\n",
    "\n",
    "Input: n = 0\n",
    "Output: 0\n",
    "    \n",
    "Input: n = 1\n",
    "Output: 0"
   ]
  },
  {
   "cell_type": "code",
   "execution_count": 151,
   "metadata": {
    "hidden": true
   },
   "outputs": [],
   "source": [
    "#primes less than n\n",
    "def primesLess(n=0):\n",
    "    \n",
    "    counter    = 0\n",
    "    prime_list = []\n",
    "    \n",
    "    for i in range(2, n):\n",
    "        \n",
    "        for j in range(1, i):\n",
    "        \n",
    "            #Count numbers that cant divide i\n",
    "            if (i%j!=0):\n",
    "                counter+=1\n",
    "                \n",
    "        #Prime only divisible by 1 and itself\n",
    "        if (counter == (i-2)):\n",
    "            prime_list.append(i)\n",
    "        \n",
    "        #initialize counter\n",
    "        counter = 0\n",
    "        \n",
    "    print(\"Primes less than {:d} = \".format(n), prime_list)\n",
    "    print(\"# of primes less than {:d} = \".format(n), len(prime_list))        "
   ]
  },
  {
   "cell_type": "code",
   "execution_count": 153,
   "metadata": {
    "hidden": true
   },
   "outputs": [
    {
     "name": "stdout",
     "output_type": "stream",
     "text": [
      "Primes less than 100 =  [2, 3, 5, 7, 11, 13, 17, 19, 23, 29, 31, 37, 41, 43, 47, 53, 59, 61, 67, 71, 73, 79, 83, 89, 97]\n",
      "# of primes less than 100 =  25\n"
     ]
    }
   ],
   "source": [
    "primesLess(100)"
   ]
  },
  {
   "cell_type": "markdown",
   "metadata": {
    "heading_collapsed": true
   },
   "source": [
    "###### Largers prime number in [1, k]"
   ]
  },
  {
   "cell_type": "code",
   "execution_count": 181,
   "metadata": {
    "hidden": true
   },
   "outputs": [],
   "source": [
    "#primes less than n\n",
    "def LgstPrime(n=0):\n",
    "    \n",
    "    counter    = 0\n",
    "    prime_list = []\n",
    "    \n",
    "    for i in range(2, n+1):\n",
    "        \n",
    "        for j in range(1, i):\n",
    "        \n",
    "            #Count numbers that cant divide i\n",
    "            if (i%j!=0):\n",
    "                counter+=1\n",
    "                \n",
    "        #Prime only divisible by 1 and itself\n",
    "        if (counter == (i-2)):\n",
    "            prime_list.append(i)\n",
    "        \n",
    "        #initialize counter\n",
    "        counter = 0\n",
    "        \n",
    "    print(\"Primes less than or equal to {:d} = \".format(n), prime_list)\n",
    "    print(\"# of primes less than or equal to {:d} = \".format(n), len(prime_list)) \n",
    "    print(\"Largest prime in [1, {:d}] = \".format(n), max(prime_list))"
   ]
  },
  {
   "cell_type": "code",
   "execution_count": null,
   "metadata": {
    "hidden": true
   },
   "outputs": [],
   "source": [
    "LgstPrime(1322)"
   ]
  },
  {
   "cell_type": "markdown",
   "metadata": {
    "heading_collapsed": true
   },
   "source": [
    "###### Monodigital prime number"
   ]
  },
  {
   "cell_type": "code",
   "execution_count": 262,
   "metadata": {
    "hidden": true
   },
   "outputs": [],
   "source": [
    "#Monodigital First try\n",
    "def monodigital_Prime(k=0):\n",
    "    \n",
    "    counter = 0\n",
    "    largest = 0\n",
    "    \n",
    "    for i in range(k, 1, -1):\n",
    "        \n",
    "        for j in range(i, 0, -1):\n",
    "            \n",
    "            #Count the numbers that can't divide i\n",
    "            if(i%j!=0):\n",
    "                counter+=1\n",
    "                \n",
    "        #Prime only divisible by 1 and itself\n",
    "        if (counter == (i-2)):\n",
    "            largest = i\n",
    "            break\n",
    "\n",
    "        #Initialize counter\n",
    "        counter = 0\n",
    "            \n",
    "    print(\"larges prime in [1, {:d}] = \".format(k), largest)"
   ]
  },
  {
   "cell_type": "code",
   "execution_count": 263,
   "metadata": {
    "hidden": true
   },
   "outputs": [
    {
     "name": "stdout",
     "output_type": "stream",
     "text": [
      "larges prime in [1, 1000000] =  999983\n",
      "Computation time =  1.1557056903839111\n"
     ]
    }
   ],
   "source": [
    "import time\n",
    "\n",
    "start = time.time()\n",
    "\n",
    "#Call our function\n",
    "monodigital_Prime(k=1000000)\n",
    "\n",
    "end = time.time()\n",
    "\n",
    "print(\"Computation time = \", end-start)"
   ]
  },
  {
   "cell_type": "code",
   "execution_count": null,
   "metadata": {
    "hidden": true
   },
   "outputs": [],
   "source": []
  },
  {
   "cell_type": "code",
   "execution_count": null,
   "metadata": {
    "hidden": true
   },
   "outputs": [],
   "source": []
  },
  {
   "cell_type": "code",
   "execution_count": 268,
   "metadata": {
    "hidden": true
   },
   "outputs": [],
   "source": [
    "#Monodigital Second Try\n",
    "def monodigital_Prime_Second(k=0):\n",
    "    \n",
    "    prime_list = []\n",
    "        \n",
    "    for i in range(k, 1, -1):\n",
    "        \n",
    "        #prime if not divisible\n",
    "        if (all(i%j!=0 for j in range(i-1, 1, -1))):\n",
    "            \n",
    "            #List all primes in [1, k]\n",
    "            prime_list.append(i)\n",
    "\n",
    "    #Print largest prime\n",
    "    print(\"Largest prime in [1, {:d}] = \".format(k), max(prime_list))"
   ]
  },
  {
   "cell_type": "code",
   "execution_count": 269,
   "metadata": {
    "hidden": true
   },
   "outputs": [
    {
     "name": "stdout",
     "output_type": "stream",
     "text": [
      "Largest prime in [1, 10000] =  9973\n",
      "Computation time =  2.1079626083374023\n"
     ]
    }
   ],
   "source": [
    "import time\n",
    "\n",
    "start = time.time()\n",
    "\n",
    "#Call our function\n",
    "monodigital_Prime_Second(k=10000)\n",
    "\n",
    "end = time.time()\n",
    "\n",
    "print(\"Computation time = \", end-start)"
   ]
  },
  {
   "cell_type": "markdown",
   "metadata": {},
   "source": [
    "# ETC"
   ]
  },
  {
   "cell_type": "code",
   "execution_count": null,
   "metadata": {},
   "outputs": [],
   "source": []
  },
  {
   "cell_type": "code",
   "execution_count": null,
   "metadata": {},
   "outputs": [],
   "source": []
  },
  {
   "cell_type": "code",
   "execution_count": null,
   "metadata": {},
   "outputs": [],
   "source": []
  },
  {
   "cell_type": "code",
   "execution_count": null,
   "metadata": {},
   "outputs": [],
   "source": []
  },
  {
   "cell_type": "code",
   "execution_count": null,
   "metadata": {},
   "outputs": [],
   "source": []
  },
  {
   "cell_type": "code",
   "execution_count": null,
   "metadata": {},
   "outputs": [],
   "source": []
  },
  {
   "cell_type": "code",
   "execution_count": null,
   "metadata": {},
   "outputs": [],
   "source": []
  },
  {
   "cell_type": "code",
   "execution_count": null,
   "metadata": {},
   "outputs": [],
   "source": []
  },
  {
   "cell_type": "code",
   "execution_count": null,
   "metadata": {},
   "outputs": [],
   "source": []
  },
  {
   "cell_type": "code",
   "execution_count": null,
   "metadata": {},
   "outputs": [],
   "source": []
  },
  {
   "cell_type": "code",
   "execution_count": null,
   "metadata": {},
   "outputs": [],
   "source": []
  },
  {
   "cell_type": "code",
   "execution_count": null,
   "metadata": {},
   "outputs": [],
   "source": []
  },
  {
   "cell_type": "code",
   "execution_count": null,
   "metadata": {},
   "outputs": [],
   "source": []
  },
  {
   "cell_type": "code",
   "execution_count": null,
   "metadata": {},
   "outputs": [],
   "source": []
  },
  {
   "cell_type": "code",
   "execution_count": null,
   "metadata": {},
   "outputs": [],
   "source": []
  },
  {
   "cell_type": "code",
   "execution_count": null,
   "metadata": {},
   "outputs": [],
   "source": []
  }
 ],
 "metadata": {
  "kernelspec": {
   "display_name": "Python 3",
   "language": "python",
   "name": "python3"
  },
  "language_info": {
   "codemirror_mode": {
    "name": "ipython",
    "version": 3
   },
   "file_extension": ".py",
   "mimetype": "text/x-python",
   "name": "python",
   "nbconvert_exporter": "python",
   "pygments_lexer": "ipython3",
   "version": "3.6.9"
  },
  "toc": {
   "base_numbering": 1,
   "nav_menu": {},
   "number_sections": true,
   "sideBar": false,
   "skip_h1_title": false,
   "title_cell": "",
   "title_sidebar": "",
   "toc_cell": false,
   "toc_position": {},
   "toc_section_display": true,
   "toc_window_display": false
  },
  "varInspector": {
   "cols": {
    "lenName": 16,
    "lenType": 16,
    "lenVar": 40
   },
   "kernels_config": {
    "python": {
     "delete_cmd_postfix": "",
     "delete_cmd_prefix": "del ",
     "library": "var_list.py",
     "varRefreshCmd": "print(var_dic_list())"
    },
    "r": {
     "delete_cmd_postfix": ") ",
     "delete_cmd_prefix": "rm(",
     "library": "var_list.r",
     "varRefreshCmd": "cat(var_dic_list()) "
    }
   },
   "types_to_exclude": [
    "module",
    "function",
    "builtin_function_or_method",
    "instance",
    "_Feature"
   ],
   "window_display": false
  }
 },
 "nbformat": 4,
 "nbformat_minor": 4
}
