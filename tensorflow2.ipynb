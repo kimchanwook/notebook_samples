{
 "cells": [
  {
   "cell_type": "code",
   "execution_count": 2,
   "metadata": {},
   "outputs": [],
   "source": [
    "from __future__              import absolute_import, division, print_function, unicode_literals\n",
    "\n",
    "import tensorflow as tf\n",
    "import numpy      as np\n",
    "import time\n",
    "import os\n",
    "import pandas                 as pd\n",
    "import matplotlib             as mpl\n",
    "import matplotlib.pyplot      as plt\n",
    "\n",
    "\n",
    "from tensorflow.keras.layers import Dense, Flatten, Conv2D\n",
    "from tensorflow.keras        import Model\n",
    "\n",
    "#plt config\n",
    "mpl.style.use(\"default\")\n",
    "mpl.rcParams[\"axes.facecolor\"] = \"#EAEAF2\" "
   ]
  },
  {
   "cell_type": "markdown",
   "metadata": {},
   "source": [
    "# Basics NN (notes) "
   ]
  },
  {
   "cell_type": "markdown",
   "metadata": {
    "heading_collapsed": true
   },
   "source": [
    "### SNN "
   ]
  },
  {
   "cell_type": "markdown",
   "metadata": {
    "hidden": true
   },
   "source": [
    "__`Definitions`__\n",
    "* __layer__\n",
    "  * core building block of neural networks\n",
    "  * data-processing module that filters the data\n",
    "  * extract _representations_ out of the data fed into them.\n",
    "* __Dense__ layers \n",
    "  * densely connected neural layers also known as _fully connected_\n",
    "* __loss function__\n",
    "  * measure of performance on the training data\n",
    "* __optimizer__\n",
    "  * mechanism through which the NN will update itself based on the data it sees and the loss function\n",
    "* __Metrics__ to monitor quality of training\n",
    "  * accuracies, efficiency, purities, ... etc "
   ]
  },
  {
   "cell_type": "code",
   "execution_count": null,
   "metadata": {
    "hidden": true
   },
   "outputs": [],
   "source": [
    "\"\"\"\n",
    "model = keras.Sequential([keras.layers.Flatten(input_shape=(28,28)), \n",
    "                          keras.layers.Dense(128, activation=tf.nn.relu),\n",
    "                          keras.layers.Dense(10, activation=tf.nn.softmax)])\n",
    "\"\"\""
   ]
  },
  {
   "cell_type": "markdown",
   "metadata": {
    "hidden": true
   },
   "source": [
    "__` Keras Code Explanation`__\n",
    "* __keras.Sequential__ model is a linear stack of layers\n",
    "* __tf.keras.layers.Flatten__ transforms the format of the images from a 2d-array (28x28 pixels) to a 1d-array\n",
    "  (28*28=784pixels)\n",
    "* __tf.keras.layers.Dense__ \n",
    "  * the network will consist of two dense (fully-connected) neural layers. \n",
    "    * 1st dense neural layer has 128 nodes \n",
    "      * activation function describes what kind of output one wants from the layer\n",
    "      * tf.nn.relu = Re(ctified) L(inear) U(nit)\n",
    "        * As results from each layer needs to yield a specific representation of result (i.e. 0 or 1), there\n",
    "          for we need to \n",
    "          rectify the result using a function and in this case, a linear function.\n",
    "    * 2nd dense neural layer has 10-node softmax layer - `This is where __prediction__ happens`\n",
    "      * tf.nn.softmax = returns an array of 10 probability scores that sum to 1 - Normalisation of \n",
    "        sum(input)=1\n",
    "        * each node contains a score that indicates the probability that the current image belong to one of 10 \n",
    "          classes       "
   ]
  },
  {
   "cell_type": "markdown",
   "metadata": {
    "hidden": true
   },
   "source": [
    "__`Framework of NN`__\n",
    "* Each neural netwrork operates on input data as follow:\n",
    "  $$ output = relu(dot(W, input) + b) $$\n",
    "  * $b=trainable\\ parameter$ are tensors that is attribute of the _bias_\n",
    "      * Bias is like the intercept added in a linear equation\n",
    "          * adjust the output along with the weighted sum of inputs\n",
    "          * adjusted to help the model to fit best for the given data\n",
    "  * $W=weights$ (_coefficients_) - tensor that is an attribute of the _kernel_ \n",
    "    * Initially, these weights are filled with small randome values, _random initialization_\n",
    "    * gradual adjustment of these weights after each iteration in _training loop_ = training the model data\n",
    "      1. Draw training samples _x_ and corresponding targets _y_\n",
    "      2. Run the network on _x_ (step called _forward pass_) to obtain predictions _y_pred_\n",
    "      3. Compute the loss of the network on the batch: a measure of the mismatch between _y_pred_ and _y_.\n",
    "      4. __Optimizer__: Update all weights of the network in a way that slightly reduces the loss on this batch. \n",
    "        * How can you compute how the coefficient should be altered? improved?\n",
    "          1. Naive solution\n",
    "            * freeze all weights in the network except the one scalar coefficient being considered and try new values\n",
    "              untill it improves. \n",
    "          2. Better solution (_stochastic gradient descent_ SGD algorithm)\n",
    "            * Since all tensor operations are _differentiable_, compute _graduent_ of the loss function with regards \n",
    "              to the network's coefficients/parameters. Then, move the coefficients in the opposite direction from the\n",
    "              gradient, thus decreasing the loss: \n",
    "              $$ W := W - (step\\ *\\ gradient) $$\n",
    "            * Find the minimum and alter the coefficients toward minimum.\n",
    "            * _stochastic_ refers to the fact that each batch of data is drawn at random.\n",
    "          3. SGD with momentum\n",
    "            * use gradient of not only the current value (current velocity), but also the past value (past velocity). Thus,\n",
    "              it allows the see local minimum + global minimum.\n",
    "            \n",
    "* __Optimizer__ and __loss function__ are what determines the NN algorithm\n",
    "    * Optimizer `AdamOptimizer()` - Adaptive moment estimation\n",
    "      * See paper by Kingma\n",
    "    * Loss function `sparse_categorical_crossentropy`\n",
    "      * See Information Theory for definition of entropy"
   ]
  },
  {
   "cell_type": "markdown",
   "metadata": {
    "heading_collapsed": true
   },
   "source": [
    "# Tensors and Operations "
   ]
  },
  {
   "cell_type": "markdown",
   "metadata": {
    "heading_collapsed": true,
    "hidden": true
   },
   "source": [
    "#### Tensorflow Tensors "
   ]
  },
  {
   "cell_type": "markdown",
   "metadata": {
    "hidden": true
   },
   "source": [
    "A Tensor is a multi-dimensional array. Similar to NumPy `ndarray` objects, `tf.Tensor` objects have a data type and a shape. Additionally, `tf.Tensor`s can reside in accelerator memory (like a GPU). TensorFlow offers a rich library of operations ([tf.add](https://www.tensorflow.org/api_docs/python/tf/add), [tf.matmul](https://www.tensorflow.org/api_docs/python/tf/matmul), [tf.linalg.inv](https://www.tensorflow.org/api_docs/python/tf/linalg/inv) etc.) that consume and produce `tf.Tensor`s. These operations automatically convert native Python types, for example:"
   ]
  },
  {
   "cell_type": "markdown",
   "metadata": {
    "heading_collapsed": true,
    "hidden": true
   },
   "source": [
    "###### Creating Tensors "
   ]
  },
  {
   "cell_type": "code",
   "execution_count": null,
   "metadata": {
    "hidden": true
   },
   "outputs": [],
   "source": [
    "a = tf.convert_to_tensor(3.0)\n",
    "b = tf.convert_to_tensor([1, 2])\n",
    "c = tf.constant(3.0, dtype=tf.float32)\n",
    "print(a)\n",
    "print(b)\n",
    "print(c)"
   ]
  },
  {
   "cell_type": "code",
   "execution_count": null,
   "metadata": {
    "hidden": true
   },
   "outputs": [],
   "source": [
    "a = tf.ones([3, 2])\n",
    "b = tf.zeros([3, 2])\n",
    "print(a)\n",
    "print(b)"
   ]
  },
  {
   "cell_type": "markdown",
   "metadata": {
    "heading_collapsed": true,
    "hidden": true
   },
   "source": [
    "###### Types of tensors "
   ]
  },
  {
   "cell_type": "markdown",
   "metadata": {
    "hidden": true
   },
   "source": [
    "* tf.constant\n",
    "* tf.Variable \n",
    "    * After construction, the type and shape of the \n",
    "      variable are fixed. The value can be changed using one of the assign methods\n",
    "* tf.placeholder \n",
    "    * a promise to provide a value later, like a fn argument\n",
    "* tf.SparseTensor "
   ]
  },
  {
   "cell_type": "code",
   "execution_count": null,
   "metadata": {
    "hidden": true
   },
   "outputs": [],
   "source": [
    "#tf.constant\n",
    "a = tf.constant(3.0, dtype=tf.float32)\n",
    "print(a)"
   ]
  },
  {
   "cell_type": "code",
   "execution_count": null,
   "metadata": {
    "hidden": true
   },
   "outputs": [],
   "source": [
    "#tf.Variable\n",
    "v = tf.Variable(1.0)\n",
    "print(v)\n",
    "\n",
    "# Reassign the value `v`\n",
    "v.assign(3.0)\n",
    "print(v)\n",
    "\n",
    "#Subtracts a value from this variable.\n",
    "v.assign_sub(3.0)\n",
    "print(v)\n",
    "\n",
    "\n",
    "# Use `v` in a TensorFlow `tf.square()` operation and reassign\n",
    "v.assign(tf.square(v))\n",
    "print(v)"
   ]
  },
  {
   "cell_type": "markdown",
   "metadata": {
    "heading_collapsed": true,
    "hidden": true
   },
   "source": [
    "###### Basic tensor operations "
   ]
  },
  {
   "cell_type": "code",
   "execution_count": null,
   "metadata": {
    "hidden": true
   },
   "outputs": [],
   "source": [
    "print(tf.add(1, 2))\n",
    "print(tf.add([1, 2], [3, 4]))\n",
    "print(tf.square(5))\n",
    "print(tf.reduce_sum([1, 2, 3]))\n",
    "\n",
    "# Operator overloading is also supported\n",
    "print(tf.square(2) + tf.square(3))"
   ]
  },
  {
   "cell_type": "markdown",
   "metadata": {
    "heading_collapsed": true,
    "hidden": true
   },
   "source": [
    "###### Access Tensor Components & Details "
   ]
  },
  {
   "cell_type": "code",
   "execution_count": 7,
   "metadata": {
    "hidden": true
   },
   "outputs": [
    {
     "data": {
      "text/plain": [
       "<tf.Tensor: shape=(2,), dtype=int32, numpy=array([4, 6], dtype=int32)>"
      ]
     },
     "execution_count": 7,
     "metadata": {},
     "output_type": "execute_result"
    }
   ],
   "source": [
    "#Tensor vector\n",
    "a = tf.add([1, 2], [3, 4])\n",
    "a"
   ]
  },
  {
   "cell_type": "code",
   "execution_count": 68,
   "metadata": {
    "hidden": true
   },
   "outputs": [
    {
     "name": "stdout",
     "output_type": "stream",
     "text": [
      "tf.Tensor(4, shape=(), dtype=int32)\n",
      "#======================================\n",
      "tf.Tensor(4, shape=(), dtype=int32)\n",
      "tf.Tensor(6, shape=(), dtype=int32)\n"
     ]
    }
   ],
   "source": [
    "#Access tensor components via index\n",
    "print(a[0])\n",
    "\n",
    "#Access tensor components via iteration\n",
    "print(\"#======================================\")\n",
    "for i in a:\n",
    "    print(i)"
   ]
  },
  {
   "cell_type": "code",
   "execution_count": 82,
   "metadata": {
    "hidden": true
   },
   "outputs": [
    {
     "name": "stdout",
     "output_type": "stream",
     "text": [
      "2\n",
      "(2,)\n",
      "<dtype: 'int32'>\n"
     ]
    }
   ],
   "source": [
    "#Accress attributes of tensor\n",
    "print(len(a))\n",
    "print(a.shape)\n",
    "print(a.dtype)"
   ]
  },
  {
   "cell_type": "markdown",
   "metadata": {
    "hidden": true
   },
   "source": [
    "Each `tf.Tensor` has a shape and a datatype:"
   ]
  },
  {
   "cell_type": "code",
   "execution_count": null,
   "metadata": {
    "hidden": true
   },
   "outputs": [],
   "source": [
    "x = tf.matmul([[1]], [[2, 3]])\n",
    "print(x)\n",
    "print(x.shape)\n",
    "print(x.dtype)"
   ]
  },
  {
   "cell_type": "markdown",
   "metadata": {
    "hidden": true
   },
   "source": [
    "The most obvious differences between NumPy arrays and `tf.Tensor`s are:\n",
    "\n",
    "1. Tensors can be backed by accelerator memory (like GPU, TPU).\n",
    "2. Tensors are immutable."
   ]
  },
  {
   "cell_type": "markdown",
   "metadata": {
    "heading_collapsed": true,
    "hidden": true
   },
   "source": [
    "#### NumPy Compatibility"
   ]
  },
  {
   "cell_type": "markdown",
   "metadata": {
    "hidden": true
   },
   "source": [
    "Converting between a TensorFlow `tf.Tensor`s and a NumPy `ndarray` is easy:\n",
    "\n",
    "* TensorFlow operations automatically convert NumPy ndarrays to Tensors.\n",
    "* NumPy operations automatically convert Tensors to NumPy ndarrays.\n",
    "\n",
    "Tensors are explicitly converted to NumPy ndarrays using their `.numpy()` method. These conversions are typically cheap since the array and `tf.Tensor` share the underlying memory representation, if possible. However, sharing the underlying representation isn't always possible since the `tf.Tensor` may be hosted in GPU memory while NumPy arrays are always backed by host memory, and the conversion involves a copy from GPU to host memory."
   ]
  },
  {
   "cell_type": "code",
   "execution_count": null,
   "metadata": {
    "hidden": true
   },
   "outputs": [],
   "source": [
    "ndarray = np.ones([3, 3])\n",
    "\n",
    "print(\"TensorFlow operations convert numpy arrays to Tensors automatically\")\n",
    "tensor = tf.multiply(ndarray, 42)\n",
    "print(tensor)\n",
    "\n",
    "print(\"And NumPy operations convert Tensors to numpy arrays automatically\")\n",
    "print(np.add(tensor, 1))\n",
    "\n",
    "print(\"The .numpy() method explicitly converts a Tensor to a numpy array\")\n",
    "print(tensor.numpy())"
   ]
  },
  {
   "cell_type": "markdown",
   "metadata": {
    "heading_collapsed": true,
    "hidden": true
   },
   "source": [
    "#### GPU acceleration"
   ]
  },
  {
   "cell_type": "markdown",
   "metadata": {
    "hidden": true
   },
   "source": [
    "Many TensorFlow operations are accelerated using the GPU for computation. Without any annotations, TensorFlow automatically decides whether to use the GPU or CPU for an operation—copying the tensor between CPU and GPU memory, if necessary. Tensors produced by an operation are typically backed by the memory of the device on which the operation executed, for example:"
   ]
  },
  {
   "cell_type": "code",
   "execution_count": null,
   "metadata": {
    "hidden": true
   },
   "outputs": [],
   "source": [
    "x = tf.random.uniform([3, 3])\n",
    "\n",
    "print(\"Is there a GPU available: \"),\n",
    "print(tf.config.experimental.list_physical_devices(\"GPU\"))\n",
    "\n",
    "print(\"Is the Tensor on GPU #0:  \"),\n",
    "print(x.device.endswith('GPU:0'))"
   ]
  },
  {
   "cell_type": "markdown",
   "metadata": {
    "heading_collapsed": true,
    "hidden": true
   },
   "source": [
    "#### Device Names "
   ]
  },
  {
   "cell_type": "markdown",
   "metadata": {
    "hidden": true
   },
   "source": [
    "The `Tensor.device` property provides a fully qualified string name of the device hosting the contents of the tensor. This name encodes many details, such as an identifier of the network address of the host on which this program is executing and the device within that host. This is required for distributed execution of a TensorFlow program. The string ends with `GPU:<N>` if the tensor is placed on the `N`-th GPU on the host."
   ]
  },
  {
   "cell_type": "markdown",
   "metadata": {
    "heading_collapsed": true,
    "hidden": true
   },
   "source": [
    "#### Explicit Device Placement: tf.device "
   ]
  },
  {
   "cell_type": "markdown",
   "metadata": {
    "hidden": true
   },
   "source": [
    "In TensorFlow, placement refers to how individual operations are assigned (placed on) a device for execution. As mentioned, when there is no explicit guidance provided, TensorFlow automatically decides which device to execute an operation and copies tensors to that device, if needed. However, TensorFlow operations can be explicitly placed on specific devices using the `tf.device` context manager, for example:"
   ]
  },
  {
   "cell_type": "code",
   "execution_count": null,
   "metadata": {
    "hidden": true
   },
   "outputs": [],
   "source": [
    "def time_matmul(x):\n",
    "    start = time.time()\n",
    "    for loop in range(10):\n",
    "        tf.matmul(x, x)\n",
    "\n",
    "    result = time.time()-start\n",
    "\n",
    "    print(\"10 loops: {:0.2f}ms\".format(1000*result))\n",
    "\n",
    "# Force execution on CPU\n",
    "print(\"On CPU:\")\n",
    "with tf.device(\"CPU:0\"):\n",
    "    x = tf.random.uniform([1000, 1000])\n",
    "    assert x.device.endswith(\"CPU:0\")\n",
    "    time_matmul(x)\n",
    "\n",
    "# Force execution on GPU #0 if available\n",
    "if tf.config.experimental.list_physical_devices(\"GPU\"):\n",
    "    print(\"On GPU:\")\n",
    "    with tf.device(\"GPU:0\"): # Or GPU:1 for the 2nd GPU, GPU:2 for the 3rd etc.\n",
    "        x = tf.random.uniform([1000, 1000])\n",
    "        assert x.device.endswith(\"GPU:0\")\n",
    "        time_matmul(x)\n"
   ]
  },
  {
   "cell_type": "markdown",
   "metadata": {
    "heading_collapsed": true,
    "hidden": true
   },
   "source": [
    "#### Datasets "
   ]
  },
  {
   "cell_type": "markdown",
   "metadata": {
    "heading_collapsed": true,
    "hidden": true
   },
   "source": [
    "###### Create a source Dataset \n",
    "This section uses the `tf.data.Dataset` API to build a pipeline for feeding data to your model. The `tf.data.Dataset` API is used to build performant, complex input pipelines from simple, re-usable pieces that will feed your model's training or evaluation loops.\n",
    "\n",
    "Create a source dataset using one of the factory functions like `Dataset.from_tensors`, `Dataset.from_tensor_slices`, or using objects that read from files like `TextLineDataset` or `TFRecordDataset`. See the `TensorFlow Dataset guide` for more information."
   ]
  },
  {
   "cell_type": "code",
   "execution_count": 11,
   "metadata": {
    "hidden": true
   },
   "outputs": [],
   "source": [
    "ds_tensors = tf.data.Dataset.from_tensor_slices([1, 2, 3, 4, 5, 6])\n",
    "\n",
    "# Create a CSV file\n",
    "import tempfile\n",
    "\n",
    "_, filename = tempfile.mkstemp()\n",
    "\n",
    "with open(filename, 'w') as f:\n",
    "    f.write(\"\"\"Line 1\n",
    "    Line 2\n",
    "    Line 3\n",
    "      \"\"\")\n",
    "\n",
    "ds_file = tf.data.TextLineDataset(filename)"
   ]
  },
  {
   "cell_type": "markdown",
   "metadata": {
    "heading_collapsed": true,
    "hidden": true
   },
   "source": [
    "###### Apply transformations \n",
    "\n",
    "Use the transformations functions like `map`, `batch`, and `shuffle` to apply transformations to dataset records."
   ]
  },
  {
   "cell_type": "code",
   "execution_count": 12,
   "metadata": {
    "hidden": true
   },
   "outputs": [],
   "source": [
    "ds_tensors = ds_tensors.map(tf.square).shuffle(2).batch(2)\n",
    "\n",
    "ds_file = ds_file.batch(2)"
   ]
  },
  {
   "cell_type": "markdown",
   "metadata": {
    "heading_collapsed": true,
    "hidden": true
   },
   "source": [
    "###### Iterate\n",
    "\n",
    "`tf.data.Dataset` objects support iteration to loop over records:"
   ]
  },
  {
   "cell_type": "code",
   "execution_count": null,
   "metadata": {
    "hidden": true
   },
   "outputs": [],
   "source": [
    "print('Elements of ds_tensors:')\n",
    "for x in ds_tensors:\n",
    "    print(x)\n",
    "\n",
    "print('\\nElements in ds_file:')\n",
    "for x in ds_file:\n",
    "    print(x)"
   ]
  },
  {
   "cell_type": "markdown",
   "metadata": {
    "heading_collapsed": true
   },
   "source": [
    "# Customization "
   ]
  },
  {
   "cell_type": "markdown",
   "metadata": {
    "heading_collapsed": true,
    "hidden": true
   },
   "source": [
    "### Custom Model + Layers (keras)"
   ]
  },
  {
   "cell_type": "markdown",
   "metadata": {
    "heading_collapsed": true,
    "hidden": true
   },
   "source": [
    "###### Pre-built layers "
   ]
  },
  {
   "cell_type": "markdown",
   "metadata": {
    "hidden": true
   },
   "source": [
    "* Most of the time when writing code for machine learning models you want to operate at a higher level of abstraction than individual operations and manipulation of individual variables.\n",
    "\n",
    "* Many machine learning models are expressible as the composition and stacking of relatively simple layers, and TensorFlow provides both a set of many common layers as a well as easy ways for you to write your own application-specific layers either from scratch or as the composition of existing layers.\n",
    "\n",
    "* TensorFlow includes the full Keras API in the tf.keras package, and the Keras layers are very useful when building your own models.\n",
    "\n",
    "* Pre-existing layers can be seen in [the documentation](https://www.tensorflow.org/api_docs/python/tf/keras/layers)"
   ]
  },
  {
   "cell_type": "code",
   "execution_count": 71,
   "metadata": {
    "hidden": true
   },
   "outputs": [],
   "source": [
    "#Pre-existing layers\n",
    "\n",
    "# In the tf.keras.layers package, layers are objects. To construct a layer,\n",
    "# simply construct the object. Most layers take as a first argument the number\n",
    "# of output dimensions / channels.\n",
    "layer = tf.keras.layers.Dense(100)\n",
    "\n",
    "# The number of input dimensions is often unnecessary, as it can be inferred\n",
    "# the first time the layer is used, but it can be provided if you want to\n",
    "# specify it manually, which is useful in some complex models.\n",
    "layer = tf.keras.layers.Dense(10, input_shape=(None, 5))"
   ]
  },
  {
   "cell_type": "code",
   "execution_count": null,
   "metadata": {
    "hidden": true
   },
   "outputs": [],
   "source": [
    "#Calling a layer\n",
    "#    -layer input tensor has to have column 5\n",
    "#    -When tensor of size (10, 5), which same as 10 lists with columns of 5, is inputted to layer that takes \n",
    "#     input of column 5 and outputs 10 column, the outcome is 10 lists with 10 columns: \n",
    "#    -Input (10x5) X Layer (5x10)\n",
    "layer(tf.zeros([10, 5]))"
   ]
  },
  {
   "cell_type": "code",
   "execution_count": null,
   "metadata": {
    "hidden": true
   },
   "outputs": [],
   "source": [
    "#Insoect layer\n",
    "#    -The layer has dimention (5x10) as declared above\n",
    "print(layer.variables)\n",
    "print(\"#=================================================================================\")\n",
    "print(layer.trainable_variables)\n",
    "print(\"#=================================================================================\")\n",
    "print(layer.kernel)\n",
    "print(\"#=================================================================================\")\n",
    "print(layer.bias)"
   ]
  },
  {
   "cell_type": "markdown",
   "metadata": {
    "heading_collapsed": true,
    "hidden": true
   },
   "source": [
    "###### Custom-built Layers "
   ]
  },
  {
   "cell_type": "markdown",
   "metadata": {
    "hidden": true
   },
   "source": [
    "* `__init__` , where you can do all input-independent initialization\n",
    "* `build`, where you know the shapes of the input tensors and can do the rest of the initialization\n",
    "* `call`, where you do the forward computation"
   ]
  },
  {
   "cell_type": "code",
   "execution_count": 7,
   "metadata": {
    "hidden": true
   },
   "outputs": [],
   "source": [
    "class MyDenseLayer(tf.keras.layers.Layer):\n",
    "    def __init__(self, num_outputs):\n",
    "        #Inherits __init__ function of super class\n",
    "        #    -argument \"MyDenseLayer\" in super() refers to the subclass\n",
    "        #    -argument \"self\" in super() refers to a subclass's object\n",
    "        super(MyDenseLayer, self).__init__()\n",
    "        self.num_outputs = num_outputs\n",
    "        \n",
    "    #build (func from super class) is called when called once from `__call__`,\n",
    "    #    -when we know the shapes of inputs and `dtype`\n",
    "    def build(self, input_shape):\n",
    "        self.kernel = self.add_variable(\"kernel\", shape=[int(input_shape[-1]), self.num_outputs])\n",
    "        \n",
    "    #Call(func from super class) is called  in `__call__` after making sure `build()` has been called once. \n",
    "    #    -Should actually perform the logic of applying the layer to the input tensors\n",
    "    #    -inputs = Input tensor\n",
    "    #    -return = a tensor or list/tuple of tensors\n",
    "    #    -if no routine is written, if does the routine written on superclass's call() function,\n",
    "    #     which is just to return the input passed on the the function.\n",
    "    #    -kernel is the actual weights...?\n",
    "    def call(self, input):\n",
    "        return tf.matmul(input, self.kernel)"
   ]
  },
  {
   "cell_type": "code",
   "execution_count": 8,
   "metadata": {
    "hidden": true
   },
   "outputs": [],
   "source": [
    "#Creating an object called __init__()\n",
    "#    -10 number of outputs\n",
    "layer = MyDenseLayer(10)"
   ]
  },
  {
   "cell_type": "code",
   "execution_count": 9,
   "metadata": {
    "hidden": true
   },
   "outputs": [],
   "source": [
    "#Calling layer called __call__, which calls \"build()\" the layer object inside details\n",
    "#    -the object \"_\" defined below is just a tensor\n",
    "#    -Before making '_' tensor by  __call__() (which calls build()), \"layer\" object is empty\n",
    "_ = layer(tf.zeros([10, 5]))"
   ]
  },
  {
   "cell_type": "code",
   "execution_count": 11,
   "metadata": {
    "collapsed": true,
    "hidden": true
   },
   "outputs": [
    {
     "name": "stdout",
     "output_type": "stream",
     "text": [
      "[<tf.Variable 'my_dense_layer_1/kernel:0' shape=(5, 10) dtype=float32, numpy=\n",
      "array([[-0.5852412 ,  0.6098084 , -0.5718751 ,  0.52079135,  0.40893728,\n",
      "        -0.32012942,  0.0802111 , -0.56880987,  0.06239492,  0.15014046],\n",
      "       [-0.19450247, -0.08402997, -0.29584062,  0.6059447 , -0.00548619,\n",
      "         0.17737627, -0.2834943 , -0.11874539, -0.24548414,  0.08201844],\n",
      "       [ 0.6115461 ,  0.41331226,  0.15088445,  0.12661946, -0.55213135,\n",
      "         0.4099663 ,  0.12544286,  0.23846292, -0.15586576,  0.04623997],\n",
      "       [ 0.21874076, -0.07823437,  0.48416477,  0.4394228 ,  0.39311248,\n",
      "         0.5579372 ,  0.1471203 , -0.03963506, -0.4261588 , -0.19645113],\n",
      "       [ 0.36150265, -0.51866144, -0.0579831 ,  0.35884982, -0.47525755,\n",
      "         0.3813712 ,  0.33277172, -0.03003281, -0.44874728, -0.37177214]],\n",
      "      dtype=float32)>]\n",
      "#=================================================================================\n",
      "[<tf.Variable 'my_dense_layer_1/kernel:0' shape=(5, 10) dtype=float32, numpy=\n",
      "array([[-0.5852412 ,  0.6098084 , -0.5718751 ,  0.52079135,  0.40893728,\n",
      "        -0.32012942,  0.0802111 , -0.56880987,  0.06239492,  0.15014046],\n",
      "       [-0.19450247, -0.08402997, -0.29584062,  0.6059447 , -0.00548619,\n",
      "         0.17737627, -0.2834943 , -0.11874539, -0.24548414,  0.08201844],\n",
      "       [ 0.6115461 ,  0.41331226,  0.15088445,  0.12661946, -0.55213135,\n",
      "         0.4099663 ,  0.12544286,  0.23846292, -0.15586576,  0.04623997],\n",
      "       [ 0.21874076, -0.07823437,  0.48416477,  0.4394228 ,  0.39311248,\n",
      "         0.5579372 ,  0.1471203 , -0.03963506, -0.4261588 , -0.19645113],\n",
      "       [ 0.36150265, -0.51866144, -0.0579831 ,  0.35884982, -0.47525755,\n",
      "         0.3813712 ,  0.33277172, -0.03003281, -0.44874728, -0.37177214]],\n",
      "      dtype=float32)>]\n",
      "#=================================================================================\n",
      "<tf.Variable 'my_dense_layer_1/kernel:0' shape=(5, 10) dtype=float32, numpy=\n",
      "array([[-0.5852412 ,  0.6098084 , -0.5718751 ,  0.52079135,  0.40893728,\n",
      "        -0.32012942,  0.0802111 , -0.56880987,  0.06239492,  0.15014046],\n",
      "       [-0.19450247, -0.08402997, -0.29584062,  0.6059447 , -0.00548619,\n",
      "         0.17737627, -0.2834943 , -0.11874539, -0.24548414,  0.08201844],\n",
      "       [ 0.6115461 ,  0.41331226,  0.15088445,  0.12661946, -0.55213135,\n",
      "         0.4099663 ,  0.12544286,  0.23846292, -0.15586576,  0.04623997],\n",
      "       [ 0.21874076, -0.07823437,  0.48416477,  0.4394228 ,  0.39311248,\n",
      "         0.5579372 ,  0.1471203 , -0.03963506, -0.4261588 , -0.19645113],\n",
      "       [ 0.36150265, -0.51866144, -0.0579831 ,  0.35884982, -0.47525755,\n",
      "         0.3813712 ,  0.33277172, -0.03003281, -0.44874728, -0.37177214]],\n",
      "      dtype=float32)>\n",
      "#=================================================================================\n"
     ]
    }
   ],
   "source": [
    "#Inspect layer\n",
    "print(layer.variables)\n",
    "print(\"#=================================================================================\")\n",
    "print(layer.trainable_variables)\n",
    "print(\"#=================================================================================\")\n",
    "print(layer.kernel)\n",
    "print(\"#=================================================================================\")\n",
    "# print(layer.bias)"
   ]
  },
  {
   "cell_type": "code",
   "execution_count": 12,
   "metadata": {
    "hidden": true
   },
   "outputs": [
    {
     "name": "stdout",
     "output_type": "stream",
     "text": [
      "['my_dense_layer_1/kernel:0']\n"
     ]
    }
   ],
   "source": [
    "#Inspect Names of variables\n",
    "print([var.name for var in layer.trainable_variables])"
   ]
  },
  {
   "cell_type": "markdown",
   "metadata": {
    "heading_collapsed": true,
    "hidden": true
   },
   "source": [
    "###### Build Model: composing layers "
   ]
  },
  {
   "cell_type": "markdown",
   "metadata": {
    "hidden": true
   },
   "source": [
    "* Composing different pre-defined layers:\n",
    "    * For ex, each residual bloack in a resnet is a composition of convolutions, batch normalizations, and a shortcut, which can be nested inside other layers."
   ]
  },
  {
   "cell_type": "markdown",
   "metadata": {
    "hidden": true
   },
   "source": [
    "* Inherit from `keras.Model` the tools such as `Model.fit`, `Model.evaluate`, `Model.save`, and etc.\n",
    "* `keras.Model` also tracks `internal layers` making it easier to inspect."
   ]
  },
  {
   "cell_type": "code",
   "execution_count": 3,
   "metadata": {
    "code_folding": [],
    "hidden": true
   },
   "outputs": [],
   "source": [
    "#Example of Residual neural network (skipping specific layers at training)\n",
    "class ResnetIdentityBlock(tf.keras.Model):\n",
    "    def __init__(self, kernel_size, filters):\n",
    "        \n",
    "        #tf.keras.Model inherits network.Network\n",
    "        super(ResnetIdentityBlock, self).__init__(name=\"\")\n",
    "        filters1, filters2, filters3 = filters\n",
    "        \n",
    "        #2 dimensional convolution\n",
    "        #    -filter = dimensionality of the output space: # of output filters in convolution\n",
    "        #    -kernel_size = specifying the height and width of the 2D convolution window\n",
    "        #Object's attribute is also an object: self.conv2a is a Conv2D object\n",
    "        self.conv2a = tf.keras.layers.Conv2D(filters1, (1, 1))\n",
    "        \n",
    "        #Normalize and scale inputs or activation\n",
    "        #    -Normalize the activations of the previous layer at each batch,\n",
    "        #     i.e. applies a transformation that maintains the mean activation \n",
    "        #     close to 0 and the activation standard deviation close to 1.s\n",
    "        self.bn2a   = tf.keras.layers.BatchNormalization()\n",
    "        \n",
    "        #Padding = put zeros on outer layer of the 2d convonlution window\n",
    "        #    -\"same\" argument puts zeros so that height and wiegh are preserved\n",
    "        self.conv2b = tf.keras.layers.Conv2D(filters2, kernel_size, padding=\"same\")\n",
    "        self.bn2b   = tf.keras.layers.BatchNormalization()\n",
    "        \n",
    "        #Third layer\n",
    "        self.conv2c = tf.keras.layers.Conv2D(filters3, (1, 1))\n",
    "        self.bn2c   = tf.keras.layers.BatchNormalization()\n",
    "\n",
    "    #call() defined in network.Network which is a superclass of tf.keras.Model\n",
    "    #    -calls the model on new inputs\n",
    "    def call(self, input_tensor, training=False):\n",
    "        \n",
    "        #First layer (Conv2D object) to receive the input tensor\n",
    "        x = self.conv2a(input_tensor)\n",
    "        #From normalization.py, traing=False when performing inference by using accumulated \n",
    "        #statistics instead of mini-batch  statistics. \n",
    "        x = self.bn2a(x, training=training)\n",
    "        #rectificed linear unit\n",
    "        x = tf.nn.relu(x)\n",
    "        \n",
    "        #Second 2D convolutional layer\n",
    "        x = self.conv2b(x)\n",
    "        x = self.bn2b(x, training=training)\n",
    "        x = tf.nn.relu(x)\n",
    "\n",
    "        #Third layer\n",
    "        x = self.conv2c(x)\n",
    "        x = self.bn2c(x,training=training)\n",
    "        \n",
    "        #Add the changed part \"x\" to the initial unchanged input...?? why??\n",
    "        x = x + input_tensor\n",
    "        x = tf.nn.relu(x)\n",
    "        \n",
    "        return x        "
   ]
  },
  {
   "cell_type": "code",
   "execution_count": 44,
   "metadata": {
    "hidden": true
   },
   "outputs": [
    {
     "data": {
      "text/plain": [
       "<__main__.ResnetIdentityBlock at 0x7fd826ae0b38>"
      ]
     },
     "execution_count": 44,
     "metadata": {},
     "output_type": "execute_result"
    }
   ],
   "source": [
    "#Create the block object\n",
    "block = ResnetIdentityBlock(1, [1, 2, 3])\n",
    "block"
   ]
  },
  {
   "cell_type": "code",
   "execution_count": 102,
   "metadata": {
    "hidden": true
   },
   "outputs": [],
   "source": [
    "#Call block -> builds \n",
    "#    -Build the model first by calling `build()` or calling `fit()` with some data, or \n",
    "#    -specify an `input_shape` argument in the first layer(s) for automatic build\n",
    "_ = block(tf.zeros([1, 2, 3, 3]))"
   ]
  },
  {
   "cell_type": "markdown",
   "metadata": {
    "heading_collapsed": true,
    "hidden": true
   },
   "source": [
    "###### Insepcting Model + Layers "
   ]
  },
  {
   "cell_type": "code",
   "execution_count": 107,
   "metadata": {
    "collapsed": true,
    "hidden": true
   },
   "outputs": [
    {
     "name": "stdout",
     "output_type": "stream",
     "text": [
      "Model: \"resnet_identity_block_8\"\n",
      "_________________________________________________________________\n",
      "Layer (type)                 Output Shape              Param #   \n",
      "=================================================================\n",
      "conv2d_27 (Conv2D)           multiple                  4         \n",
      "_________________________________________________________________\n",
      "batch_normalization_27 (Batc multiple                  4         \n",
      "_________________________________________________________________\n",
      "conv2d_28 (Conv2D)           multiple                  4         \n",
      "_________________________________________________________________\n",
      "batch_normalization_28 (Batc multiple                  8         \n",
      "_________________________________________________________________\n",
      "conv2d_29 (Conv2D)           multiple                  9         \n",
      "_________________________________________________________________\n",
      "batch_normalization_29 (Batc multiple                  12        \n",
      "=================================================================\n",
      "Total params: 41\n",
      "Trainable params: 29\n",
      "Non-trainable params: 12\n",
      "_________________________________________________________________\n"
     ]
    }
   ],
   "source": [
    "block.summary()"
   ]
  },
  {
   "cell_type": "code",
   "execution_count": 112,
   "metadata": {
    "collapsed": true,
    "hidden": true
   },
   "outputs": [
    {
     "data": {
      "text/plain": [
       "[<tensorflow.python.keras.layers.convolutional.Conv2D at 0x7fd826ae0a58>,\n",
       " <tensorflow.python.keras.layers.normalization_v2.BatchNormalization at 0x7fd826ae0d30>,\n",
       " <tensorflow.python.keras.layers.convolutional.Conv2D at 0x7fd82686af28>,\n",
       " <tensorflow.python.keras.layers.normalization_v2.BatchNormalization at 0x7fd82686aba8>,\n",
       " <tensorflow.python.keras.layers.convolutional.Conv2D at 0x7fd82686a5f8>,\n",
       " <tensorflow.python.keras.layers.normalization_v2.BatchNormalization at 0x7fd82686a1d0>]"
      ]
     },
     "execution_count": 112,
     "metadata": {},
     "output_type": "execute_result"
    }
   ],
   "source": [
    "block.layers"
   ]
  },
  {
   "cell_type": "code",
   "execution_count": 130,
   "metadata": {
    "code_folding": [
     0
    ],
    "collapsed": true,
    "hidden": true
   },
   "outputs": [
    {
     "name": "stdout",
     "output_type": "stream",
     "text": [
      "#=======================================================================================\n",
      "KERNEL\n",
      "<tf.Variable 'resnet_identity_block_8/conv2d_27/kernel:0' shape=(1, 1, 3, 1) dtype=float32, numpy=\n",
      "array([[[[ 1.1621989 ],\n",
      "         [ 0.43201625],\n",
      "         [-0.48580772]]]], dtype=float32)>\n",
      "#=======================================================================================\n",
      "BIAS\n",
      "<tf.Variable 'resnet_identity_block_8/conv2d_27/bias:0' shape=(1,) dtype=float32, numpy=array([0.], dtype=float32)>\n",
      "#=======================================================================================\n",
      "VARIABLES\n",
      "[<tf.Variable 'resnet_identity_block_8/conv2d_27/kernel:0' shape=(1, 1, 3, 1) dtype=float32, numpy=\n",
      "array([[[[ 1.1621989 ],\n",
      "         [ 0.43201625],\n",
      "         [-0.48580772]]]], dtype=float32)>, <tf.Variable 'resnet_identity_block_8/conv2d_27/bias:0' shape=(1,) dtype=float32, numpy=array([0.], dtype=float32)>]\n",
      "#=======================================================================================\n",
      "TRAINABLE VARIABLES\n",
      "[<tf.Variable 'resnet_identity_block_8/conv2d_27/kernel:0' shape=(1, 1, 3, 1) dtype=float32, numpy=\n",
      "array([[[[ 1.1621989 ],\n",
      "         [ 0.43201625],\n",
      "         [-0.48580772]]]], dtype=float32)>, <tf.Variable 'resnet_identity_block_8/conv2d_27/bias:0' shape=(1,) dtype=float32, numpy=array([0.], dtype=float32)>]\n",
      "#=======================================================================================\n"
     ]
    }
   ],
   "source": [
    "#First layer (Conv2D)'s details\n",
    "print(\"#=======================================================================================\")\n",
    "print(\"KERNEL\")\n",
    "print(block.layers[0].kernel)\n",
    "print(\"#=======================================================================================\")\n",
    "print(\"BIAS\")\n",
    "print(block.layers[0].bias)\n",
    "print(\"#=======================================================================================\")\n",
    "print(\"VARIABLES\")\n",
    "print(block.layers[0].variables)\n",
    "print(\"#=======================================================================================\")\n",
    "print(\"TRAINABLE VARIABLES\")\n",
    "print(block.layers[0].trainable_variables)\n",
    "print(\"#=======================================================================================\")"
   ]
  },
  {
   "cell_type": "code",
   "execution_count": null,
   "metadata": {
    "hidden": true
   },
   "outputs": [],
   "source": [
    "print(len(block.variables))\n",
    "print(len(block.trainable_variables))"
   ]
  },
  {
   "cell_type": "markdown",
   "metadata": {
    "heading_collapsed": true,
    "hidden": true
   },
   "source": [
    "###### Build Model: keras.Sequential (SHORTCUT) "
   ]
  },
  {
   "cell_type": "code",
   "execution_count": null,
   "metadata": {
    "hidden": true
   },
   "outputs": [],
   "source": [
    "my_seq = tf.keras.Sequential([tf.keras.layers.Conv2D(1, (1, 1),\n",
    "                                                    input_shape=(\n",
    "                                                        None, None, 3)),\n",
    "                             tf.keras.layers.BatchNormalization(),\n",
    "                             tf.keras.layers.Conv2D(2, 1,\n",
    "                                                    padding='same'),\n",
    "                             tf.keras.layers.BatchNormalization(),\n",
    "                             tf.keras.layers.Conv2D(3, (1, 1)),\n",
    "                             tf.keras.layers.BatchNormalization()])\n",
    "my_seq(tf.zeros([1, 2, 3, 3]))"
   ]
  },
  {
   "cell_type": "code",
   "execution_count": null,
   "metadata": {
    "hidden": true
   },
   "outputs": [],
   "source": [
    "my_seq.summary()"
   ]
  },
  {
   "cell_type": "markdown",
   "metadata": {
    "heading_collapsed": true,
    "hidden": true
   },
   "source": [
    "### Automatic differentiation: tf.GradientTape (Optimizer Part)"
   ]
  },
  {
   "cell_type": "markdown",
   "metadata": {
    "hidden": true
   },
   "source": [
    "* `tf.GradientTape` API is built for automatic differentiation, computing the gradient of a computation with respect to its input variables.\n",
    "    * Tensorflow records all operations executed inside the context of a `tf.GradientTape` onto a \"tape. \n",
    "    * Tensorflow then uses that \"tape\" and the gradients associated with each recorded operation to compute the gradients of a \"recorded\" computation using `reverse mode differentiation`."
   ]
  },
  {
   "cell_type": "markdown",
   "metadata": {
    "heading_collapsed": true,
    "hidden": true
   },
   "source": [
    "###### tf.GradientTape() "
   ]
  },
  {
   "cell_type": "code",
   "execution_count": 40,
   "metadata": {
    "hidden": true
   },
   "outputs": [],
   "source": [
    "#GradientTape() Ex:\n",
    "x = tf.ones([2, 2])\n",
    "\n",
    "with tf.GradientTape() as t:\n",
    "    #Watch operations done on tensor x\n",
    "    t.watch(x)\n",
    "    \n",
    "    y = tf.reduce_sum(x)\n",
    "    z = tf.multiply(y, y)\n",
    "    \n",
    "#Derivative of z wrt x\n",
    "dz_dx = t.gradient(z, x)\n",
    "for i in [0, 1]:\n",
    "    for j in [0, 1]:\n",
    "        #Make sure dz/dx matrice's element are all 8.0\n",
    "        assert dz_dx[i][j].numpy() == 8.0\n",
    "    "
   ]
  },
  {
   "cell_type": "code",
   "execution_count": null,
   "metadata": {
    "hidden": true
   },
   "outputs": [],
   "source": [
    "x = tf.constant(3.0)\n",
    "\n",
    "#persistent=True lets you compute gradient more than once\n",
    "with tf.GradientTape(persistent=True) as t:\n",
    "    t.watch(x)\n",
    "    y = x * x\n",
    "    z = y * y\n",
    "\n",
    "dz_dx = t.gradient(z, x)  # 108.0 (4*x^3 at x = 3)\n",
    "dy_dx = t.gradient(y, x)  # 6.0\n",
    "\n",
    "print(dz_dx)\n",
    "print(dy_dx)\n",
    "\n",
    "\n",
    "#Drop the reference to the tape\n",
    "# del t"
   ]
  },
  {
   "cell_type": "markdown",
   "metadata": {
    "heading_collapsed": true,
    "hidden": true
   },
   "source": [
    "###### Recording Contol Flow "
   ]
  },
  {
   "cell_type": "markdown",
   "metadata": {
    "hidden": true
   },
   "source": [
    "* Because tapes record operations as they are executed, Python control flow (using ifs and whiles for example) is naturally handled:"
   ]
  },
  {
   "cell_type": "code",
   "execution_count": 99,
   "metadata": {
    "hidden": true
   },
   "outputs": [],
   "source": [
    "def f(x, y):\n",
    "    output = 1.0\n",
    "    for i in range(y):\n",
    "        if i > 1 and i < 5:\n",
    "            output = tf.multiply(output, x)\n",
    "    return output\n",
    "\n",
    "def grad(x, y):\n",
    "    with tf.GradientTape() as t:\n",
    "        t.watch(x)\n",
    "        out = f(x, y)\n",
    "    return t.gradient(out, x)\n",
    "\n",
    "x = tf.convert_to_tensor(2.0)\n",
    "\n",
    "assert grad(x, 6).numpy() == 12.0\n",
    "assert grad(x, 5).numpy() == 12.0\n",
    "assert grad(x, 4).numpy() == 4.0"
   ]
  },
  {
   "cell_type": "markdown",
   "metadata": {
    "heading_collapsed": true,
    "hidden": true
   },
   "source": [
    "###### Higer-order gradients"
   ]
  },
  {
   "cell_type": "markdown",
   "metadata": {
    "hidden": true
   },
   "source": [
    "* Operations inside of the GradientTape context manager are recorded for automatic differentiation. \n",
    "* If gradients are computed in that context, then the gradient computation is recorded as well. \n",
    "* As a result, the exact same API works for higher-order gradients as well. For example:"
   ]
  },
  {
   "cell_type": "code",
   "execution_count": 62,
   "metadata": {
    "hidden": true
   },
   "outputs": [
    {
     "name": "stdout",
     "output_type": "stream",
     "text": [
      "tf.Tensor(1.0, shape=(), dtype=float32) haha\n",
      "3.0\n",
      "6.0\n",
      "()\n",
      "()\n"
     ]
    }
   ],
   "source": [
    "x = tf.constant(1.0)\n",
    "# x = tf.Variable(1.0)\n",
    "\n",
    "with tf.GradientTape() as t:\n",
    "    t.watch(x)\n",
    "    \n",
    "    with tf.GradientTape() as t2:\n",
    "        t2.watch(x)\n",
    "        y = x * x * x\n",
    "    # Compute the gradient inside the 't' context manager\n",
    "    # which means the gradient computation is differentiable as well.\n",
    "    dy_dx = t2.gradient(y, x)\n",
    "d2y_dx2 = t.gradient(dy_dx, x)\n",
    "\n",
    "print(dy_dx.numpy())\n",
    "print(d2y_dx2.numpy())\n",
    "\n",
    "print(t2.watched_variables())\n",
    "print(t.watched_variables())"
   ]
  },
  {
   "cell_type": "markdown",
   "metadata": {
    "heading_collapsed": true,
    "hidden": true
   },
   "source": [
    "### Custom training: Regression (LLapi)"
   ]
  },
  {
   "cell_type": "markdown",
   "metadata": {
    "hidden": true
   },
   "source": [
    "* Let's use the concepts you have learned so far—Tensor, Variable, and GradientTape—to build and train a simple model. This typically involves a few steps:\n",
    "    * Define the model\n",
    "    * Define a loss function\n",
    "    * Obtain training data\n",
    "    * Run through the training data and use \"optimizer\" to adjust\n",
    "    \n",
    "* Here, you'll create a simple linear model, f(x) = x * W + b, which has two variables: W (weights) and b (bias). You'll synthesize data such that a well trained model would have W = 3.0 and b = 2.0."
   ]
  },
  {
   "cell_type": "markdown",
   "metadata": {
    "heading_collapsed": true,
    "hidden": true
   },
   "source": [
    "###### Data "
   ]
  },
  {
   "cell_type": "code",
   "execution_count": 88,
   "metadata": {
    "hidden": true
   },
   "outputs": [],
   "source": [
    "TRUE_W       = 3.0\n",
    "TRUE_b       = 2.0\n",
    "NUM_EXAMPLES = 1000\n",
    "\n",
    "inputs  = tf.random.normal(shape=[NUM_EXAMPLES])\n",
    "noise   = tf.random.normal(shape=[NUM_EXAMPLES])\n",
    "outputs = inputs * TRUE_W + TRUE_b + noise "
   ]
  },
  {
   "cell_type": "markdown",
   "metadata": {
    "heading_collapsed": true,
    "hidden": true
   },
   "source": [
    "###### Define the model "
   ]
  },
  {
   "cell_type": "code",
   "execution_count": 89,
   "metadata": {
    "hidden": true
   },
   "outputs": [],
   "source": [
    "class MyModel(object):\n",
    "    def __init__(self):\n",
    "        self.W = tf.Variable(5.0)\n",
    "        self.b = tf.Variable(0.0)\n",
    "        \n",
    "    def __call__(self, x):\n",
    "        return self.W * x + self.b"
   ]
  },
  {
   "cell_type": "code",
   "execution_count": 75,
   "metadata": {
    "hidden": true
   },
   "outputs": [
    {
     "data": {
      "text/plain": [
       "15.0"
      ]
     },
     "execution_count": 75,
     "metadata": {},
     "output_type": "execute_result"
    }
   ],
   "source": [
    "#Create model\n",
    "model = MyModel()\n",
    "\n",
    "#Call model\n",
    "model(3.0).numpy()"
   ]
  },
  {
   "cell_type": "markdown",
   "metadata": {
    "heading_collapsed": true,
    "hidden": true
   },
   "source": [
    "###### Define a Loss function "
   ]
  },
  {
   "cell_type": "code",
   "execution_count": 90,
   "metadata": {
    "hidden": true
   },
   "outputs": [],
   "source": [
    "def loss(predicted_y, target_y):\n",
    "    least_square_error = tf.square(predicted_y - target_y)\n",
    "    return tf.reduce_mean(least_square_error)"
   ]
  },
  {
   "cell_type": "markdown",
   "metadata": {
    "heading_collapsed": true,
    "hidden": true
   },
   "source": [
    "###### Define a training loop "
   ]
  },
  {
   "cell_type": "markdown",
   "metadata": {
    "hidden": true
   },
   "source": [
    "With the network and training data, train the model using gradient descent to update the weights variable (W) and the bias variable (b) to reduce the loss. \n",
    "* There are many variants of the gradient descent scheme that are captured in tf.train.Optimizer—our recommended implementation.\n",
    "* But in the spirit of building from first principles, here you will implement the basic math yourself with the help of `tf.GradientTape` for automatic differentiation and `tf.assign_sub` for decrementing a value (which combines tf.assign and tf.sub):"
   ]
  },
  {
   "cell_type": "code",
   "execution_count": 91,
   "metadata": {
    "hidden": true
   },
   "outputs": [],
   "source": [
    "def train(model, inputs, true_val, learning_rate):\n",
    "    with tf.GradientTape() as t:\n",
    "        #watch inputs and true_val\n",
    "        t.watch([model.W, model.b])\n",
    "        \n",
    "        #compute loss\n",
    "        current_loss = loss(model(inputs), true_val)\n",
    "        \n",
    "        \n",
    "    #Take gradient of \"current_loss\" WRT the input W and b\n",
    "    dL_dW, dL_db = t.gradient(current_loss, [model.W, model.b])\n",
    "    \n",
    "    #W := W - (step * gradient_W) and b := b - (step * gradient_b)\n",
    "    model.W.assign_sub(learning_rate * dL_dW)\n",
    "    model.b.assign_sub(learning_rate * dL_db)    "
   ]
  },
  {
   "cell_type": "code",
   "execution_count": 92,
   "metadata": {
    "hidden": true
   },
   "outputs": [
    {
     "name": "stdout",
     "output_type": "stream",
     "text": [
      "Epoch =  0 \t W = 5.00 \t b = 0.00 \t loss = 9.20415\n",
      "Epoch =  1 \t W = 4.56 \t b = 0.39 \t loss = 6.13901\n",
      "Epoch =  2 \t W = 4.22 \t b = 0.70 \t loss = 4.21437\n",
      "Epoch =  3 \t W = 3.95 \t b = 0.95 \t loss = 3.00528\n",
      "Epoch =  4 \t W = 3.74 \t b = 1.15 \t loss = 2.24533\n",
      "Epoch =  5 \t W = 3.58 \t b = 1.31 \t loss = 1.76746\n",
      "Epoch =  6 \t W = 3.45 \t b = 1.44 \t loss = 1.46681\n",
      "Epoch =  7 \t W = 3.34 \t b = 1.55 \t loss = 1.27758\n",
      "Epoch =  8 \t W = 3.26 \t b = 1.63 \t loss = 1.15841\n",
      "Epoch =  9 \t W = 3.20 \t b = 1.70 \t loss = 1.08333\n"
     ]
    }
   ],
   "source": [
    "#Store W and b for inspection\n",
    "Ws, bs = [], []\n",
    "\n",
    "#Train the model n times (epochs)\n",
    "epochs_num = 10\n",
    "\n",
    "#Create Model\n",
    "model = MyModel()\n",
    "\n",
    "for epoch in range(epochs_num):\n",
    "    #Store W and b for inspection\n",
    "    Ws.append(model.W.numpy())\n",
    "    bs.append(model.b.numpy())\n",
    "    \n",
    "    #Compute loss at each epochs\n",
    "    current_loss = loss(model(inputs), outputs)\n",
    "    \n",
    "    #Train at each epochs\n",
    "    train(model, inputs, outputs, learning_rate=0.1)\n",
    "    \n",
    "    #Print status\n",
    "    print(\"Epoch = {:2d} \\t W = {:2.2f} \\t b = {:2.2f} \\t loss = {:2.5f}\".format(epoch, Ws[-1], \\\n",
    "                                                                                 bs[-1], \\\n",
    "                                                                                 current_loss))"
   ]
  },
  {
   "cell_type": "code",
   "execution_count": 109,
   "metadata": {
    "hidden": true
   },
   "outputs": [
    {
     "name": "stderr",
     "output_type": "stream",
     "text": [
      "/home/chan/.local/lib/python3.6/site-packages/ipykernel_launcher.py:13: MatplotlibDeprecationWarning: Adding an axes using the same arguments as a previous axes currently reuses the earlier instance.  In a future version, a new instance will always be created and returned.  Meanwhile, this warning can be suppressed, and the future behavior ensured, by passing a unique label to each axes instance.\n",
      "  del sys.path[0]\n",
      "/home/chan/.local/lib/python3.6/site-packages/ipykernel_launcher.py:14: MatplotlibDeprecationWarning: Adding an axes using the same arguments as a previous axes currently reuses the earlier instance.  In a future version, a new instance will always be created and returned.  Meanwhile, this warning can be suppressed, and the future behavior ensured, by passing a unique label to each axes instance.\n",
      "  \n"
     ]
    },
    {
     "data": {
      "image/png": "[encoded data removed]",
      "text/plain": [
       "<Figure size 640x480 with 1 Axes>"
      ]
     },
     "metadata": {},
     "output_type": "display_data"
    }
   ],
   "source": [
    "#Plot Raw Data + Prediction\n",
    "raw_data = plt.figure()\n",
    "\n",
    "#Create model for before training\n",
    "model_before_train = MyModel()\n",
    "\n",
    "plt.scatter(inputs, outputs, color=\"#4C72B0\", s=0.5, label=\"Raw data with random noise\")\n",
    "plt.scatter(inputs, model(inputs), color='#C44E52', s=0.5, label=\"Predicted after training\")\n",
    "plt.scatter(inputs, model_before_train(inputs), color='#55A868', s=0.5, label=\"Predicted before training\")\n",
    "\n",
    "\n",
    "#Grids\n",
    "plt.axes().xaxis.set_minor_locator(mpl.ticker.AutoMinorLocator(5))\n",
    "plt.axes().yaxis.set_minor_locator(mpl.ticker.AutoMinorLocator(5))\n",
    "plt.grid(b=True, which=\"major\", color=\"gray\", linewidth=1.0, linestyle=\"--\")\n",
    "plt.grid(b=True, which=\"minor\", color=\"gray\", linewidth=0.5, linestyle=\"--\")\n",
    "\n",
    "#Legends, axis labels\n",
    "plt.legend()\n",
    "plt.xlabel(\"X\")\n",
    "plt.ylabel(\"Y\", rotation=0)\n",
    "\n",
    "#Texts\n",
    "plt.text(0.03, 0.7, \"Current Loss Score {:>10.3f}\" \\\n",
    "         .format(loss(model(inputs), outputs).numpy()), \\\n",
    "         fontsize=10, bbox=dict(facecolor='none', pad=4.0), transform=plt.gca().transAxes)\n",
    "\n",
    "plt.show()\n",
    "# raw_data.savefig(\"./rawdata\")"
   ]
  },
  {
   "cell_type": "code",
   "execution_count": 110,
   "metadata": {
    "hidden": true
   },
   "outputs": [
    {
     "name": "stderr",
     "output_type": "stream",
     "text": [
      "/home/chan/.local/lib/python3.6/site-packages/ipykernel_launcher.py:8: MatplotlibDeprecationWarning: Adding an axes using the same arguments as a previous axes currently reuses the earlier instance.  In a future version, a new instance will always be created and returned.  Meanwhile, this warning can be suppressed, and the future behavior ensured, by passing a unique label to each axes instance.\n",
      "  \n",
      "/home/chan/.local/lib/python3.6/site-packages/ipykernel_launcher.py:9: MatplotlibDeprecationWarning: Adding an axes using the same arguments as a previous axes currently reuses the earlier instance.  In a future version, a new instance will always be created and returned.  Meanwhile, this warning can be suppressed, and the future behavior ensured, by passing a unique label to each axes instance.\n",
      "  if __name__ == '__main__':\n"
     ]
    },
    {
     "data": {
      "image/png": "[encoded data removed]",
      "text/plain": [
       "<Figure size 640x480 with 1 Axes>"
      ]
     },
     "metadata": {},
     "output_type": "display_data"
    }
   ],
   "source": [
    "#Plot efficiency of training\n",
    "plt.plot(range(epochs_num), Ws, '#4C72B0')\n",
    "plt.plot(range(epochs_num), bs, '#C44E52')\n",
    "plt.plot([TRUE_W] * epochs_num, '#4C72B0', ls=\"--\")\n",
    "plt.plot([TRUE_b] * epochs_num, '#C44E52', ls=\"--\")\n",
    "\n",
    "#Grids\n",
    "plt.axes().xaxis.set_minor_locator(mpl.ticker.AutoMinorLocator(5))\n",
    "plt.axes().yaxis.set_minor_locator(mpl.ticker.AutoMinorLocator(5))\n",
    "plt.grid(b=True, which=\"major\", color=\"gray\", linewidth=1.0, linestyle=\"--\")\n",
    "plt.grid(b=True, which=\"minor\", color=\"gray\", linewidth=0.5, linestyle=\"--\")\n",
    "\n",
    "#legend, label\n",
    "plt.legend(['W', 'b', 'True W', 'True b'])\n",
    "plt.xlabel(\"Epochs\")\n",
    "\n",
    "plt.show()"
   ]
  },
  {
   "cell_type": "markdown",
   "metadata": {
    "heading_collapsed": true,
    "hidden": true
   },
   "source": [
    "### Custom training: walkthrough (keras)"
   ]
  },
  {
   "cell_type": "markdown",
   "metadata": {
    "heading_collapsed": true
   },
   "source": [
    "# AymericDamien Examples "
   ]
  },
  {
   "cell_type": "markdown",
   "metadata": {
    "hidden": true
   },
   "source": [
    "## SNN with keras "
   ]
  },
  {
   "cell_type": "markdown",
   "metadata": {
    "hidden": true
   },
   "source": [
    "## SNN with LLapi "
   ]
  },
  {
   "cell_type": "markdown",
   "metadata": {
    "heading_collapsed": true,
    "hidden": true
   },
   "source": [
    "## CNN with keras"
   ]
  },
  {
   "cell_type": "markdown",
   "metadata": {
    "hidden": true
   },
   "source": [
    "## CNN with LLapi "
   ]
  },
  {
   "cell_type": "markdown",
   "metadata": {
    "hidden": true
   },
   "source": [
    "## Save & Restore "
   ]
  },
  {
   "cell_type": "markdown",
   "metadata": {
    "heading_collapsed": true,
    "hidden": true
   },
   "source": [
    "## Custom Layers "
   ]
  }
 ],
 "metadata": {
  "kernelspec": {
   "display_name": "Python 3",
   "language": "python",
   "name": "python3"
  },
  "language_info": {
   "codemirror_mode": {
    "name": "ipython",
    "version": 3
   },
   "file_extension": ".py",
   "mimetype": "text/x-python",
   "name": "python",
   "nbconvert_exporter": "python",
   "pygments_lexer": "ipython3",
   "version": "3.6.9"
  },
  "toc": {
   "base_numbering": 1,
   "nav_menu": {},
   "number_sections": true,
   "sideBar": false,
   "skip_h1_title": false,
   "title_cell": "",
   "title_sidebar": "",
   "toc_cell": false,
   "toc_position": {},
   "toc_section_display": true,
   "toc_window_display": false
  },
  "varInspector": {
   "cols": {
    "lenName": 16,
    "lenType": 16,
    "lenVar": 40
   },
   "kernels_config": {
    "python": {
     "delete_cmd_postfix": "",
     "delete_cmd_prefix": "del ",
     "library": "var_list.py",
     "varRefreshCmd": "print(var_dic_list())"
    },
    "r": {
     "delete_cmd_postfix": ") ",
     "delete_cmd_prefix": "rm(",
     "library": "var_list.r",
     "varRefreshCmd": "cat(var_dic_list()) "
    }
   },
   "types_to_exclude": [
    "module",
    "function",
    "builtin_function_or_method",
    "instance",
    "_Feature"
   ],
   "window_display": false
  }
 },
 "nbformat": 4,
 "nbformat_minor": 4
}
